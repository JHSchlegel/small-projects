{
 "cells": [
  {
   "cell_type": "code",
   "execution_count": 1,
   "metadata": {},
   "outputs": [],
   "source": [
    "%load_ext autoreload\n",
    "%autoreload 2"
   ]
  },
  {
   "cell_type": "code",
   "execution_count": 2,
   "metadata": {},
   "outputs": [
    {
     "name": "stdout",
     "output_type": "stream",
     "text": [
      "Initializing Webdriver at local time: 23:19:46\n",
      "Cookies accepted\n",
      "Exiting...\n",
      "Error occured.\n",
      "Message: stale element reference: stale element not found\n",
      "  (Session info: chrome=115.0.5790.170)\n",
      "\n"
     ]
    }
   ],
   "source": [
    "from football.football import Transfer\n",
    "\n",
    "# with Booking(teardown = True) as bot:\n",
    "# if browser should be closed in the end\n",
    "try:\n",
    "    with Transfer(teardown = True) as bot:\n",
    "        bot.land_first_page()\n",
    "        bot.close_popup()\n",
    "        #page_1 = bot.get_report()\n",
    "        pages = bot.click_next()\n",
    "\n",
    "except Exception as e:\n",
    "    print(\"Error occured.\")\n",
    "    print(e)"
   ]
  },
  {
   "cell_type": "code",
   "execution_count": 3,
   "metadata": {},
   "outputs": [],
   "source": [
    "import json"
   ]
  }
 ],
 "metadata": {
  "kernelspec": {
   "display_name": "MachineLearning",
   "language": "python",
   "name": "python3"
  },
  "language_info": {
   "codemirror_mode": {
    "name": "ipython",
    "version": 3
   },
   "file_extension": ".py",
   "mimetype": "text/x-python",
   "name": "python",
   "nbconvert_exporter": "python",
   "pygments_lexer": "ipython3",
   "version": "3.10.12"
  },
  "orig_nbformat": 4
 },
 "nbformat": 4,
 "nbformat_minor": 2
}
