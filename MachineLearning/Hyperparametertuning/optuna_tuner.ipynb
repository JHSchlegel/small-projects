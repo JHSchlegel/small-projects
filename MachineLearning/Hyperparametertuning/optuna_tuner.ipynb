{
 "cells": [
  {
   "cell_type": "markdown",
   "metadata": {},
   "source": [
    "# Hyperparameter Tuning Using Optuna"
   ]
  },
  {
   "cell_type": "markdown",
   "metadata": {},
   "source": [
    "## Creating a Class for Easier Hyperparameter Tuning With Optuna"
   ]
  },
  {
   "cell_type": "code",
   "execution_count": 6,
   "metadata": {},
   "outputs": [
    {
     "name": "stdout",
     "output_type": "stream",
     "text": [
      "The blackcellmagic extension is already loaded. To reload it, use:\n",
      "  %reload_ext blackcellmagic\n"
     ]
    }
   ],
   "source": [
    "# package imports for OptunaTuner class\n",
    "import logging\n",
    "import optuna\n",
    "import pandas as pd\n",
    "from typing import Callable\n",
    "from pickle import dump\n",
    "%load_ext blackcellmagic"
   ]
  },
  {
   "cell_type": "code",
   "execution_count": 7,
   "metadata": {},
   "outputs": [],
   "source": [
    "class OptunaTuner:\n",
    "    def __init__(\n",
    "        self,\n",
    "        objective: Callable[[optuna.trial.Trial], float],\n",
    "        pruner: optuna.pruners,\n",
    "        n_trials: int = 100,\n",
    "        seed: int = 123,\n",
    "        study_timeout: int = 5 * 3600,\n",
    "        direction: str = \"minimize\",\n",
    "        study_name: str = None,\n",
    "        save_plots: bool = False,\n",
    "    ):\n",
    "        \"\"\"Set up the Optuna tuner.\n",
    "\n",
    "        Args:\n",
    "            objective (Callable[[optuna.trial.Trial], float]): Objective function to optimize.\n",
    "            pruner (optuna.pruners): Pruner to use.\n",
    "            n_trials (int, optional): Number of trials. Defaults to 100.\n",
    "            seed (int, optional): Random seed to use. Defaults to 123.\n",
    "            study_timeout (int, optional): Automatic termination after how many seconds. Defaults to 5*3600.\n",
    "            direction (str, optional): Whether to minimize or maximize objective. Defaults to \"minimize\".\n",
    "            study_name (str, optional): Name of the optuna study. Defaults to None.\n",
    "            save_plots (bool, optional): Whether to save the plotly plots or not. Defaults to False.\n",
    "        \"\"\"\n",
    "        self.objective = objective\n",
    "        self.pruner = pruner\n",
    "        self.n_trials = n_trials\n",
    "        self.seed = seed\n",
    "        self.study_timeout = study_timeout\n",
    "        self.direction = direction\n",
    "        self.study_name = study_name if study_name else \"optuna_study\"\n",
    "        self.save_plots = save_plots\n",
    "\n",
    "        # Set up logging\n",
    "        self.logger = logging.getLogger()\n",
    "        if not self.logger.handlers:\n",
    "            self.logger.setLevel(logging.INFO)\n",
    "            self.logger.addHandler(logging.FileHandler(f\"{self.study_name}.log\", mode=\"w\"))\n",
    "            optuna.logging.enable_propagation()\n",
    "            optuna.logging.disable_default_handler()\n",
    "        else:\n",
    "            self.logger.handlers.clear()\n",
    "            self.logger.setLevel(logging.INFO)\n",
    "            self.logger.addHandler(logging.FileHandler(f\"{self.study_name}.log\", mode=\"w\"))\n",
    "            optuna.logging.enable_propagation()\n",
    "            optuna.logging.disable_default_handler()\n",
    "\n",
    "    def run_study(self):\n",
    "        \"\"\"\n",
    "        Runs the optimization study.\n",
    "        \"\"\"\n",
    "        self.logger.info(\"Start optimization.\")\n",
    "\n",
    "        self.study = optuna.create_study(\n",
    "            direction=self.direction,\n",
    "            sampler=optuna.samplers.TPESampler(seed=self.seed),\n",
    "            pruner=self.pruner,\n",
    "        )\n",
    "\n",
    "        self.study.optimize(\n",
    "            self.objective,\n",
    "            n_trials=self.n_trials,\n",
    "            timeout=self.study_timeout,\n",
    "            show_progress_bar=True,\n",
    "        )\n",
    "\n",
    "        # Save study results to CSV\n",
    "        df = self.study.trials_dataframe()\n",
    "        df.to_csv(f\"{self.study_name}_results.csv\")\n",
    "        # Save best parameters to CSV and pickle\n",
    "        self.logger.info(f\"Best params: {self.study.best_params}\")\n",
    "        self.save_best_params()\n",
    "\n",
    "    def save_best_params(self):\n",
    "        \"\"\"\n",
    "        Saves the best parameters to a CSV file.\n",
    "        \"\"\"\n",
    "        best_params = pd.DataFrame(\n",
    "            self.study.best_params.items(), columns=[\"parameter\", \"value\"]\n",
    "        )\n",
    "        best_params.to_csv(f\"{self.study_name}_best_params.csv\", index=False)\n",
    "        with open(f\"{self.study_name}_best_params.pkl\", \"wb\") as f:\n",
    "            dump(self.study.best_params, f)\n",
    "        self.logger.info(\"Best parameters saved in csv and pkl format.\")\n",
    "\n",
    "    def plot_results(self):\n",
    "        \"\"\"Generates and saves plotly plots of the study results.\"\"\"\n",
    "\n",
    "        # Plot optimization history\n",
    "        optim_hist = optuna.visualization.plot_optimization_history(self.study)\n",
    "        optim_hist.show()\n",
    "\n",
    "        # Plot parameter importances\n",
    "        p_import = optuna.visualization.plot_param_importances(self.study)\n",
    "        p_import.show()\n",
    "\n",
    "        # Plot parameter relationships\n",
    "        contour = optuna.visualization.plot_contour(self.study)\n",
    "        contour.show\n",
    "        slice = optuna.visualization.plot_slice(self.study)\n",
    "        slice.show()\n",
    "\n",
    "        # Plot Timeline\n",
    "        timeline = optuna.visualization.plot_timeline(self.study)\n",
    "        timeline.show()\n",
    "\n",
    "        # Parallel Coordinate Plot\n",
    "        parallel = optuna.visualization.plot_parallel_coordinate(self.study)\n",
    "        parallel.show()\n",
    "\n",
    "        # Save plots\n",
    "        if self.save_plots:\n",
    "            optim_hist.write_image(f\"{self.study_name}_optimization_history.png\")\n",
    "            p_import.write_image(f\"{self.study_name}_param_importances.png\")\n",
    "            contour.write_image(f\"{self.study_name}_contour.png\")\n",
    "            slice.write_image(f\"{self.study_name}_slice.png\")\n",
    "            timeline.write_image(f\"{self.study_name}_timeline.png\")\n",
    "            parallel.write_image(f\"{self.study_name}_parallel.png\")\n",
    "            \n",
    "            self.logger.info(\"Plots saved.\")"
   ]
  },
  {
   "cell_type": "markdown",
   "metadata": {},
   "source": [
    "## Elastic Net Example"
   ]
  },
  {
   "cell_type": "code",
   "execution_count": 8,
   "metadata": {},
   "outputs": [],
   "source": [
    "# imports for lasso regression example\n",
    "import numpy as np\n",
    "from sklearn import datasets\n",
    "from sklearn.linear_model import ElasticNet\n",
    "from sklearn.model_selection import KFold\n",
    "from sklearn.metrics import mean_squared_error\n",
    "from sklearn.preprocessing import StandardScaler\n",
    "import optuna"
   ]
  },
  {
   "cell_type": "code",
   "execution_count": 10,
   "metadata": {},
   "outputs": [
    {
     "data": {
      "application/vnd.jupyter.widget-view+json": {
       "model_id": "21150cccc32f4bd3b69092d644d7a1c1",
       "version_major": 2,
       "version_minor": 0
      },
      "text/plain": [
       "  0%|          | 0/100 [00:00<?, ?it/s]"
      ]
     },
     "metadata": {},
     "output_type": "display_data"
    },
    {
     "name": "stderr",
     "output_type": "stream",
     "text": [
      "/home/janhsc/miniconda3/envs/MachineLearning/lib/python3.10/site-packages/sklearn/linear_model/_coordinate_descent.py:628: ConvergenceWarning:\n",
      "\n",
      "Objective did not converge. You might want to increase the number of iterations, check the scale of the features or consider increasing regularisation. Duality gap: 7.331e+05, tolerance: 3.757e+02\n",
      "\n",
      "/home/janhsc/miniconda3/envs/MachineLearning/lib/python3.10/site-packages/sklearn/linear_model/_coordinate_descent.py:628: ConvergenceWarning:\n",
      "\n",
      "Objective did not converge. You might want to increase the number of iterations, check the scale of the features or consider increasing regularisation. Duality gap: 8.467e+05, tolerance: 3.741e+02\n",
      "\n",
      "/home/janhsc/miniconda3/envs/MachineLearning/lib/python3.10/site-packages/sklearn/linear_model/_coordinate_descent.py:628: ConvergenceWarning:\n",
      "\n",
      "Objective did not converge. You might want to increase the number of iterations, check the scale of the features or consider increasing regularisation. Duality gap: 1.049e+06, tolerance: 3.731e+02\n",
      "\n",
      "/home/janhsc/miniconda3/envs/MachineLearning/lib/python3.10/site-packages/sklearn/linear_model/_coordinate_descent.py:628: ConvergenceWarning:\n",
      "\n",
      "Objective did not converge. You might want to increase the number of iterations, check the scale of the features or consider increasing regularisation. Duality gap: 3.232e+06, tolerance: 3.045e+02\n",
      "\n",
      "/home/janhsc/miniconda3/envs/MachineLearning/lib/python3.10/site-packages/sklearn/linear_model/_coordinate_descent.py:628: ConvergenceWarning:\n",
      "\n",
      "Objective did not converge. You might want to increase the number of iterations, check the scale of the features or consider increasing regularisation. Duality gap: 3.297e+06, tolerance: 3.033e+02\n",
      "\n",
      "/home/janhsc/miniconda3/envs/MachineLearning/lib/python3.10/site-packages/sklearn/linear_model/_coordinate_descent.py:628: ConvergenceWarning:\n",
      "\n",
      "Objective did not converge. You might want to increase the number of iterations, check the scale of the features or consider increasing regularisation. Duality gap: 3.516e+06, tolerance: 3.024e+02\n",
      "\n",
      "/home/janhsc/miniconda3/envs/MachineLearning/lib/python3.10/site-packages/sklearn/linear_model/_coordinate_descent.py:628: ConvergenceWarning:\n",
      "\n",
      "Objective did not converge. You might want to increase the number of iterations, check the scale of the features or consider increasing regularisation. Duality gap: 2.120e+02, tolerance: 9.355e+01\n",
      "\n",
      "/home/janhsc/miniconda3/envs/MachineLearning/lib/python3.10/site-packages/sklearn/linear_model/_coordinate_descent.py:628: ConvergenceWarning:\n",
      "\n",
      "Objective did not converge. You might want to increase the number of iterations, check the scale of the features or consider increasing regularisation. Duality gap: 3.293e+06, tolerance: 1.769e+02\n",
      "\n",
      "/home/janhsc/miniconda3/envs/MachineLearning/lib/python3.10/site-packages/sklearn/linear_model/_coordinate_descent.py:628: ConvergenceWarning:\n",
      "\n",
      "Objective did not converge. You might want to increase the number of iterations, check the scale of the features or consider increasing regularisation. Duality gap: 3.359e+06, tolerance: 1.762e+02\n",
      "\n",
      "/home/janhsc/miniconda3/envs/MachineLearning/lib/python3.10/site-packages/sklearn/linear_model/_coordinate_descent.py:628: ConvergenceWarning:\n",
      "\n",
      "Objective did not converge. You might want to increase the number of iterations, check the scale of the features or consider increasing regularisation. Duality gap: 3.553e+06, tolerance: 1.757e+02\n",
      "\n"
     ]
    },
    {
     "name": "stdout",
     "output_type": "stream",
     "text": [
      "[I 2024-03-09 11:30:47,543] Trial 0 finished with value: 26192.19415362568 and parameters: {'alpha': 0.6964691855978616, 'l1_ratio': 0.28613933495037946, 'positive': False, 'max_iter': 2744, 'tol': 7.01799283113844e-05}. Best is trial 0 with value: 26192.19415362568.\n",
      "[I 2024-03-09 11:30:47,550] Trial 1 finished with value: 26302.637741241222 and parameters: {'alpha': 0.9807641983846155, 'l1_ratio': 0.6848297385848633, 'positive': True, 'max_iter': 484, 'tol': 0.00028714378103928377}. Best is trial 0 with value: 26192.19415362568.\n",
      "[I 2024-03-09 11:30:47,556] Trial 2 finished with value: 26153.098784606816 and parameters: {'alpha': 0.4385722446796244, 'l1_ratio': 0.05967789660956835, 'positive': False, 'max_iter': 231, 'tol': 2.2433834533274747e-05}. Best is trial 2 with value: 26153.098784606816.\n",
      "[I 2024-03-09 11:30:47,563] Trial 3 finished with value: 26099.09717111968 and parameters: {'alpha': 0.5315513738418384, 'l1_ratio': 0.5318275870968661, 'positive': False, 'max_iter': 2808, 'tol': 0.00016674277362987863}. Best is trial 3 with value: 26099.09717111968.\n",
      "[I 2024-03-09 11:30:47,570] Trial 4 finished with value: 26363.53522878533 and parameters: {'alpha': 0.7224433825702216, 'l1_ratio': 0.3229589138531782, 'positive': True, 'max_iter': 385, 'tol': 0.0001827899220785679}. Best is trial 3 with value: 26099.09717111968.\n",
      "[I 2024-03-09 11:30:47,576] Trial 5 finished with value: 26049.691726748944 and parameters: {'alpha': 0.09210493994507518, 'l1_ratio': 0.43370117267952824, 'positive': False, 'max_iter': 709, 'tol': 4.212330570736679e-05}. Best is trial 5 with value: 26049.691726748944.\n",
      "[I 2024-03-09 11:30:47,583] Trial 6 finished with value: 26228.062448445282 and parameters: {'alpha': 0.4263513069628082, 'l1_ratio': 0.8933891631171348, 'positive': True, 'max_iter': 1766, 'tol': 1.7030868284599993e-05}. Best is trial 5 with value: 26049.691726748944.\n",
      "[I 2024-03-09 11:30:47,591] Trial 7 finished with value: 26256.57356868635 and parameters: {'alpha': 0.3172854818203209, 'l1_ratio': 0.4148262119536318, 'positive': True, 'max_iter': 922, 'tol': 0.0009356632482180258}. Best is trial 5 with value: 26049.691726748944.\n",
      "[I 2024-03-09 11:30:47,597] Trial 8 finished with value: 26084.403995998917 and parameters: {'alpha': 0.5194851192598093, 'l1_ratio': 0.6128945257629677, 'positive': False, 'max_iter': 1604, 'tol': 0.00012306541283893792}. Best is trial 5 with value: 26049.691726748944.\n",
      "[I 2024-03-09 11:30:47,604] Trial 9 finished with value: 26093.399000909936 and parameters: {'alpha': 0.3427638337743084, 'l1_ratio': 0.3041207890271841, 'positive': False, 'max_iter': 5632, 'tol': 0.00010491671278319497}. Best is trial 5 with value: 26049.691726748944.\n",
      "[I 2024-03-09 11:30:47,616] Trial 10 finished with value: 26052.444438356008 and parameters: {'alpha': 0.06889158546742416, 'l1_ratio': 0.9863798222314493, 'positive': False, 'max_iter': 103, 'tol': 4.368893874919379e-05}. Best is trial 5 with value: 26049.691726748944.\n",
      "[I 2024-03-09 11:30:47,627] Trial 11 finished with value: 26064.033983293488 and parameters: {'alpha': 0.006453374219829056, 'l1_ratio': 0.9444656052010494, 'positive': False, 'max_iter': 110, 'tol': 3.5415564121989416e-05}. Best is trial 5 with value: 26049.691726748944.\n",
      "[I 2024-03-09 11:30:47,639] Trial 12 finished with value: 26042.58413262592 and parameters: {'alpha': 0.1049152166318279, 'l1_ratio': 0.7522550118761866, 'positive': False, 'max_iter': 101, 'tol': 1.0878866376925218e-05}. Best is trial 12 with value: 26042.58413262592.\n",
      "[I 2024-03-09 11:30:47,651] Trial 13 finished with value: 26048.266751910374 and parameters: {'alpha': 0.19232207105154253, 'l1_ratio': 0.7278259329003384, 'positive': False, 'max_iter': 249, 'tol': 1.0768485034484211e-05}. Best is trial 12 with value: 26042.58413262592.\n",
      "[I 2024-03-09 11:30:47,661] Trial 14 finished with value: 26045.683924900888 and parameters: {'alpha': 0.17538829565424222, 'l1_ratio': 0.7767377450242181, 'positive': False, 'max_iter': 189, 'tol': 1.0170803688691841e-05}. Best is trial 12 with value: 26042.58413262592.\n",
      "[I 2024-03-09 11:30:47,672] Trial 15 finished with value: 26044.83615711975 and parameters: {'alpha': 0.19623572345647122, 'l1_ratio': 0.8160591907654154, 'positive': False, 'max_iter': 168, 'tol': 1.010115367316361e-05}. Best is trial 12 with value: 26042.58413262592.\n",
      "[I 2024-03-09 11:30:47,683] Trial 16 finished with value: 26044.695223702336 and parameters: {'alpha': 0.20925744353235726, 'l1_ratio': 0.8414149107253112, 'positive': False, 'max_iter': 101, 'tol': 2.0584926956795804e-05}. Best is trial 12 with value: 26042.58413262592.\n",
      "[I 2024-03-09 11:30:47,694] Trial 17 finished with value: 26062.148254369356 and parameters: {'alpha': 0.005978209644977167, 'l1_ratio': 0.8744399378075134, 'positive': False, 'max_iter': 107, 'tol': 2.0570869214387032e-05}. Best is trial 12 with value: 26042.58413262592.\n",
      "[I 2024-03-09 11:30:47,703] Trial 18 pruned. \n",
      "[I 2024-03-09 11:30:47,714] Trial 19 finished with value: 26041.05622982059 and parameters: {'alpha': 0.13259277906516953, 'l1_ratio': 0.8182366901913751, 'positive': False, 'max_iter': 507, 'tol': 3.1589182972600855e-05}. Best is trial 19 with value: 26041.05622982059.\n",
      "[I 2024-03-09 11:30:47,726] Trial 20 finished with value: 26051.228403183166 and parameters: {'alpha': 0.10910413121754992, 'l1_ratio': 0.994855011386929, 'positive': False, 'max_iter': 402, 'tol': 3.270023836124993e-05}. Best is trial 19 with value: 26041.05622982059.\n",
      "[I 2024-03-09 11:30:47,736] Trial 21 pruned. \n"
     ]
    },
    {
     "name": "stderr",
     "output_type": "stream",
     "text": [
      "/home/janhsc/miniconda3/envs/MachineLearning/lib/python3.10/site-packages/sklearn/linear_model/_coordinate_descent.py:628: ConvergenceWarning:\n",
      "\n",
      "Objective did not converge. You might want to increase the number of iterations, check the scale of the features or consider increasing regularisation. Duality gap: 8.915e+03, tolerance: 4.692e+02\n",
      "\n"
     ]
    },
    {
     "name": "stdout",
     "output_type": "stream",
     "text": [
      "[I 2024-03-09 11:30:47,748] Trial 22 finished with value: 26040.455928247775 and parameters: {'alpha': 0.1525563597193584, 'l1_ratio': 0.849097536018296, 'positive': False, 'max_iter': 541, 'tol': 2.585206981598495e-05}. Best is trial 22 with value: 26040.455928247775.\n",
      "[I 2024-03-09 11:30:47,759] Trial 23 finished with value: 26046.028884515716 and parameters: {'alpha': 0.12955289287015526, 'l1_ratio': 0.7514780220575703, 'positive': False, 'max_iter': 609, 'tol': 2.8705423117628808e-05}. Best is trial 22 with value: 26040.455928247775.\n",
      "[I 2024-03-09 11:30:47,773] Trial 24 finished with value: 26084.433068359183 and parameters: {'alpha': 0.0018730592122092604, 'l1_ratio': 0.8493483603573282, 'positive': False, 'max_iter': 619, 'tol': 5.495129838658247e-05}. Best is trial 22 with value: 26040.455928247775.\n",
      "[I 2024-03-09 11:30:47,785] Trial 25 finished with value: 26043.099530576128 and parameters: {'alpha': 0.12215069795075262, 'l1_ratio': 0.9035193606967687, 'positive': False, 'max_iter': 355, 'tol': 1.418418278694914e-05}. Best is trial 22 with value: 26040.455928247775.\n",
      "[I 2024-03-09 11:30:47,794] Trial 26 pruned. \n",
      "[I 2024-03-09 11:30:47,803] Trial 27 pruned. \n",
      "[I 2024-03-09 11:30:47,814] Trial 28 finished with value: 26040.87144932112 and parameters: {'alpha': 0.14935566003678322, 'l1_ratio': 0.9259352166092387, 'positive': False, 'max_iter': 228, 'tol': 2.7660140053900263e-05}. Best is trial 22 with value: 26040.455928247775.\n",
      "[I 2024-03-09 11:30:47,826] Trial 29 finished with value: 26037.70412896472 and parameters: {'alpha': 0.16750730720704493, 'l1_ratio': 0.9264081390247195, 'positive': False, 'max_iter': 277, 'tol': 6.030170650150352e-05}. Best is trial 29 with value: 26037.70412896472.\n",
      "[I 2024-03-09 11:30:47,836] Trial 30 pruned. \n",
      "[I 2024-03-09 11:30:47,849] Trial 31 finished with value: 26046.700844023082 and parameters: {'alpha': 0.16009902485295135, 'l1_ratio': 0.9958702433856649, 'positive': False, 'max_iter': 278, 'tol': 5.290629665297405e-05}. Best is trial 29 with value: 26037.70412896472.\n",
      "[I 2024-03-09 11:30:47,860] Trial 32 finished with value: 26038.543913967045 and parameters: {'alpha': 0.17196100864438163, 'l1_ratio': 0.9137152301235119, 'positive': False, 'max_iter': 568, 'tol': 3.362756683283639e-05}. Best is trial 29 with value: 26037.70412896472.\n",
      "[I 2024-03-09 11:30:47,872] Trial 33 finished with value: 26037.702823810167 and parameters: {'alpha': 0.25002898850247457, 'l1_ratio': 0.9225097686336162, 'positive': False, 'max_iter': 449, 'tol': 7.108204603658521e-05}. Best is trial 33 with value: 26037.702823810167.\n",
      "[I 2024-03-09 11:30:47,883] Trial 34 pruned. \n",
      "[I 2024-03-09 11:30:47,893] Trial 35 pruned. \n",
      "[I 2024-03-09 11:30:47,903] Trial 36 pruned. \n",
      "[I 2024-03-09 11:30:47,916] Trial 37 finished with value: 26053.315378710813 and parameters: {'alpha': 0.05760548640646945, 'l1_ratio': 0.9438378975741367, 'positive': False, 'max_iter': 747, 'tol': 5.329190948087768e-05}. Best is trial 33 with value: 26037.702823810167.\n",
      "[I 2024-03-09 11:30:47,925] Trial 38 pruned. \n",
      "[I 2024-03-09 11:30:47,935] Trial 39 pruned. \n",
      "[I 2024-03-09 11:30:47,946] Trial 40 pruned. \n"
     ]
    },
    {
     "name": "stderr",
     "output_type": "stream",
     "text": [
      "/home/janhsc/miniconda3/envs/MachineLearning/lib/python3.10/site-packages/sklearn/linear_model/_coordinate_descent.py:628: ConvergenceWarning:\n",
      "\n",
      "Objective did not converge. You might want to increase the number of iterations, check the scale of the features or consider increasing regularisation. Duality gap: 3.562e+02, tolerance: 2.228e+02\n",
      "\n",
      "/home/janhsc/miniconda3/envs/MachineLearning/lib/python3.10/site-packages/sklearn/linear_model/_coordinate_descent.py:628: ConvergenceWarning:\n",
      "\n",
      "Objective did not converge. You might want to increase the number of iterations, check the scale of the features or consider increasing regularisation. Duality gap: 4.132e+05, tolerance: 9.549e+02\n",
      "\n",
      "/home/janhsc/miniconda3/envs/MachineLearning/lib/python3.10/site-packages/sklearn/linear_model/_coordinate_descent.py:628: ConvergenceWarning:\n",
      "\n",
      "Objective did not converge. You might want to increase the number of iterations, check the scale of the features or consider increasing regularisation. Duality gap: 4.457e+05, tolerance: 9.510e+02\n",
      "\n",
      "/home/janhsc/miniconda3/envs/MachineLearning/lib/python3.10/site-packages/sklearn/linear_model/_coordinate_descent.py:628: ConvergenceWarning:\n",
      "\n",
      "Objective did not converge. You might want to increase the number of iterations, check the scale of the features or consider increasing regularisation. Duality gap: 8.088e+05, tolerance: 9.482e+02\n",
      "\n"
     ]
    },
    {
     "name": "stdout",
     "output_type": "stream",
     "text": [
      "[I 2024-03-09 11:30:47,958] Trial 41 finished with value: 26037.579459370227 and parameters: {'alpha': 0.16612066100455697, 'l1_ratio': 0.9221441164439784, 'positive': False, 'max_iter': 234, 'tol': 2.2769349438977857e-05}. Best is trial 41 with value: 26037.579459370227.\n",
      "[I 2024-03-09 11:30:47,971] Trial 42 finished with value: 26046.464860623095 and parameters: {'alpha': 0.15299420353327295, 'l1_ratio': 0.9756292181507696, 'positive': False, 'max_iter': 286, 'tol': 2.301655034626176e-05}. Best is trial 41 with value: 26037.579459370227.\n",
      "[I 2024-03-09 11:30:47,982] Trial 43 pruned. \n",
      "[I 2024-03-09 11:30:47,993] Trial 44 pruned. \n",
      "[I 2024-03-09 11:30:48,006] Trial 45 finished with value: 26047.100932164918 and parameters: {'alpha': 0.05372851550525773, 'l1_ratio': 0.8334801682120019, 'positive': False, 'max_iter': 223, 'tol': 2.6093262790627616e-05}. Best is trial 41 with value: 26037.579459370227.\n",
      "[I 2024-03-09 11:30:48,016] Trial 46 pruned. \n",
      "[I 2024-03-09 11:30:48,026] Trial 47 pruned. \n",
      "[I 2024-03-09 11:30:48,038] Trial 48 finished with value: 26039.091446062826 and parameters: {'alpha': 0.17598634835350882, 'l1_ratio': 0.8966336870205862, 'positive': False, 'max_iter': 831, 'tol': 5.53673669616714e-05}. Best is trial 41 with value: 26037.579459370227.\n",
      "[I 2024-03-09 11:30:48,050] Trial 49 finished with value: 26038.717397972505 and parameters: {'alpha': 0.18277273989895781, 'l1_ratio': 0.9067130171467775, 'positive': False, 'max_iter': 888, 'tol': 6.0568436572184315e-05}. Best is trial 41 with value: 26037.579459370227.\n",
      "[I 2024-03-09 11:30:48,062] Trial 50 finished with value: 26041.50446215703 and parameters: {'alpha': 0.09826793243740933, 'l1_ratio': 0.8018091973654686, 'positive': False, 'max_iter': 1186, 'tol': 0.0001222374020945858}. Best is trial 41 with value: 26037.579459370227.\n",
      "[I 2024-03-09 11:30:48,074] Trial 51 finished with value: 26039.01641656323 and parameters: {'alpha': 0.18841904564452655, 'l1_ratio': 0.8973670231097907, 'positive': False, 'max_iter': 789, 'tol': 5.854223888986609e-05}. Best is trial 41 with value: 26037.579459370227.\n",
      "[I 2024-03-09 11:30:48,085] Trial 52 pruned. \n",
      "[I 2024-03-09 11:30:48,095] Trial 53 pruned. \n",
      "[I 2024-03-09 11:30:48,106] Trial 54 pruned. \n",
      "[I 2024-03-09 11:30:48,116] Trial 55 pruned. \n",
      "[I 2024-03-09 11:30:48,129] Trial 56 finished with value: 26049.26827997214 and parameters: {'alpha': 0.07575889785977566, 'l1_ratio': 0.948525383168446, 'positive': False, 'max_iter': 1106, 'tol': 4.3678032756255584e-05}. Best is trial 41 with value: 26037.579459370227.\n",
      "[I 2024-03-09 11:30:48,139] Trial 57 pruned. \n",
      "[I 2024-03-09 11:30:48,153] Trial 58 finished with value: 26053.859017201317 and parameters: {'alpha': 0.03581706533195245, 'l1_ratio': 0.9024573008664311, 'positive': False, 'max_iter': 139, 'tol': 0.00011104328123218266}. Best is trial 41 with value: 26037.579459370227.\n",
      "[I 2024-03-09 11:30:48,164] Trial 59 pruned. \n",
      "[I 2024-03-09 11:30:48,174] Trial 60 pruned. \n",
      "[I 2024-03-09 11:30:48,186] Trial 61 pruned. \n",
      "[I 2024-03-09 11:30:48,196] Trial 62 pruned. \n",
      "[I 2024-03-09 11:30:48,208] Trial 63 finished with value: 26035.155047234006 and parameters: {'alpha': 0.26311917699247456, 'l1_ratio': 0.9662650311645659, 'positive': False, 'max_iter': 568, 'tol': 8.766900858206071e-05}. Best is trial 63 with value: 26035.155047234006.\n",
      "[I 2024-03-09 11:30:48,220] Trial 64 finished with value: 26035.918396777754 and parameters: {'alpha': 0.23530442989681286, 'l1_ratio': 0.956975421278713, 'positive': False, 'max_iter': 572, 'tol': 8.886298567450159e-05}. Best is trial 63 with value: 26035.155047234006.\n",
      "[I 2024-03-09 11:30:48,231] Trial 65 pruned. \n",
      "[I 2024-03-09 11:30:48,242] Trial 66 pruned. \n",
      "[I 2024-03-09 11:30:48,252] Trial 67 pruned. \n",
      "[I 2024-03-09 11:30:48,264] Trial 68 pruned. \n",
      "[I 2024-03-09 11:30:48,274] Trial 69 pruned. \n",
      "[I 2024-03-09 11:30:48,287] Trial 70 finished with value: 26044.29641643765 and parameters: {'alpha': 0.13678496379380362, 'l1_ratio': 0.9511665495976022, 'positive': False, 'max_iter': 368, 'tol': 0.00014835924640633873}. Best is trial 63 with value: 26035.155047234006.\n",
      "[I 2024-03-09 11:30:48,299] Trial 71 finished with value: 26038.659209271176 and parameters: {'alpha': 0.17351366703643933, 'l1_ratio': 0.9095842149084504, 'positive': False, 'max_iter': 555, 'tol': 5.998157032498795e-05}. Best is trial 63 with value: 26035.155047234006.\n",
      "[I 2024-03-09 11:30:48,309] Trial 72 pruned. \n",
      "[I 2024-03-09 11:30:48,319] Trial 73 pruned. \n",
      "[I 2024-03-09 11:30:48,330] Trial 74 pruned. \n",
      "[I 2024-03-09 11:30:48,342] Trial 75 pruned. \n",
      "[I 2024-03-09 11:30:48,352] Trial 76 pruned. \n",
      "[I 2024-03-09 11:30:48,363] Trial 77 pruned. \n",
      "[I 2024-03-09 11:30:48,373] Trial 78 pruned. \n",
      "[I 2024-03-09 11:30:48,385] Trial 79 pruned. \n",
      "[I 2024-03-09 11:30:48,395] Trial 80 pruned. \n",
      "[I 2024-03-09 11:30:48,406] Trial 81 pruned. \n",
      "[I 2024-03-09 11:30:48,419] Trial 82 finished with value: 26046.62835999781 and parameters: {'alpha': 0.14165984917269153, 'l1_ratio': 0.9708640474516788, 'positive': False, 'max_iter': 692, 'tol': 4.196311906357738e-05}. Best is trial 63 with value: 26035.155047234006.\n",
      "[I 2024-03-09 11:30:48,431] Trial 83 pruned. \n",
      "[I 2024-03-09 11:30:48,442] Trial 84 pruned. \n",
      "[I 2024-03-09 11:30:48,455] Trial 85 finished with value: 26047.08140502761 and parameters: {'alpha': 0.11382167064686535, 'l1_ratio': 0.9643997096132664, 'positive': False, 'max_iter': 591, 'tol': 4.784788008660964e-05}. Best is trial 63 with value: 26035.155047234006.\n",
      "[I 2024-03-09 11:30:48,466] Trial 86 pruned. \n",
      "[I 2024-03-09 11:30:48,476] Trial 87 pruned. \n",
      "[I 2024-03-09 11:30:48,488] Trial 88 pruned. \n",
      "[I 2024-03-09 11:30:48,499] Trial 89 pruned. \n",
      "[I 2024-03-09 11:30:48,510] Trial 90 pruned. \n",
      "[I 2024-03-09 11:30:48,520] Trial 91 pruned. \n",
      "[I 2024-03-09 11:30:48,531] Trial 92 pruned. \n",
      "[I 2024-03-09 11:30:48,542] Trial 93 pruned. \n",
      "[I 2024-03-09 11:30:48,553] Trial 94 pruned. \n",
      "[I 2024-03-09 11:30:48,564] Trial 95 pruned. \n",
      "[I 2024-03-09 11:30:48,576] Trial 96 pruned. \n",
      "[I 2024-03-09 11:30:48,587] Trial 97 pruned. \n",
      "[I 2024-03-09 11:30:48,597] Trial 98 pruned. \n",
      "[I 2024-03-09 11:30:48,611] Trial 99 finished with value: 26049.150725980824 and parameters: {'alpha': 0.09589452808221205, 'l1_ratio': 0.9757555045648825, 'positive': False, 'max_iter': 645, 'tol': 4.3382550553511776e-05}. Best is trial 63 with value: 26035.155047234006.\n"
     ]
    },
    {
     "data": {
      "application/vnd.plotly.v1+json": {
       "config": {
        "plotlyServerURL": "https://plot.ly"
       },
       "data": [
        {
         "mode": "markers",
         "name": "Objective Value",
         "type": "scatter",
         "x": [
          0,
          1,
          2,
          3,
          4,
          5,
          6,
          7,
          8,
          9,
          10,
          11,
          12,
          13,
          14,
          15,
          16,
          17,
          19,
          20,
          22,
          23,
          24,
          25,
          28,
          29,
          31,
          32,
          33,
          37,
          41,
          42,
          45,
          48,
          49,
          50,
          51,
          56,
          58,
          63,
          64,
          70,
          71,
          82,
          85,
          99
         ],
         "y": [
          26192.19415362568,
          26302.637741241222,
          26153.098784606816,
          26099.09717111968,
          26363.53522878533,
          26049.691726748944,
          26228.062448445282,
          26256.57356868635,
          26084.403995998917,
          26093.399000909936,
          26052.444438356008,
          26064.033983293488,
          26042.58413262592,
          26048.266751910374,
          26045.683924900888,
          26044.83615711975,
          26044.695223702336,
          26062.148254369356,
          26041.05622982059,
          26051.228403183166,
          26040.455928247775,
          26046.028884515716,
          26084.433068359183,
          26043.099530576128,
          26040.87144932112,
          26037.70412896472,
          26046.700844023082,
          26038.543913967045,
          26037.702823810167,
          26053.315378710813,
          26037.579459370227,
          26046.464860623095,
          26047.100932164918,
          26039.091446062826,
          26038.717397972505,
          26041.50446215703,
          26039.01641656323,
          26049.26827997214,
          26053.859017201317,
          26035.155047234006,
          26035.918396777754,
          26044.29641643765,
          26038.659209271176,
          26046.62835999781,
          26047.08140502761,
          26049.150725980824
         ]
        },
        {
         "mode": "lines",
         "name": "Best Value",
         "type": "scatter",
         "x": [
          0,
          1,
          2,
          3,
          4,
          5,
          6,
          7,
          8,
          9,
          10,
          11,
          12,
          13,
          14,
          15,
          16,
          17,
          18,
          19,
          20,
          21,
          22,
          23,
          24,
          25,
          26,
          27,
          28,
          29,
          30,
          31,
          32,
          33,
          34,
          35,
          36,
          37,
          38,
          39,
          40,
          41,
          42,
          43,
          44,
          45,
          46,
          47,
          48,
          49,
          50,
          51,
          52,
          53,
          54,
          55,
          56,
          57,
          58,
          59,
          60,
          61,
          62,
          63,
          64,
          65,
          66,
          67,
          68,
          69,
          70,
          71,
          72,
          73,
          74,
          75,
          76,
          77,
          78,
          79,
          80,
          81,
          82,
          83,
          84,
          85,
          86,
          87,
          88,
          89,
          90,
          91,
          92,
          93,
          94,
          95,
          96,
          97,
          98,
          99
         ],
         "y": [
          26192.19415362568,
          26192.19415362568,
          26153.098784606816,
          26099.09717111968,
          26099.09717111968,
          26049.691726748944,
          26049.691726748944,
          26049.691726748944,
          26049.691726748944,
          26049.691726748944,
          26049.691726748944,
          26049.691726748944,
          26042.58413262592,
          26042.58413262592,
          26042.58413262592,
          26042.58413262592,
          26042.58413262592,
          26042.58413262592,
          26042.58413262592,
          26041.05622982059,
          26041.05622982059,
          26041.05622982059,
          26040.455928247775,
          26040.455928247775,
          26040.455928247775,
          26040.455928247775,
          26040.455928247775,
          26040.455928247775,
          26040.455928247775,
          26037.70412896472,
          26037.70412896472,
          26037.70412896472,
          26037.70412896472,
          26037.702823810167,
          26037.702823810167,
          26037.702823810167,
          26037.702823810167,
          26037.702823810167,
          26037.702823810167,
          26037.702823810167,
          26037.702823810167,
          26037.579459370227,
          26037.579459370227,
          26037.579459370227,
          26037.579459370227,
          26037.579459370227,
          26037.579459370227,
          26037.579459370227,
          26037.579459370227,
          26037.579459370227,
          26037.579459370227,
          26037.579459370227,
          26037.579459370227,
          26037.579459370227,
          26037.579459370227,
          26037.579459370227,
          26037.579459370227,
          26037.579459370227,
          26037.579459370227,
          26037.579459370227,
          26037.579459370227,
          26037.579459370227,
          26037.579459370227,
          26035.155047234006,
          26035.155047234006,
          26035.155047234006,
          26035.155047234006,
          26035.155047234006,
          26035.155047234006,
          26035.155047234006,
          26035.155047234006,
          26035.155047234006,
          26035.155047234006,
          26035.155047234006,
          26035.155047234006,
          26035.155047234006,
          26035.155047234006,
          26035.155047234006,
          26035.155047234006,
          26035.155047234006,
          26035.155047234006,
          26035.155047234006,
          26035.155047234006,
          26035.155047234006,
          26035.155047234006,
          26035.155047234006,
          26035.155047234006,
          26035.155047234006,
          26035.155047234006,
          26035.155047234006,
          26035.155047234006,
          26035.155047234006,
          26035.155047234006,
          26035.155047234006,
          26035.155047234006,
          26035.155047234006,
          26035.155047234006,
          26035.155047234006,
          26035.155047234006,
          26035.155047234006
         ]
        },
        {
         "marker": {
          "color": "#cccccc"
         },
         "mode": "markers",
         "name": "Infeasible Trial",
         "showlegend": false,
         "type": "scatter",
         "x": [],
         "y": []
        }
       ],
       "layout": {
        "template": {
         "data": {
          "bar": [
           {
            "error_x": {
             "color": "#2a3f5f"
            },
            "error_y": {
             "color": "#2a3f5f"
            },
            "marker": {
             "line": {
              "color": "#E5ECF6",
              "width": 0.5
             },
             "pattern": {
              "fillmode": "overlay",
              "size": 10,
              "solidity": 0.2
             }
            },
            "type": "bar"
           }
          ],
          "barpolar": [
           {
            "marker": {
             "line": {
              "color": "#E5ECF6",
              "width": 0.5
             },
             "pattern": {
              "fillmode": "overlay",
              "size": 10,
              "solidity": 0.2
             }
            },
            "type": "barpolar"
           }
          ],
          "carpet": [
           {
            "aaxis": {
             "endlinecolor": "#2a3f5f",
             "gridcolor": "white",
             "linecolor": "white",
             "minorgridcolor": "white",
             "startlinecolor": "#2a3f5f"
            },
            "baxis": {
             "endlinecolor": "#2a3f5f",
             "gridcolor": "white",
             "linecolor": "white",
             "minorgridcolor": "white",
             "startlinecolor": "#2a3f5f"
            },
            "type": "carpet"
           }
          ],
          "choropleth": [
           {
            "colorbar": {
             "outlinewidth": 0,
             "ticks": ""
            },
            "type": "choropleth"
           }
          ],
          "contour": [
           {
            "colorbar": {
             "outlinewidth": 0,
             "ticks": ""
            },
            "colorscale": [
             [
              0,
              "#0d0887"
             ],
             [
              0.1111111111111111,
              "#46039f"
             ],
             [
              0.2222222222222222,
              "#7201a8"
             ],
             [
              0.3333333333333333,
              "#9c179e"
             ],
             [
              0.4444444444444444,
              "#bd3786"
             ],
             [
              0.5555555555555556,
              "#d8576b"
             ],
             [
              0.6666666666666666,
              "#ed7953"
             ],
             [
              0.7777777777777778,
              "#fb9f3a"
             ],
             [
              0.8888888888888888,
              "#fdca26"
             ],
             [
              1,
              "#f0f921"
             ]
            ],
            "type": "contour"
           }
          ],
          "contourcarpet": [
           {
            "colorbar": {
             "outlinewidth": 0,
             "ticks": ""
            },
            "type": "contourcarpet"
           }
          ],
          "heatmap": [
           {
            "colorbar": {
             "outlinewidth": 0,
             "ticks": ""
            },
            "colorscale": [
             [
              0,
              "#0d0887"
             ],
             [
              0.1111111111111111,
              "#46039f"
             ],
             [
              0.2222222222222222,
              "#7201a8"
             ],
             [
              0.3333333333333333,
              "#9c179e"
             ],
             [
              0.4444444444444444,
              "#bd3786"
             ],
             [
              0.5555555555555556,
              "#d8576b"
             ],
             [
              0.6666666666666666,
              "#ed7953"
             ],
             [
              0.7777777777777778,
              "#fb9f3a"
             ],
             [
              0.8888888888888888,
              "#fdca26"
             ],
             [
              1,
              "#f0f921"
             ]
            ],
            "type": "heatmap"
           }
          ],
          "heatmapgl": [
           {
            "colorbar": {
             "outlinewidth": 0,
             "ticks": ""
            },
            "colorscale": [
             [
              0,
              "#0d0887"
             ],
             [
              0.1111111111111111,
              "#46039f"
             ],
             [
              0.2222222222222222,
              "#7201a8"
             ],
             [
              0.3333333333333333,
              "#9c179e"
             ],
             [
              0.4444444444444444,
              "#bd3786"
             ],
             [
              0.5555555555555556,
              "#d8576b"
             ],
             [
              0.6666666666666666,
              "#ed7953"
             ],
             [
              0.7777777777777778,
              "#fb9f3a"
             ],
             [
              0.8888888888888888,
              "#fdca26"
             ],
             [
              1,
              "#f0f921"
             ]
            ],
            "type": "heatmapgl"
           }
          ],
          "histogram": [
           {
            "marker": {
             "pattern": {
              "fillmode": "overlay",
              "size": 10,
              "solidity": 0.2
             }
            },
            "type": "histogram"
           }
          ],
          "histogram2d": [
           {
            "colorbar": {
             "outlinewidth": 0,
             "ticks": ""
            },
            "colorscale": [
             [
              0,
              "#0d0887"
             ],
             [
              0.1111111111111111,
              "#46039f"
             ],
             [
              0.2222222222222222,
              "#7201a8"
             ],
             [
              0.3333333333333333,
              "#9c179e"
             ],
             [
              0.4444444444444444,
              "#bd3786"
             ],
             [
              0.5555555555555556,
              "#d8576b"
             ],
             [
              0.6666666666666666,
              "#ed7953"
             ],
             [
              0.7777777777777778,
              "#fb9f3a"
             ],
             [
              0.8888888888888888,
              "#fdca26"
             ],
             [
              1,
              "#f0f921"
             ]
            ],
            "type": "histogram2d"
           }
          ],
          "histogram2dcontour": [
           {
            "colorbar": {
             "outlinewidth": 0,
             "ticks": ""
            },
            "colorscale": [
             [
              0,
              "#0d0887"
             ],
             [
              0.1111111111111111,
              "#46039f"
             ],
             [
              0.2222222222222222,
              "#7201a8"
             ],
             [
              0.3333333333333333,
              "#9c179e"
             ],
             [
              0.4444444444444444,
              "#bd3786"
             ],
             [
              0.5555555555555556,
              "#d8576b"
             ],
             [
              0.6666666666666666,
              "#ed7953"
             ],
             [
              0.7777777777777778,
              "#fb9f3a"
             ],
             [
              0.8888888888888888,
              "#fdca26"
             ],
             [
              1,
              "#f0f921"
             ]
            ],
            "type": "histogram2dcontour"
           }
          ],
          "mesh3d": [
           {
            "colorbar": {
             "outlinewidth": 0,
             "ticks": ""
            },
            "type": "mesh3d"
           }
          ],
          "parcoords": [
           {
            "line": {
             "colorbar": {
              "outlinewidth": 0,
              "ticks": ""
             }
            },
            "type": "parcoords"
           }
          ],
          "pie": [
           {
            "automargin": true,
            "type": "pie"
           }
          ],
          "scatter": [
           {
            "fillpattern": {
             "fillmode": "overlay",
             "size": 10,
             "solidity": 0.2
            },
            "type": "scatter"
           }
          ],
          "scatter3d": [
           {
            "line": {
             "colorbar": {
              "outlinewidth": 0,
              "ticks": ""
             }
            },
            "marker": {
             "colorbar": {
              "outlinewidth": 0,
              "ticks": ""
             }
            },
            "type": "scatter3d"
           }
          ],
          "scattercarpet": [
           {
            "marker": {
             "colorbar": {
              "outlinewidth": 0,
              "ticks": ""
             }
            },
            "type": "scattercarpet"
           }
          ],
          "scattergeo": [
           {
            "marker": {
             "colorbar": {
              "outlinewidth": 0,
              "ticks": ""
             }
            },
            "type": "scattergeo"
           }
          ],
          "scattergl": [
           {
            "marker": {
             "colorbar": {
              "outlinewidth": 0,
              "ticks": ""
             }
            },
            "type": "scattergl"
           }
          ],
          "scattermapbox": [
           {
            "marker": {
             "colorbar": {
              "outlinewidth": 0,
              "ticks": ""
             }
            },
            "type": "scattermapbox"
           }
          ],
          "scatterpolar": [
           {
            "marker": {
             "colorbar": {
              "outlinewidth": 0,
              "ticks": ""
             }
            },
            "type": "scatterpolar"
           }
          ],
          "scatterpolargl": [
           {
            "marker": {
             "colorbar": {
              "outlinewidth": 0,
              "ticks": ""
             }
            },
            "type": "scatterpolargl"
           }
          ],
          "scatterternary": [
           {
            "marker": {
             "colorbar": {
              "outlinewidth": 0,
              "ticks": ""
             }
            },
            "type": "scatterternary"
           }
          ],
          "surface": [
           {
            "colorbar": {
             "outlinewidth": 0,
             "ticks": ""
            },
            "colorscale": [
             [
              0,
              "#0d0887"
             ],
             [
              0.1111111111111111,
              "#46039f"
             ],
             [
              0.2222222222222222,
              "#7201a8"
             ],
             [
              0.3333333333333333,
              "#9c179e"
             ],
             [
              0.4444444444444444,
              "#bd3786"
             ],
             [
              0.5555555555555556,
              "#d8576b"
             ],
             [
              0.6666666666666666,
              "#ed7953"
             ],
             [
              0.7777777777777778,
              "#fb9f3a"
             ],
             [
              0.8888888888888888,
              "#fdca26"
             ],
             [
              1,
              "#f0f921"
             ]
            ],
            "type": "surface"
           }
          ],
          "table": [
           {
            "cells": {
             "fill": {
              "color": "#EBF0F8"
             },
             "line": {
              "color": "white"
             }
            },
            "header": {
             "fill": {
              "color": "#C8D4E3"
             },
             "line": {
              "color": "white"
             }
            },
            "type": "table"
           }
          ]
         },
         "layout": {
          "annotationdefaults": {
           "arrowcolor": "#2a3f5f",
           "arrowhead": 0,
           "arrowwidth": 1
          },
          "autotypenumbers": "strict",
          "coloraxis": {
           "colorbar": {
            "outlinewidth": 0,
            "ticks": ""
           }
          },
          "colorscale": {
           "diverging": [
            [
             0,
             "#8e0152"
            ],
            [
             0.1,
             "#c51b7d"
            ],
            [
             0.2,
             "#de77ae"
            ],
            [
             0.3,
             "#f1b6da"
            ],
            [
             0.4,
             "#fde0ef"
            ],
            [
             0.5,
             "#f7f7f7"
            ],
            [
             0.6,
             "#e6f5d0"
            ],
            [
             0.7,
             "#b8e186"
            ],
            [
             0.8,
             "#7fbc41"
            ],
            [
             0.9,
             "#4d9221"
            ],
            [
             1,
             "#276419"
            ]
           ],
           "sequential": [
            [
             0,
             "#0d0887"
            ],
            [
             0.1111111111111111,
             "#46039f"
            ],
            [
             0.2222222222222222,
             "#7201a8"
            ],
            [
             0.3333333333333333,
             "#9c179e"
            ],
            [
             0.4444444444444444,
             "#bd3786"
            ],
            [
             0.5555555555555556,
             "#d8576b"
            ],
            [
             0.6666666666666666,
             "#ed7953"
            ],
            [
             0.7777777777777778,
             "#fb9f3a"
            ],
            [
             0.8888888888888888,
             "#fdca26"
            ],
            [
             1,
             "#f0f921"
            ]
           ],
           "sequentialminus": [
            [
             0,
             "#0d0887"
            ],
            [
             0.1111111111111111,
             "#46039f"
            ],
            [
             0.2222222222222222,
             "#7201a8"
            ],
            [
             0.3333333333333333,
             "#9c179e"
            ],
            [
             0.4444444444444444,
             "#bd3786"
            ],
            [
             0.5555555555555556,
             "#d8576b"
            ],
            [
             0.6666666666666666,
             "#ed7953"
            ],
            [
             0.7777777777777778,
             "#fb9f3a"
            ],
            [
             0.8888888888888888,
             "#fdca26"
            ],
            [
             1,
             "#f0f921"
            ]
           ]
          },
          "colorway": [
           "#636efa",
           "#EF553B",
           "#00cc96",
           "#ab63fa",
           "#FFA15A",
           "#19d3f3",
           "#FF6692",
           "#B6E880",
           "#FF97FF",
           "#FECB52"
          ],
          "font": {
           "color": "#2a3f5f"
          },
          "geo": {
           "bgcolor": "white",
           "lakecolor": "white",
           "landcolor": "#E5ECF6",
           "showlakes": true,
           "showland": true,
           "subunitcolor": "white"
          },
          "hoverlabel": {
           "align": "left"
          },
          "hovermode": "closest",
          "mapbox": {
           "style": "light"
          },
          "paper_bgcolor": "white",
          "plot_bgcolor": "#E5ECF6",
          "polar": {
           "angularaxis": {
            "gridcolor": "white",
            "linecolor": "white",
            "ticks": ""
           },
           "bgcolor": "#E5ECF6",
           "radialaxis": {
            "gridcolor": "white",
            "linecolor": "white",
            "ticks": ""
           }
          },
          "scene": {
           "xaxis": {
            "backgroundcolor": "#E5ECF6",
            "gridcolor": "white",
            "gridwidth": 2,
            "linecolor": "white",
            "showbackground": true,
            "ticks": "",
            "zerolinecolor": "white"
           },
           "yaxis": {
            "backgroundcolor": "#E5ECF6",
            "gridcolor": "white",
            "gridwidth": 2,
            "linecolor": "white",
            "showbackground": true,
            "ticks": "",
            "zerolinecolor": "white"
           },
           "zaxis": {
            "backgroundcolor": "#E5ECF6",
            "gridcolor": "white",
            "gridwidth": 2,
            "linecolor": "white",
            "showbackground": true,
            "ticks": "",
            "zerolinecolor": "white"
           }
          },
          "shapedefaults": {
           "line": {
            "color": "#2a3f5f"
           }
          },
          "ternary": {
           "aaxis": {
            "gridcolor": "white",
            "linecolor": "white",
            "ticks": ""
           },
           "baxis": {
            "gridcolor": "white",
            "linecolor": "white",
            "ticks": ""
           },
           "bgcolor": "#E5ECF6",
           "caxis": {
            "gridcolor": "white",
            "linecolor": "white",
            "ticks": ""
           }
          },
          "title": {
           "x": 0.05
          },
          "xaxis": {
           "automargin": true,
           "gridcolor": "white",
           "linecolor": "white",
           "ticks": "",
           "title": {
            "standoff": 15
           },
           "zerolinecolor": "white",
           "zerolinewidth": 2
          },
          "yaxis": {
           "automargin": true,
           "gridcolor": "white",
           "linecolor": "white",
           "ticks": "",
           "title": {
            "standoff": 15
           },
           "zerolinecolor": "white",
           "zerolinewidth": 2
          }
         }
        },
        "title": {
         "text": "Optimization History Plot"
        },
        "xaxis": {
         "title": {
          "text": "Trial"
         }
        },
        "yaxis": {
         "title": {
          "text": "Objective Value"
         }
        }
       }
      }
     },
     "metadata": {},
     "output_type": "display_data"
    },
    {
     "data": {
      "application/vnd.plotly.v1+json": {
       "config": {
        "plotlyServerURL": "https://plot.ly"
       },
       "data": [
        {
         "cliponaxis": false,
         "hovertemplate": [
          "max_iter (IntDistribution): 0.029863063329468087<extra></extra>",
          "tol (FloatDistribution): 0.05217229242881344<extra></extra>",
          "l1_ratio (FloatDistribution): 0.09953701417070698<extra></extra>",
          "alpha (FloatDistribution): 0.31748257065966873<extra></extra>",
          "positive (CategoricalDistribution): 0.5009450594113426<extra></extra>"
         ],
         "marker": {
          "color": "rgb(66,146,198)"
         },
         "orientation": "h",
         "text": [
          "0.03",
          "0.05",
          "0.10",
          "0.32",
          "0.50"
         ],
         "textposition": "outside",
         "type": "bar",
         "x": [
          0.029863063329468087,
          0.05217229242881344,
          0.09953701417070698,
          0.31748257065966873,
          0.5009450594113426
         ],
         "y": [
          "max_iter",
          "tol",
          "l1_ratio",
          "alpha",
          "positive"
         ]
        }
       ],
       "layout": {
        "showlegend": false,
        "template": {
         "data": {
          "bar": [
           {
            "error_x": {
             "color": "#2a3f5f"
            },
            "error_y": {
             "color": "#2a3f5f"
            },
            "marker": {
             "line": {
              "color": "#E5ECF6",
              "width": 0.5
             },
             "pattern": {
              "fillmode": "overlay",
              "size": 10,
              "solidity": 0.2
             }
            },
            "type": "bar"
           }
          ],
          "barpolar": [
           {
            "marker": {
             "line": {
              "color": "#E5ECF6",
              "width": 0.5
             },
             "pattern": {
              "fillmode": "overlay",
              "size": 10,
              "solidity": 0.2
             }
            },
            "type": "barpolar"
           }
          ],
          "carpet": [
           {
            "aaxis": {
             "endlinecolor": "#2a3f5f",
             "gridcolor": "white",
             "linecolor": "white",
             "minorgridcolor": "white",
             "startlinecolor": "#2a3f5f"
            },
            "baxis": {
             "endlinecolor": "#2a3f5f",
             "gridcolor": "white",
             "linecolor": "white",
             "minorgridcolor": "white",
             "startlinecolor": "#2a3f5f"
            },
            "type": "carpet"
           }
          ],
          "choropleth": [
           {
            "colorbar": {
             "outlinewidth": 0,
             "ticks": ""
            },
            "type": "choropleth"
           }
          ],
          "contour": [
           {
            "colorbar": {
             "outlinewidth": 0,
             "ticks": ""
            },
            "colorscale": [
             [
              0,
              "#0d0887"
             ],
             [
              0.1111111111111111,
              "#46039f"
             ],
             [
              0.2222222222222222,
              "#7201a8"
             ],
             [
              0.3333333333333333,
              "#9c179e"
             ],
             [
              0.4444444444444444,
              "#bd3786"
             ],
             [
              0.5555555555555556,
              "#d8576b"
             ],
             [
              0.6666666666666666,
              "#ed7953"
             ],
             [
              0.7777777777777778,
              "#fb9f3a"
             ],
             [
              0.8888888888888888,
              "#fdca26"
             ],
             [
              1,
              "#f0f921"
             ]
            ],
            "type": "contour"
           }
          ],
          "contourcarpet": [
           {
            "colorbar": {
             "outlinewidth": 0,
             "ticks": ""
            },
            "type": "contourcarpet"
           }
          ],
          "heatmap": [
           {
            "colorbar": {
             "outlinewidth": 0,
             "ticks": ""
            },
            "colorscale": [
             [
              0,
              "#0d0887"
             ],
             [
              0.1111111111111111,
              "#46039f"
             ],
             [
              0.2222222222222222,
              "#7201a8"
             ],
             [
              0.3333333333333333,
              "#9c179e"
             ],
             [
              0.4444444444444444,
              "#bd3786"
             ],
             [
              0.5555555555555556,
              "#d8576b"
             ],
             [
              0.6666666666666666,
              "#ed7953"
             ],
             [
              0.7777777777777778,
              "#fb9f3a"
             ],
             [
              0.8888888888888888,
              "#fdca26"
             ],
             [
              1,
              "#f0f921"
             ]
            ],
            "type": "heatmap"
           }
          ],
          "heatmapgl": [
           {
            "colorbar": {
             "outlinewidth": 0,
             "ticks": ""
            },
            "colorscale": [
             [
              0,
              "#0d0887"
             ],
             [
              0.1111111111111111,
              "#46039f"
             ],
             [
              0.2222222222222222,
              "#7201a8"
             ],
             [
              0.3333333333333333,
              "#9c179e"
             ],
             [
              0.4444444444444444,
              "#bd3786"
             ],
             [
              0.5555555555555556,
              "#d8576b"
             ],
             [
              0.6666666666666666,
              "#ed7953"
             ],
             [
              0.7777777777777778,
              "#fb9f3a"
             ],
             [
              0.8888888888888888,
              "#fdca26"
             ],
             [
              1,
              "#f0f921"
             ]
            ],
            "type": "heatmapgl"
           }
          ],
          "histogram": [
           {
            "marker": {
             "pattern": {
              "fillmode": "overlay",
              "size": 10,
              "solidity": 0.2
             }
            },
            "type": "histogram"
           }
          ],
          "histogram2d": [
           {
            "colorbar": {
             "outlinewidth": 0,
             "ticks": ""
            },
            "colorscale": [
             [
              0,
              "#0d0887"
             ],
             [
              0.1111111111111111,
              "#46039f"
             ],
             [
              0.2222222222222222,
              "#7201a8"
             ],
             [
              0.3333333333333333,
              "#9c179e"
             ],
             [
              0.4444444444444444,
              "#bd3786"
             ],
             [
              0.5555555555555556,
              "#d8576b"
             ],
             [
              0.6666666666666666,
              "#ed7953"
             ],
             [
              0.7777777777777778,
              "#fb9f3a"
             ],
             [
              0.8888888888888888,
              "#fdca26"
             ],
             [
              1,
              "#f0f921"
             ]
            ],
            "type": "histogram2d"
           }
          ],
          "histogram2dcontour": [
           {
            "colorbar": {
             "outlinewidth": 0,
             "ticks": ""
            },
            "colorscale": [
             [
              0,
              "#0d0887"
             ],
             [
              0.1111111111111111,
              "#46039f"
             ],
             [
              0.2222222222222222,
              "#7201a8"
             ],
             [
              0.3333333333333333,
              "#9c179e"
             ],
             [
              0.4444444444444444,
              "#bd3786"
             ],
             [
              0.5555555555555556,
              "#d8576b"
             ],
             [
              0.6666666666666666,
              "#ed7953"
             ],
             [
              0.7777777777777778,
              "#fb9f3a"
             ],
             [
              0.8888888888888888,
              "#fdca26"
             ],
             [
              1,
              "#f0f921"
             ]
            ],
            "type": "histogram2dcontour"
           }
          ],
          "mesh3d": [
           {
            "colorbar": {
             "outlinewidth": 0,
             "ticks": ""
            },
            "type": "mesh3d"
           }
          ],
          "parcoords": [
           {
            "line": {
             "colorbar": {
              "outlinewidth": 0,
              "ticks": ""
             }
            },
            "type": "parcoords"
           }
          ],
          "pie": [
           {
            "automargin": true,
            "type": "pie"
           }
          ],
          "scatter": [
           {
            "fillpattern": {
             "fillmode": "overlay",
             "size": 10,
             "solidity": 0.2
            },
            "type": "scatter"
           }
          ],
          "scatter3d": [
           {
            "line": {
             "colorbar": {
              "outlinewidth": 0,
              "ticks": ""
             }
            },
            "marker": {
             "colorbar": {
              "outlinewidth": 0,
              "ticks": ""
             }
            },
            "type": "scatter3d"
           }
          ],
          "scattercarpet": [
           {
            "marker": {
             "colorbar": {
              "outlinewidth": 0,
              "ticks": ""
             }
            },
            "type": "scattercarpet"
           }
          ],
          "scattergeo": [
           {
            "marker": {
             "colorbar": {
              "outlinewidth": 0,
              "ticks": ""
             }
            },
            "type": "scattergeo"
           }
          ],
          "scattergl": [
           {
            "marker": {
             "colorbar": {
              "outlinewidth": 0,
              "ticks": ""
             }
            },
            "type": "scattergl"
           }
          ],
          "scattermapbox": [
           {
            "marker": {
             "colorbar": {
              "outlinewidth": 0,
              "ticks": ""
             }
            },
            "type": "scattermapbox"
           }
          ],
          "scatterpolar": [
           {
            "marker": {
             "colorbar": {
              "outlinewidth": 0,
              "ticks": ""
             }
            },
            "type": "scatterpolar"
           }
          ],
          "scatterpolargl": [
           {
            "marker": {
             "colorbar": {
              "outlinewidth": 0,
              "ticks": ""
             }
            },
            "type": "scatterpolargl"
           }
          ],
          "scatterternary": [
           {
            "marker": {
             "colorbar": {
              "outlinewidth": 0,
              "ticks": ""
             }
            },
            "type": "scatterternary"
           }
          ],
          "surface": [
           {
            "colorbar": {
             "outlinewidth": 0,
             "ticks": ""
            },
            "colorscale": [
             [
              0,
              "#0d0887"
             ],
             [
              0.1111111111111111,
              "#46039f"
             ],
             [
              0.2222222222222222,
              "#7201a8"
             ],
             [
              0.3333333333333333,
              "#9c179e"
             ],
             [
              0.4444444444444444,
              "#bd3786"
             ],
             [
              0.5555555555555556,
              "#d8576b"
             ],
             [
              0.6666666666666666,
              "#ed7953"
             ],
             [
              0.7777777777777778,
              "#fb9f3a"
             ],
             [
              0.8888888888888888,
              "#fdca26"
             ],
             [
              1,
              "#f0f921"
             ]
            ],
            "type": "surface"
           }
          ],
          "table": [
           {
            "cells": {
             "fill": {
              "color": "#EBF0F8"
             },
             "line": {
              "color": "white"
             }
            },
            "header": {
             "fill": {
              "color": "#C8D4E3"
             },
             "line": {
              "color": "white"
             }
            },
            "type": "table"
           }
          ]
         },
         "layout": {
          "annotationdefaults": {
           "arrowcolor": "#2a3f5f",
           "arrowhead": 0,
           "arrowwidth": 1
          },
          "autotypenumbers": "strict",
          "coloraxis": {
           "colorbar": {
            "outlinewidth": 0,
            "ticks": ""
           }
          },
          "colorscale": {
           "diverging": [
            [
             0,
             "#8e0152"
            ],
            [
             0.1,
             "#c51b7d"
            ],
            [
             0.2,
             "#de77ae"
            ],
            [
             0.3,
             "#f1b6da"
            ],
            [
             0.4,
             "#fde0ef"
            ],
            [
             0.5,
             "#f7f7f7"
            ],
            [
             0.6,
             "#e6f5d0"
            ],
            [
             0.7,
             "#b8e186"
            ],
            [
             0.8,
             "#7fbc41"
            ],
            [
             0.9,
             "#4d9221"
            ],
            [
             1,
             "#276419"
            ]
           ],
           "sequential": [
            [
             0,
             "#0d0887"
            ],
            [
             0.1111111111111111,
             "#46039f"
            ],
            [
             0.2222222222222222,
             "#7201a8"
            ],
            [
             0.3333333333333333,
             "#9c179e"
            ],
            [
             0.4444444444444444,
             "#bd3786"
            ],
            [
             0.5555555555555556,
             "#d8576b"
            ],
            [
             0.6666666666666666,
             "#ed7953"
            ],
            [
             0.7777777777777778,
             "#fb9f3a"
            ],
            [
             0.8888888888888888,
             "#fdca26"
            ],
            [
             1,
             "#f0f921"
            ]
           ],
           "sequentialminus": [
            [
             0,
             "#0d0887"
            ],
            [
             0.1111111111111111,
             "#46039f"
            ],
            [
             0.2222222222222222,
             "#7201a8"
            ],
            [
             0.3333333333333333,
             "#9c179e"
            ],
            [
             0.4444444444444444,
             "#bd3786"
            ],
            [
             0.5555555555555556,
             "#d8576b"
            ],
            [
             0.6666666666666666,
             "#ed7953"
            ],
            [
             0.7777777777777778,
             "#fb9f3a"
            ],
            [
             0.8888888888888888,
             "#fdca26"
            ],
            [
             1,
             "#f0f921"
            ]
           ]
          },
          "colorway": [
           "#636efa",
           "#EF553B",
           "#00cc96",
           "#ab63fa",
           "#FFA15A",
           "#19d3f3",
           "#FF6692",
           "#B6E880",
           "#FF97FF",
           "#FECB52"
          ],
          "font": {
           "color": "#2a3f5f"
          },
          "geo": {
           "bgcolor": "white",
           "lakecolor": "white",
           "landcolor": "#E5ECF6",
           "showlakes": true,
           "showland": true,
           "subunitcolor": "white"
          },
          "hoverlabel": {
           "align": "left"
          },
          "hovermode": "closest",
          "mapbox": {
           "style": "light"
          },
          "paper_bgcolor": "white",
          "plot_bgcolor": "#E5ECF6",
          "polar": {
           "angularaxis": {
            "gridcolor": "white",
            "linecolor": "white",
            "ticks": ""
           },
           "bgcolor": "#E5ECF6",
           "radialaxis": {
            "gridcolor": "white",
            "linecolor": "white",
            "ticks": ""
           }
          },
          "scene": {
           "xaxis": {
            "backgroundcolor": "#E5ECF6",
            "gridcolor": "white",
            "gridwidth": 2,
            "linecolor": "white",
            "showbackground": true,
            "ticks": "",
            "zerolinecolor": "white"
           },
           "yaxis": {
            "backgroundcolor": "#E5ECF6",
            "gridcolor": "white",
            "gridwidth": 2,
            "linecolor": "white",
            "showbackground": true,
            "ticks": "",
            "zerolinecolor": "white"
           },
           "zaxis": {
            "backgroundcolor": "#E5ECF6",
            "gridcolor": "white",
            "gridwidth": 2,
            "linecolor": "white",
            "showbackground": true,
            "ticks": "",
            "zerolinecolor": "white"
           }
          },
          "shapedefaults": {
           "line": {
            "color": "#2a3f5f"
           }
          },
          "ternary": {
           "aaxis": {
            "gridcolor": "white",
            "linecolor": "white",
            "ticks": ""
           },
           "baxis": {
            "gridcolor": "white",
            "linecolor": "white",
            "ticks": ""
           },
           "bgcolor": "#E5ECF6",
           "caxis": {
            "gridcolor": "white",
            "linecolor": "white",
            "ticks": ""
           }
          },
          "title": {
           "x": 0.05
          },
          "xaxis": {
           "automargin": true,
           "gridcolor": "white",
           "linecolor": "white",
           "ticks": "",
           "title": {
            "standoff": 15
           },
           "zerolinecolor": "white",
           "zerolinewidth": 2
          },
          "yaxis": {
           "automargin": true,
           "gridcolor": "white",
           "linecolor": "white",
           "ticks": "",
           "title": {
            "standoff": 15
           },
           "zerolinecolor": "white",
           "zerolinewidth": 2
          }
         }
        },
        "title": {
         "text": "Hyperparameter Importances"
        },
        "xaxis": {
         "title": {
          "text": "Importance for Objective Value"
         }
        },
        "yaxis": {
         "title": {
          "text": "Hyperparameter"
         }
        }
       }
      }
     },
     "metadata": {},
     "output_type": "display_data"
    },
    {
     "data": {
      "application/vnd.plotly.v1+json": {
       "config": {
        "plotlyServerURL": "https://plot.ly"
       },
       "data": [
        {
         "marker": {
          "color": [
           0,
           1,
           2,
           3,
           4,
           5,
           6,
           7,
           8,
           9,
           10,
           11,
           12,
           13,
           14,
           15,
           16,
           17,
           19,
           20,
           22,
           23,
           24,
           25,
           28,
           29,
           31,
           32,
           33,
           37,
           41,
           42,
           45,
           48,
           49,
           50,
           51,
           56,
           58,
           63,
           64,
           70,
           71,
           82,
           85,
           99
          ],
          "colorbar": {
           "title": {
            "text": "Trial"
           },
           "x": 1,
           "xpad": 40
          },
          "colorscale": [
           [
            0,
            "rgb(247,251,255)"
           ],
           [
            0.125,
            "rgb(222,235,247)"
           ],
           [
            0.25,
            "rgb(198,219,239)"
           ],
           [
            0.375,
            "rgb(158,202,225)"
           ],
           [
            0.5,
            "rgb(107,174,214)"
           ],
           [
            0.625,
            "rgb(66,146,198)"
           ],
           [
            0.75,
            "rgb(33,113,181)"
           ],
           [
            0.875,
            "rgb(8,81,156)"
           ],
           [
            1,
            "rgb(8,48,107)"
           ]
          ],
          "line": {
           "color": "Grey",
           "width": 0.5
          },
          "showscale": true
         },
         "mode": "markers",
         "showlegend": false,
         "type": "scatter",
         "x": [
          0.6964691855978616,
          0.9807641983846155,
          0.4385722446796244,
          0.5315513738418384,
          0.7224433825702216,
          0.09210493994507518,
          0.4263513069628082,
          0.3172854818203209,
          0.5194851192598093,
          0.3427638337743084,
          0.06889158546742416,
          0.006453374219829056,
          0.1049152166318279,
          0.19232207105154253,
          0.17538829565424222,
          0.19623572345647122,
          0.20925744353235726,
          0.005978209644977167,
          0.13259277906516953,
          0.10910413121754992,
          0.1525563597193584,
          0.12955289287015526,
          0.0018730592122092604,
          0.12215069795075262,
          0.14935566003678322,
          0.16750730720704493,
          0.16009902485295135,
          0.17196100864438163,
          0.25002898850247457,
          0.05760548640646945,
          0.16612066100455697,
          0.15299420353327295,
          0.05372851550525773,
          0.17598634835350882,
          0.18277273989895781,
          0.09826793243740933,
          0.18841904564452655,
          0.07575889785977566,
          0.03581706533195245,
          0.26311917699247456,
          0.23530442989681286,
          0.13678496379380362,
          0.17351366703643933,
          0.14165984917269153,
          0.11382167064686535,
          0.09589452808221205
         ],
         "xaxis": "x",
         "y": [
          26192.19415362568,
          26302.637741241222,
          26153.098784606816,
          26099.09717111968,
          26363.53522878533,
          26049.691726748944,
          26228.062448445282,
          26256.57356868635,
          26084.403995998917,
          26093.399000909936,
          26052.444438356008,
          26064.033983293488,
          26042.58413262592,
          26048.266751910374,
          26045.683924900888,
          26044.83615711975,
          26044.695223702336,
          26062.148254369356,
          26041.05622982059,
          26051.228403183166,
          26040.455928247775,
          26046.028884515716,
          26084.433068359183,
          26043.099530576128,
          26040.87144932112,
          26037.70412896472,
          26046.700844023082,
          26038.543913967045,
          26037.702823810167,
          26053.315378710813,
          26037.579459370227,
          26046.464860623095,
          26047.100932164918,
          26039.091446062826,
          26038.717397972505,
          26041.50446215703,
          26039.01641656323,
          26049.26827997214,
          26053.859017201317,
          26035.155047234006,
          26035.918396777754,
          26044.29641643765,
          26038.659209271176,
          26046.62835999781,
          26047.08140502761,
          26049.150725980824
         ],
         "yaxis": "y"
        },
        {
         "marker": {
          "color": [
           0,
           1,
           2,
           3,
           4,
           5,
           6,
           7,
           8,
           9,
           10,
           11,
           12,
           13,
           14,
           15,
           16,
           17,
           19,
           20,
           22,
           23,
           24,
           25,
           28,
           29,
           31,
           32,
           33,
           37,
           41,
           42,
           45,
           48,
           49,
           50,
           51,
           56,
           58,
           63,
           64,
           70,
           71,
           82,
           85,
           99
          ],
          "colorbar": {
           "title": {
            "text": "Trial"
           },
           "x": 1,
           "xpad": 40
          },
          "colorscale": [
           [
            0,
            "rgb(247,251,255)"
           ],
           [
            0.125,
            "rgb(222,235,247)"
           ],
           [
            0.25,
            "rgb(198,219,239)"
           ],
           [
            0.375,
            "rgb(158,202,225)"
           ],
           [
            0.5,
            "rgb(107,174,214)"
           ],
           [
            0.625,
            "rgb(66,146,198)"
           ],
           [
            0.75,
            "rgb(33,113,181)"
           ],
           [
            0.875,
            "rgb(8,81,156)"
           ],
           [
            1,
            "rgb(8,48,107)"
           ]
          ],
          "line": {
           "color": "Grey",
           "width": 0.5
          },
          "showscale": false
         },
         "mode": "markers",
         "showlegend": false,
         "type": "scatter",
         "x": [
          0.28613933495037946,
          0.6848297385848633,
          0.05967789660956835,
          0.5318275870968661,
          0.3229589138531782,
          0.43370117267952824,
          0.8933891631171348,
          0.4148262119536318,
          0.6128945257629677,
          0.3041207890271841,
          0.9863798222314493,
          0.9444656052010494,
          0.7522550118761866,
          0.7278259329003384,
          0.7767377450242181,
          0.8160591907654154,
          0.8414149107253112,
          0.8744399378075134,
          0.8182366901913751,
          0.994855011386929,
          0.849097536018296,
          0.7514780220575703,
          0.8493483603573282,
          0.9035193606967687,
          0.9259352166092387,
          0.9264081390247195,
          0.9958702433856649,
          0.9137152301235119,
          0.9225097686336162,
          0.9438378975741367,
          0.9221441164439784,
          0.9756292181507696,
          0.8334801682120019,
          0.8966336870205862,
          0.9067130171467775,
          0.8018091973654686,
          0.8973670231097907,
          0.948525383168446,
          0.9024573008664311,
          0.9662650311645659,
          0.956975421278713,
          0.9511665495976022,
          0.9095842149084504,
          0.9708640474516788,
          0.9643997096132664,
          0.9757555045648825
         ],
         "xaxis": "x2",
         "y": [
          26192.19415362568,
          26302.637741241222,
          26153.098784606816,
          26099.09717111968,
          26363.53522878533,
          26049.691726748944,
          26228.062448445282,
          26256.57356868635,
          26084.403995998917,
          26093.399000909936,
          26052.444438356008,
          26064.033983293488,
          26042.58413262592,
          26048.266751910374,
          26045.683924900888,
          26044.83615711975,
          26044.695223702336,
          26062.148254369356,
          26041.05622982059,
          26051.228403183166,
          26040.455928247775,
          26046.028884515716,
          26084.433068359183,
          26043.099530576128,
          26040.87144932112,
          26037.70412896472,
          26046.700844023082,
          26038.543913967045,
          26037.702823810167,
          26053.315378710813,
          26037.579459370227,
          26046.464860623095,
          26047.100932164918,
          26039.091446062826,
          26038.717397972505,
          26041.50446215703,
          26039.01641656323,
          26049.26827997214,
          26053.859017201317,
          26035.155047234006,
          26035.918396777754,
          26044.29641643765,
          26038.659209271176,
          26046.62835999781,
          26047.08140502761,
          26049.150725980824
         ],
         "yaxis": "y2"
        },
        {
         "marker": {
          "color": [
           0,
           1,
           2,
           3,
           4,
           5,
           6,
           7,
           8,
           9,
           10,
           11,
           12,
           13,
           14,
           15,
           16,
           17,
           19,
           20,
           22,
           23,
           24,
           25,
           28,
           29,
           31,
           32,
           33,
           37,
           41,
           42,
           45,
           48,
           49,
           50,
           51,
           56,
           58,
           63,
           64,
           70,
           71,
           82,
           85,
           99
          ],
          "colorbar": {
           "title": {
            "text": "Trial"
           },
           "x": 1,
           "xpad": 40
          },
          "colorscale": [
           [
            0,
            "rgb(247,251,255)"
           ],
           [
            0.125,
            "rgb(222,235,247)"
           ],
           [
            0.25,
            "rgb(198,219,239)"
           ],
           [
            0.375,
            "rgb(158,202,225)"
           ],
           [
            0.5,
            "rgb(107,174,214)"
           ],
           [
            0.625,
            "rgb(66,146,198)"
           ],
           [
            0.75,
            "rgb(33,113,181)"
           ],
           [
            0.875,
            "rgb(8,81,156)"
           ],
           [
            1,
            "rgb(8,48,107)"
           ]
          ],
          "line": {
           "color": "Grey",
           "width": 0.5
          },
          "showscale": false
         },
         "mode": "markers",
         "showlegend": false,
         "type": "scatter",
         "x": [
          2744,
          484,
          231,
          2808,
          385,
          709,
          1766,
          922,
          1604,
          5632,
          103,
          110,
          101,
          249,
          189,
          168,
          101,
          107,
          507,
          402,
          541,
          609,
          619,
          355,
          228,
          277,
          278,
          568,
          449,
          747,
          234,
          286,
          223,
          831,
          888,
          1186,
          789,
          1106,
          139,
          568,
          572,
          368,
          555,
          692,
          591,
          645
         ],
         "xaxis": "x3",
         "y": [
          26192.19415362568,
          26302.637741241222,
          26153.098784606816,
          26099.09717111968,
          26363.53522878533,
          26049.691726748944,
          26228.062448445282,
          26256.57356868635,
          26084.403995998917,
          26093.399000909936,
          26052.444438356008,
          26064.033983293488,
          26042.58413262592,
          26048.266751910374,
          26045.683924900888,
          26044.83615711975,
          26044.695223702336,
          26062.148254369356,
          26041.05622982059,
          26051.228403183166,
          26040.455928247775,
          26046.028884515716,
          26084.433068359183,
          26043.099530576128,
          26040.87144932112,
          26037.70412896472,
          26046.700844023082,
          26038.543913967045,
          26037.702823810167,
          26053.315378710813,
          26037.579459370227,
          26046.464860623095,
          26047.100932164918,
          26039.091446062826,
          26038.717397972505,
          26041.50446215703,
          26039.01641656323,
          26049.26827997214,
          26053.859017201317,
          26035.155047234006,
          26035.918396777754,
          26044.29641643765,
          26038.659209271176,
          26046.62835999781,
          26047.08140502761,
          26049.150725980824
         ],
         "yaxis": "y3"
        },
        {
         "marker": {
          "color": [
           0,
           1,
           2,
           3,
           4,
           5,
           6,
           7,
           8,
           9,
           10,
           11,
           12,
           13,
           14,
           15,
           16,
           17,
           19,
           20,
           22,
           23,
           24,
           25,
           28,
           29,
           31,
           32,
           33,
           37,
           41,
           42,
           45,
           48,
           49,
           50,
           51,
           56,
           58,
           63,
           64,
           70,
           71,
           82,
           85,
           99
          ],
          "colorbar": {
           "title": {
            "text": "Trial"
           },
           "x": 1,
           "xpad": 40
          },
          "colorscale": [
           [
            0,
            "rgb(247,251,255)"
           ],
           [
            0.125,
            "rgb(222,235,247)"
           ],
           [
            0.25,
            "rgb(198,219,239)"
           ],
           [
            0.375,
            "rgb(158,202,225)"
           ],
           [
            0.5,
            "rgb(107,174,214)"
           ],
           [
            0.625,
            "rgb(66,146,198)"
           ],
           [
            0.75,
            "rgb(33,113,181)"
           ],
           [
            0.875,
            "rgb(8,81,156)"
           ],
           [
            1,
            "rgb(8,48,107)"
           ]
          ],
          "line": {
           "color": "Grey",
           "width": 0.5
          },
          "showscale": false
         },
         "mode": "markers",
         "showlegend": false,
         "type": "scatter",
         "x": [
          false,
          true,
          false,
          false,
          true,
          false,
          true,
          true,
          false,
          false,
          false,
          false,
          false,
          false,
          false,
          false,
          false,
          false,
          false,
          false,
          false,
          false,
          false,
          false,
          false,
          false,
          false,
          false,
          false,
          false,
          false,
          false,
          false,
          false,
          false,
          false,
          false,
          false,
          false,
          false,
          false,
          false,
          false,
          false,
          false,
          false
         ],
         "xaxis": "x4",
         "y": [
          26192.19415362568,
          26302.637741241222,
          26153.098784606816,
          26099.09717111968,
          26363.53522878533,
          26049.691726748944,
          26228.062448445282,
          26256.57356868635,
          26084.403995998917,
          26093.399000909936,
          26052.444438356008,
          26064.033983293488,
          26042.58413262592,
          26048.266751910374,
          26045.683924900888,
          26044.83615711975,
          26044.695223702336,
          26062.148254369356,
          26041.05622982059,
          26051.228403183166,
          26040.455928247775,
          26046.028884515716,
          26084.433068359183,
          26043.099530576128,
          26040.87144932112,
          26037.70412896472,
          26046.700844023082,
          26038.543913967045,
          26037.702823810167,
          26053.315378710813,
          26037.579459370227,
          26046.464860623095,
          26047.100932164918,
          26039.091446062826,
          26038.717397972505,
          26041.50446215703,
          26039.01641656323,
          26049.26827997214,
          26053.859017201317,
          26035.155047234006,
          26035.918396777754,
          26044.29641643765,
          26038.659209271176,
          26046.62835999781,
          26047.08140502761,
          26049.150725980824
         ],
         "yaxis": "y4"
        },
        {
         "marker": {
          "color": [
           0,
           1,
           2,
           3,
           4,
           5,
           6,
           7,
           8,
           9,
           10,
           11,
           12,
           13,
           14,
           15,
           16,
           17,
           19,
           20,
           22,
           23,
           24,
           25,
           28,
           29,
           31,
           32,
           33,
           37,
           41,
           42,
           45,
           48,
           49,
           50,
           51,
           56,
           58,
           63,
           64,
           70,
           71,
           82,
           85,
           99
          ],
          "colorbar": {
           "title": {
            "text": "Trial"
           },
           "x": 1,
           "xpad": 40
          },
          "colorscale": [
           [
            0,
            "rgb(247,251,255)"
           ],
           [
            0.125,
            "rgb(222,235,247)"
           ],
           [
            0.25,
            "rgb(198,219,239)"
           ],
           [
            0.375,
            "rgb(158,202,225)"
           ],
           [
            0.5,
            "rgb(107,174,214)"
           ],
           [
            0.625,
            "rgb(66,146,198)"
           ],
           [
            0.75,
            "rgb(33,113,181)"
           ],
           [
            0.875,
            "rgb(8,81,156)"
           ],
           [
            1,
            "rgb(8,48,107)"
           ]
          ],
          "line": {
           "color": "Grey",
           "width": 0.5
          },
          "showscale": false
         },
         "mode": "markers",
         "showlegend": false,
         "type": "scatter",
         "x": [
          0.0000701799283113844,
          0.00028714378103928377,
          0.000022433834533274747,
          0.00016674277362987863,
          0.0001827899220785679,
          0.00004212330570736679,
          0.000017030868284599993,
          0.0009356632482180258,
          0.00012306541283893792,
          0.00010491671278319497,
          0.00004368893874919379,
          0.000035415564121989416,
          0.000010878866376925218,
          0.000010768485034484211,
          0.000010170803688691841,
          0.00001010115367316361,
          0.000020584926956795804,
          0.000020570869214387032,
          0.000031589182972600855,
          0.00003270023836124993,
          0.00002585206981598495,
          0.000028705423117628808,
          0.00005495129838658247,
          0.00001418418278694914,
          0.000027660140053900263,
          0.00006030170650150352,
          0.00005290629665297405,
          0.00003362756683283639,
          0.00007108204603658521,
          0.00005329190948087768,
          0.000022769349438977857,
          0.00002301655034626176,
          0.000026093262790627616,
          0.0000553673669616714,
          0.000060568436572184315,
          0.0001222374020945858,
          0.00005854223888986609,
          0.000043678032756255584,
          0.00011104328123218266,
          0.00008766900858206071,
          0.00008886298567450159,
          0.00014835924640633873,
          0.00005998157032498795,
          0.00004196311906357738,
          0.00004784788008660964,
          0.000043382550553511776
         ],
         "xaxis": "x5",
         "y": [
          26192.19415362568,
          26302.637741241222,
          26153.098784606816,
          26099.09717111968,
          26363.53522878533,
          26049.691726748944,
          26228.062448445282,
          26256.57356868635,
          26084.403995998917,
          26093.399000909936,
          26052.444438356008,
          26064.033983293488,
          26042.58413262592,
          26048.266751910374,
          26045.683924900888,
          26044.83615711975,
          26044.695223702336,
          26062.148254369356,
          26041.05622982059,
          26051.228403183166,
          26040.455928247775,
          26046.028884515716,
          26084.433068359183,
          26043.099530576128,
          26040.87144932112,
          26037.70412896472,
          26046.700844023082,
          26038.543913967045,
          26037.702823810167,
          26053.315378710813,
          26037.579459370227,
          26046.464860623095,
          26047.100932164918,
          26039.091446062826,
          26038.717397972505,
          26041.50446215703,
          26039.01641656323,
          26049.26827997214,
          26053.859017201317,
          26035.155047234006,
          26035.918396777754,
          26044.29641643765,
          26038.659209271176,
          26046.62835999781,
          26047.08140502761,
          26049.150725980824
         ],
         "yaxis": "y5"
        }
       ],
       "layout": {
        "template": {
         "data": {
          "bar": [
           {
            "error_x": {
             "color": "#2a3f5f"
            },
            "error_y": {
             "color": "#2a3f5f"
            },
            "marker": {
             "line": {
              "color": "#E5ECF6",
              "width": 0.5
             },
             "pattern": {
              "fillmode": "overlay",
              "size": 10,
              "solidity": 0.2
             }
            },
            "type": "bar"
           }
          ],
          "barpolar": [
           {
            "marker": {
             "line": {
              "color": "#E5ECF6",
              "width": 0.5
             },
             "pattern": {
              "fillmode": "overlay",
              "size": 10,
              "solidity": 0.2
             }
            },
            "type": "barpolar"
           }
          ],
          "carpet": [
           {
            "aaxis": {
             "endlinecolor": "#2a3f5f",
             "gridcolor": "white",
             "linecolor": "white",
             "minorgridcolor": "white",
             "startlinecolor": "#2a3f5f"
            },
            "baxis": {
             "endlinecolor": "#2a3f5f",
             "gridcolor": "white",
             "linecolor": "white",
             "minorgridcolor": "white",
             "startlinecolor": "#2a3f5f"
            },
            "type": "carpet"
           }
          ],
          "choropleth": [
           {
            "colorbar": {
             "outlinewidth": 0,
             "ticks": ""
            },
            "type": "choropleth"
           }
          ],
          "contour": [
           {
            "colorbar": {
             "outlinewidth": 0,
             "ticks": ""
            },
            "colorscale": [
             [
              0,
              "#0d0887"
             ],
             [
              0.1111111111111111,
              "#46039f"
             ],
             [
              0.2222222222222222,
              "#7201a8"
             ],
             [
              0.3333333333333333,
              "#9c179e"
             ],
             [
              0.4444444444444444,
              "#bd3786"
             ],
             [
              0.5555555555555556,
              "#d8576b"
             ],
             [
              0.6666666666666666,
              "#ed7953"
             ],
             [
              0.7777777777777778,
              "#fb9f3a"
             ],
             [
              0.8888888888888888,
              "#fdca26"
             ],
             [
              1,
              "#f0f921"
             ]
            ],
            "type": "contour"
           }
          ],
          "contourcarpet": [
           {
            "colorbar": {
             "outlinewidth": 0,
             "ticks": ""
            },
            "type": "contourcarpet"
           }
          ],
          "heatmap": [
           {
            "colorbar": {
             "outlinewidth": 0,
             "ticks": ""
            },
            "colorscale": [
             [
              0,
              "#0d0887"
             ],
             [
              0.1111111111111111,
              "#46039f"
             ],
             [
              0.2222222222222222,
              "#7201a8"
             ],
             [
              0.3333333333333333,
              "#9c179e"
             ],
             [
              0.4444444444444444,
              "#bd3786"
             ],
             [
              0.5555555555555556,
              "#d8576b"
             ],
             [
              0.6666666666666666,
              "#ed7953"
             ],
             [
              0.7777777777777778,
              "#fb9f3a"
             ],
             [
              0.8888888888888888,
              "#fdca26"
             ],
             [
              1,
              "#f0f921"
             ]
            ],
            "type": "heatmap"
           }
          ],
          "heatmapgl": [
           {
            "colorbar": {
             "outlinewidth": 0,
             "ticks": ""
            },
            "colorscale": [
             [
              0,
              "#0d0887"
             ],
             [
              0.1111111111111111,
              "#46039f"
             ],
             [
              0.2222222222222222,
              "#7201a8"
             ],
             [
              0.3333333333333333,
              "#9c179e"
             ],
             [
              0.4444444444444444,
              "#bd3786"
             ],
             [
              0.5555555555555556,
              "#d8576b"
             ],
             [
              0.6666666666666666,
              "#ed7953"
             ],
             [
              0.7777777777777778,
              "#fb9f3a"
             ],
             [
              0.8888888888888888,
              "#fdca26"
             ],
             [
              1,
              "#f0f921"
             ]
            ],
            "type": "heatmapgl"
           }
          ],
          "histogram": [
           {
            "marker": {
             "pattern": {
              "fillmode": "overlay",
              "size": 10,
              "solidity": 0.2
             }
            },
            "type": "histogram"
           }
          ],
          "histogram2d": [
           {
            "colorbar": {
             "outlinewidth": 0,
             "ticks": ""
            },
            "colorscale": [
             [
              0,
              "#0d0887"
             ],
             [
              0.1111111111111111,
              "#46039f"
             ],
             [
              0.2222222222222222,
              "#7201a8"
             ],
             [
              0.3333333333333333,
              "#9c179e"
             ],
             [
              0.4444444444444444,
              "#bd3786"
             ],
             [
              0.5555555555555556,
              "#d8576b"
             ],
             [
              0.6666666666666666,
              "#ed7953"
             ],
             [
              0.7777777777777778,
              "#fb9f3a"
             ],
             [
              0.8888888888888888,
              "#fdca26"
             ],
             [
              1,
              "#f0f921"
             ]
            ],
            "type": "histogram2d"
           }
          ],
          "histogram2dcontour": [
           {
            "colorbar": {
             "outlinewidth": 0,
             "ticks": ""
            },
            "colorscale": [
             [
              0,
              "#0d0887"
             ],
             [
              0.1111111111111111,
              "#46039f"
             ],
             [
              0.2222222222222222,
              "#7201a8"
             ],
             [
              0.3333333333333333,
              "#9c179e"
             ],
             [
              0.4444444444444444,
              "#bd3786"
             ],
             [
              0.5555555555555556,
              "#d8576b"
             ],
             [
              0.6666666666666666,
              "#ed7953"
             ],
             [
              0.7777777777777778,
              "#fb9f3a"
             ],
             [
              0.8888888888888888,
              "#fdca26"
             ],
             [
              1,
              "#f0f921"
             ]
            ],
            "type": "histogram2dcontour"
           }
          ],
          "mesh3d": [
           {
            "colorbar": {
             "outlinewidth": 0,
             "ticks": ""
            },
            "type": "mesh3d"
           }
          ],
          "parcoords": [
           {
            "line": {
             "colorbar": {
              "outlinewidth": 0,
              "ticks": ""
             }
            },
            "type": "parcoords"
           }
          ],
          "pie": [
           {
            "automargin": true,
            "type": "pie"
           }
          ],
          "scatter": [
           {
            "fillpattern": {
             "fillmode": "overlay",
             "size": 10,
             "solidity": 0.2
            },
            "type": "scatter"
           }
          ],
          "scatter3d": [
           {
            "line": {
             "colorbar": {
              "outlinewidth": 0,
              "ticks": ""
             }
            },
            "marker": {
             "colorbar": {
              "outlinewidth": 0,
              "ticks": ""
             }
            },
            "type": "scatter3d"
           }
          ],
          "scattercarpet": [
           {
            "marker": {
             "colorbar": {
              "outlinewidth": 0,
              "ticks": ""
             }
            },
            "type": "scattercarpet"
           }
          ],
          "scattergeo": [
           {
            "marker": {
             "colorbar": {
              "outlinewidth": 0,
              "ticks": ""
             }
            },
            "type": "scattergeo"
           }
          ],
          "scattergl": [
           {
            "marker": {
             "colorbar": {
              "outlinewidth": 0,
              "ticks": ""
             }
            },
            "type": "scattergl"
           }
          ],
          "scattermapbox": [
           {
            "marker": {
             "colorbar": {
              "outlinewidth": 0,
              "ticks": ""
             }
            },
            "type": "scattermapbox"
           }
          ],
          "scatterpolar": [
           {
            "marker": {
             "colorbar": {
              "outlinewidth": 0,
              "ticks": ""
             }
            },
            "type": "scatterpolar"
           }
          ],
          "scatterpolargl": [
           {
            "marker": {
             "colorbar": {
              "outlinewidth": 0,
              "ticks": ""
             }
            },
            "type": "scatterpolargl"
           }
          ],
          "scatterternary": [
           {
            "marker": {
             "colorbar": {
              "outlinewidth": 0,
              "ticks": ""
             }
            },
            "type": "scatterternary"
           }
          ],
          "surface": [
           {
            "colorbar": {
             "outlinewidth": 0,
             "ticks": ""
            },
            "colorscale": [
             [
              0,
              "#0d0887"
             ],
             [
              0.1111111111111111,
              "#46039f"
             ],
             [
              0.2222222222222222,
              "#7201a8"
             ],
             [
              0.3333333333333333,
              "#9c179e"
             ],
             [
              0.4444444444444444,
              "#bd3786"
             ],
             [
              0.5555555555555556,
              "#d8576b"
             ],
             [
              0.6666666666666666,
              "#ed7953"
             ],
             [
              0.7777777777777778,
              "#fb9f3a"
             ],
             [
              0.8888888888888888,
              "#fdca26"
             ],
             [
              1,
              "#f0f921"
             ]
            ],
            "type": "surface"
           }
          ],
          "table": [
           {
            "cells": {
             "fill": {
              "color": "#EBF0F8"
             },
             "line": {
              "color": "white"
             }
            },
            "header": {
             "fill": {
              "color": "#C8D4E3"
             },
             "line": {
              "color": "white"
             }
            },
            "type": "table"
           }
          ]
         },
         "layout": {
          "annotationdefaults": {
           "arrowcolor": "#2a3f5f",
           "arrowhead": 0,
           "arrowwidth": 1
          },
          "autotypenumbers": "strict",
          "coloraxis": {
           "colorbar": {
            "outlinewidth": 0,
            "ticks": ""
           }
          },
          "colorscale": {
           "diverging": [
            [
             0,
             "#8e0152"
            ],
            [
             0.1,
             "#c51b7d"
            ],
            [
             0.2,
             "#de77ae"
            ],
            [
             0.3,
             "#f1b6da"
            ],
            [
             0.4,
             "#fde0ef"
            ],
            [
             0.5,
             "#f7f7f7"
            ],
            [
             0.6,
             "#e6f5d0"
            ],
            [
             0.7,
             "#b8e186"
            ],
            [
             0.8,
             "#7fbc41"
            ],
            [
             0.9,
             "#4d9221"
            ],
            [
             1,
             "#276419"
            ]
           ],
           "sequential": [
            [
             0,
             "#0d0887"
            ],
            [
             0.1111111111111111,
             "#46039f"
            ],
            [
             0.2222222222222222,
             "#7201a8"
            ],
            [
             0.3333333333333333,
             "#9c179e"
            ],
            [
             0.4444444444444444,
             "#bd3786"
            ],
            [
             0.5555555555555556,
             "#d8576b"
            ],
            [
             0.6666666666666666,
             "#ed7953"
            ],
            [
             0.7777777777777778,
             "#fb9f3a"
            ],
            [
             0.8888888888888888,
             "#fdca26"
            ],
            [
             1,
             "#f0f921"
            ]
           ],
           "sequentialminus": [
            [
             0,
             "#0d0887"
            ],
            [
             0.1111111111111111,
             "#46039f"
            ],
            [
             0.2222222222222222,
             "#7201a8"
            ],
            [
             0.3333333333333333,
             "#9c179e"
            ],
            [
             0.4444444444444444,
             "#bd3786"
            ],
            [
             0.5555555555555556,
             "#d8576b"
            ],
            [
             0.6666666666666666,
             "#ed7953"
            ],
            [
             0.7777777777777778,
             "#fb9f3a"
            ],
            [
             0.8888888888888888,
             "#fdca26"
            ],
            [
             1,
             "#f0f921"
            ]
           ]
          },
          "colorway": [
           "#636efa",
           "#EF553B",
           "#00cc96",
           "#ab63fa",
           "#FFA15A",
           "#19d3f3",
           "#FF6692",
           "#B6E880",
           "#FF97FF",
           "#FECB52"
          ],
          "font": {
           "color": "#2a3f5f"
          },
          "geo": {
           "bgcolor": "white",
           "lakecolor": "white",
           "landcolor": "#E5ECF6",
           "showlakes": true,
           "showland": true,
           "subunitcolor": "white"
          },
          "hoverlabel": {
           "align": "left"
          },
          "hovermode": "closest",
          "mapbox": {
           "style": "light"
          },
          "paper_bgcolor": "white",
          "plot_bgcolor": "#E5ECF6",
          "polar": {
           "angularaxis": {
            "gridcolor": "white",
            "linecolor": "white",
            "ticks": ""
           },
           "bgcolor": "#E5ECF6",
           "radialaxis": {
            "gridcolor": "white",
            "linecolor": "white",
            "ticks": ""
           }
          },
          "scene": {
           "xaxis": {
            "backgroundcolor": "#E5ECF6",
            "gridcolor": "white",
            "gridwidth": 2,
            "linecolor": "white",
            "showbackground": true,
            "ticks": "",
            "zerolinecolor": "white"
           },
           "yaxis": {
            "backgroundcolor": "#E5ECF6",
            "gridcolor": "white",
            "gridwidth": 2,
            "linecolor": "white",
            "showbackground": true,
            "ticks": "",
            "zerolinecolor": "white"
           },
           "zaxis": {
            "backgroundcolor": "#E5ECF6",
            "gridcolor": "white",
            "gridwidth": 2,
            "linecolor": "white",
            "showbackground": true,
            "ticks": "",
            "zerolinecolor": "white"
           }
          },
          "shapedefaults": {
           "line": {
            "color": "#2a3f5f"
           }
          },
          "ternary": {
           "aaxis": {
            "gridcolor": "white",
            "linecolor": "white",
            "ticks": ""
           },
           "baxis": {
            "gridcolor": "white",
            "linecolor": "white",
            "ticks": ""
           },
           "bgcolor": "#E5ECF6",
           "caxis": {
            "gridcolor": "white",
            "linecolor": "white",
            "ticks": ""
           }
          },
          "title": {
           "x": 0.05
          },
          "xaxis": {
           "automargin": true,
           "gridcolor": "white",
           "linecolor": "white",
           "ticks": "",
           "title": {
            "standoff": 15
           },
           "zerolinecolor": "white",
           "zerolinewidth": 2
          },
          "yaxis": {
           "automargin": true,
           "gridcolor": "white",
           "linecolor": "white",
           "ticks": "",
           "title": {
            "standoff": 15
           },
           "zerolinecolor": "white",
           "zerolinewidth": 2
          }
         }
        },
        "title": {
         "text": "Slice Plot"
        },
        "width": 1500,
        "xaxis": {
         "anchor": "y",
         "domain": [
          0,
          0.16799999999999998
         ],
         "title": {
          "text": "alpha"
         }
        },
        "xaxis2": {
         "anchor": "y2",
         "domain": [
          0.208,
          0.376
         ],
         "title": {
          "text": "l1_ratio"
         }
        },
        "xaxis3": {
         "anchor": "y3",
         "domain": [
          0.416,
          0.584
         ],
         "title": {
          "text": "max_iter"
         },
         "type": "log"
        },
        "xaxis4": {
         "anchor": "y4",
         "categoryarray": [
          true,
          false
         ],
         "categoryorder": "array",
         "domain": [
          0.624,
          0.792
         ],
         "title": {
          "text": "positive"
         },
         "type": "category"
        },
        "xaxis5": {
         "anchor": "y5",
         "domain": [
          0.832,
          1
         ],
         "title": {
          "text": "tol"
         },
         "type": "log"
        },
        "yaxis": {
         "anchor": "x",
         "domain": [
          0,
          1
         ],
         "title": {
          "text": "Objective Value"
         }
        },
        "yaxis2": {
         "anchor": "x2",
         "domain": [
          0,
          1
         ],
         "matches": "y",
         "showticklabels": false
        },
        "yaxis3": {
         "anchor": "x3",
         "domain": [
          0,
          1
         ],
         "matches": "y",
         "showticklabels": false
        },
        "yaxis4": {
         "anchor": "x4",
         "domain": [
          0,
          1
         ],
         "matches": "y",
         "showticklabels": false
        },
        "yaxis5": {
         "anchor": "x5",
         "domain": [
          0,
          1
         ],
         "matches": "y",
         "showticklabels": false
        }
       }
      }
     },
     "metadata": {},
     "output_type": "display_data"
    },
    {
     "name": "stderr",
     "output_type": "stream",
     "text": [
      "/tmp/ipykernel_190831/1114543482.py:104: ExperimentalWarning:\n",
      "\n",
      "plot_timeline is experimental (supported from v3.2.0). The interface can change in the future.\n",
      "\n"
     ]
    },
    {
     "data": {
      "application/vnd.plotly.v1+json": {
       "config": {
        "plotlyServerURL": "https://plot.ly"
       },
       "data": [
        {
         "base": [
          "2024-03-09T11:30:47.537904",
          "2024-03-09T11:30:47.544931",
          "2024-03-09T11:30:47.551260",
          "2024-03-09T11:30:47.557874",
          "2024-03-09T11:30:47.564535",
          "2024-03-09T11:30:47.571195",
          "2024-03-09T11:30:47.578120",
          "2024-03-09T11:30:47.584794",
          "2024-03-09T11:30:47.592258",
          "2024-03-09T11:30:47.598993",
          "2024-03-09T11:30:47.605459",
          "2024-03-09T11:30:47.617349",
          "2024-03-09T11:30:47.629031",
          "2024-03-09T11:30:47.640765",
          "2024-03-09T11:30:47.651652",
          "2024-03-09T11:30:47.662190",
          "2024-03-09T11:30:47.673074",
          "2024-03-09T11:30:47.683852",
          "2024-03-09T11:30:47.704359",
          "2024-03-09T11:30:47.715215",
          "2024-03-09T11:30:47.737319",
          "2024-03-09T11:30:47.748885",
          "2024-03-09T11:30:47.760216",
          "2024-03-09T11:30:47.774323",
          "2024-03-09T11:30:47.804040",
          "2024-03-09T11:30:47.815520",
          "2024-03-09T11:30:47.837486",
          "2024-03-09T11:30:47.849699",
          "2024-03-09T11:30:47.861206",
          "2024-03-09T11:30:47.903943",
          "2024-03-09T11:30:47.947045",
          "2024-03-09T11:30:47.959404",
          "2024-03-09T11:30:47.993921",
          "2024-03-09T11:30:48.026995",
          "2024-03-09T11:30:48.038941",
          "2024-03-09T11:30:48.050904",
          "2024-03-09T11:30:48.063032",
          "2024-03-09T11:30:48.116883",
          "2024-03-09T11:30:48.140053",
          "2024-03-09T11:30:48.196950",
          "2024-03-09T11:30:48.208969",
          "2024-03-09T11:30:48.274817",
          "2024-03-09T11:30:48.287549",
          "2024-03-09T11:30:48.407396",
          "2024-03-09T11:30:48.443193",
          "2024-03-09T11:30:48.598198"
         ],
         "hovertemplate": "%{text}<extra>COMPLETE</extra>",
         "marker": {
          "color": "blue"
         },
         "name": "COMPLETE",
         "orientation": "h",
         "text": [
          "{<br>  \"number\": 0,<br>  \"values\": [<br>    26192.19415362568<br>  ],<br>  \"params\": {<br>    \"alpha\": 0.6964691855978616,<br>    \"l1_ratio\": 0.28613933495037946,<br>    \"positive\": false,<br>    \"max_iter\": 2744,<br>    \"tol\": 7.01799283113844e-05<br>  }<br>}",
          "{<br>  \"number\": 1,<br>  \"values\": [<br>    26302.637741241222<br>  ],<br>  \"params\": {<br>    \"alpha\": 0.9807641983846155,<br>    \"l1_ratio\": 0.6848297385848633,<br>    \"positive\": true,<br>    \"max_iter\": 484,<br>    \"tol\": 0.00028714378103928377<br>  }<br>}",
          "{<br>  \"number\": 2,<br>  \"values\": [<br>    26153.098784606816<br>  ],<br>  \"params\": {<br>    \"alpha\": 0.4385722446796244,<br>    \"l1_ratio\": 0.05967789660956835,<br>    \"positive\": false,<br>    \"max_iter\": 231,<br>    \"tol\": 2.2433834533274747e-05<br>  }<br>}",
          "{<br>  \"number\": 3,<br>  \"values\": [<br>    26099.09717111968<br>  ],<br>  \"params\": {<br>    \"alpha\": 0.5315513738418384,<br>    \"l1_ratio\": 0.5318275870968661,<br>    \"positive\": false,<br>    \"max_iter\": 2808,<br>    \"tol\": 0.00016674277362987863<br>  }<br>}",
          "{<br>  \"number\": 4,<br>  \"values\": [<br>    26363.53522878533<br>  ],<br>  \"params\": {<br>    \"alpha\": 0.7224433825702216,<br>    \"l1_ratio\": 0.3229589138531782,<br>    \"positive\": true,<br>    \"max_iter\": 385,<br>    \"tol\": 0.0001827899220785679<br>  }<br>}",
          "{<br>  \"number\": 5,<br>  \"values\": [<br>    26049.691726748944<br>  ],<br>  \"params\": {<br>    \"alpha\": 0.09210493994507518,<br>    \"l1_ratio\": 0.43370117267952824,<br>    \"positive\": false,<br>    \"max_iter\": 709,<br>    \"tol\": 4.212330570736679e-05<br>  }<br>}",
          "{<br>  \"number\": 6,<br>  \"values\": [<br>    26228.062448445282<br>  ],<br>  \"params\": {<br>    \"alpha\": 0.4263513069628082,<br>    \"l1_ratio\": 0.8933891631171348,<br>    \"positive\": true,<br>    \"max_iter\": 1766,<br>    \"tol\": 1.7030868284599993e-05<br>  }<br>}",
          "{<br>  \"number\": 7,<br>  \"values\": [<br>    26256.57356868635<br>  ],<br>  \"params\": {<br>    \"alpha\": 0.3172854818203209,<br>    \"l1_ratio\": 0.4148262119536318,<br>    \"positive\": true,<br>    \"max_iter\": 922,<br>    \"tol\": 0.0009356632482180258<br>  }<br>}",
          "{<br>  \"number\": 8,<br>  \"values\": [<br>    26084.403995998917<br>  ],<br>  \"params\": {<br>    \"alpha\": 0.5194851192598093,<br>    \"l1_ratio\": 0.6128945257629677,<br>    \"positive\": false,<br>    \"max_iter\": 1604,<br>    \"tol\": 0.00012306541283893792<br>  }<br>}",
          "{<br>  \"number\": 9,<br>  \"values\": [<br>    26093.399000909936<br>  ],<br>  \"params\": {<br>    \"alpha\": 0.3427638337743084,<br>    \"l1_ratio\": 0.3041207890271841,<br>    \"positive\": false,<br>    \"max_iter\": 5632,<br>    \"tol\": 0.00010491671278319497<br>  }<br>}",
          "{<br>  \"number\": 10,<br>  \"values\": [<br>    26052.444438356008<br>  ],<br>  \"params\": {<br>    \"alpha\": 0.06889158546742416,<br>    \"l1_ratio\": 0.9863798222314493,<br>    \"positive\": false,<br>    \"max_iter\": 103,<br>    \"tol\": 4.368893874919379e-05<br>  }<br>}",
          "{<br>  \"number\": 11,<br>  \"values\": [<br>    26064.033983293488<br>  ],<br>  \"params\": {<br>    \"alpha\": 0.006453374219829056,<br>    \"l1_ratio\": 0.9444656052010494,<br>    \"positive\": false,<br>    \"max_iter\": 110,<br>    \"tol\": 3.5415564121989416e-05<br>  }<br>}",
          "{<br>  \"number\": 12,<br>  \"values\": [<br>    26042.58413262592<br>  ],<br>  \"params\": {<br>    \"alpha\": 0.1049152166318279,<br>    \"l1_ratio\": 0.7522550118761866,<br>    \"positive\": false,<br>    \"max_iter\": 101,<br>    \"tol\": 1.0878866376925218e-05<br>  }<br>}",
          "{<br>  \"number\": 13,<br>  \"values\": [<br>    26048.266751910374<br>  ],<br>  \"params\": {<br>    \"alpha\": 0.19232207105154253,<br>    \"l1_ratio\": 0.7278259329003384,<br>    \"positive\": false,<br>    \"max_iter\": 249,<br>    \"tol\": 1.0768485034484211e-05<br>  }<br>}",
          "{<br>  \"number\": 14,<br>  \"values\": [<br>    26045.683924900888<br>  ],<br>  \"params\": {<br>    \"alpha\": 0.17538829565424222,<br>    \"l1_ratio\": 0.7767377450242181,<br>    \"positive\": false,<br>    \"max_iter\": 189,<br>    \"tol\": 1.0170803688691841e-05<br>  }<br>}",
          "{<br>  \"number\": 15,<br>  \"values\": [<br>    26044.83615711975<br>  ],<br>  \"params\": {<br>    \"alpha\": 0.19623572345647122,<br>    \"l1_ratio\": 0.8160591907654154,<br>    \"positive\": false,<br>    \"max_iter\": 168,<br>    \"tol\": 1.010115367316361e-05<br>  }<br>}",
          "{<br>  \"number\": 16,<br>  \"values\": [<br>    26044.695223702336<br>  ],<br>  \"params\": {<br>    \"alpha\": 0.20925744353235726,<br>    \"l1_ratio\": 0.8414149107253112,<br>    \"positive\": false,<br>    \"max_iter\": 101,<br>    \"tol\": 2.0584926956795804e-05<br>  }<br>}",
          "{<br>  \"number\": 17,<br>  \"values\": [<br>    26062.148254369356<br>  ],<br>  \"params\": {<br>    \"alpha\": 0.005978209644977167,<br>    \"l1_ratio\": 0.8744399378075134,<br>    \"positive\": false,<br>    \"max_iter\": 107,<br>    \"tol\": 2.0570869214387032e-05<br>  }<br>}",
          "{<br>  \"number\": 19,<br>  \"values\": [<br>    26041.05622982059<br>  ],<br>  \"params\": {<br>    \"alpha\": 0.13259277906516953,<br>    \"l1_ratio\": 0.8182366901913751,<br>    \"positive\": false,<br>    \"max_iter\": 507,<br>    \"tol\": 3.1589182972600855e-05<br>  }<br>}",
          "{<br>  \"number\": 20,<br>  \"values\": [<br>    26051.228403183166<br>  ],<br>  \"params\": {<br>    \"alpha\": 0.10910413121754992,<br>    \"l1_ratio\": 0.994855011386929,<br>    \"positive\": false,<br>    \"max_iter\": 402,<br>    \"tol\": 3.270023836124993e-05<br>  }<br>}",
          "{<br>  \"number\": 22,<br>  \"values\": [<br>    26040.455928247775<br>  ],<br>  \"params\": {<br>    \"alpha\": 0.1525563597193584,<br>    \"l1_ratio\": 0.849097536018296,<br>    \"positive\": false,<br>    \"max_iter\": 541,<br>    \"tol\": 2.585206981598495e-05<br>  }<br>}",
          "{<br>  \"number\": 23,<br>  \"values\": [<br>    26046.028884515716<br>  ],<br>  \"params\": {<br>    \"alpha\": 0.12955289287015526,<br>    \"l1_ratio\": 0.7514780220575703,<br>    \"positive\": false,<br>    \"max_iter\": 609,<br>    \"tol\": 2.8705423117628808e-05<br>  }<br>}",
          "{<br>  \"number\": 24,<br>  \"values\": [<br>    26084.433068359183<br>  ],<br>  \"params\": {<br>    \"alpha\": 0.0018730592122092604,<br>    \"l1_ratio\": 0.8493483603573282,<br>    \"positive\": false,<br>    \"max_iter\": 619,<br>    \"tol\": 5.495129838658247e-05<br>  }<br>}",
          "{<br>  \"number\": 25,<br>  \"values\": [<br>    26043.099530576128<br>  ],<br>  \"params\": {<br>    \"alpha\": 0.12215069795075262,<br>    \"l1_ratio\": 0.9035193606967687,<br>    \"positive\": false,<br>    \"max_iter\": 355,<br>    \"tol\": 1.418418278694914e-05<br>  }<br>}",
          "{<br>  \"number\": 28,<br>  \"values\": [<br>    26040.87144932112<br>  ],<br>  \"params\": {<br>    \"alpha\": 0.14935566003678322,<br>    \"l1_ratio\": 0.9259352166092387,<br>    \"positive\": false,<br>    \"max_iter\": 228,<br>    \"tol\": 2.7660140053900263e-05<br>  }<br>}",
          "{<br>  \"number\": 29,<br>  \"values\": [<br>    26037.70412896472<br>  ],<br>  \"params\": {<br>    \"alpha\": 0.16750730720704493,<br>    \"l1_ratio\": 0.9264081390247195,<br>    \"positive\": false,<br>    \"max_iter\": 277,<br>    \"tol\": 6.030170650150352e-05<br>  }<br>}",
          "{<br>  \"number\": 31,<br>  \"values\": [<br>    26046.700844023082<br>  ],<br>  \"params\": {<br>    \"alpha\": 0.16009902485295135,<br>    \"l1_ratio\": 0.9958702433856649,<br>    \"positive\": false,<br>    \"max_iter\": 278,<br>    \"tol\": 5.290629665297405e-05<br>  }<br>}",
          "{<br>  \"number\": 32,<br>  \"values\": [<br>    26038.543913967045<br>  ],<br>  \"params\": {<br>    \"alpha\": 0.17196100864438163,<br>    \"l1_ratio\": 0.9137152301235119,<br>    \"positive\": false,<br>    \"max_iter\": 568,<br>    \"tol\": 3.362756683283639e-05<br>  }<br>}",
          "{<br>  \"number\": 33,<br>  \"values\": [<br>    26037.702823810167<br>  ],<br>  \"params\": {<br>    \"alpha\": 0.25002898850247457,<br>    \"l1_ratio\": 0.9225097686336162,<br>    \"positive\": false,<br>    \"max_iter\": 449,<br>    \"tol\": 7.108204603658521e-05<br>  }<br>}",
          "{<br>  \"number\": 37,<br>  \"values\": [<br>    26053.315378710813<br>  ],<br>  \"params\": {<br>    \"alpha\": 0.05760548640646945,<br>    \"l1_ratio\": 0.9438378975741367,<br>    \"positive\": false,<br>    \"max_iter\": 747,<br>    \"tol\": 5.329190948087768e-05<br>  }<br>}",
          "{<br>  \"number\": 41,<br>  \"values\": [<br>    26037.579459370227<br>  ],<br>  \"params\": {<br>    \"alpha\": 0.16612066100455697,<br>    \"l1_ratio\": 0.9221441164439784,<br>    \"positive\": false,<br>    \"max_iter\": 234,<br>    \"tol\": 2.2769349438977857e-05<br>  }<br>}",
          "{<br>  \"number\": 42,<br>  \"values\": [<br>    26046.464860623095<br>  ],<br>  \"params\": {<br>    \"alpha\": 0.15299420353327295,<br>    \"l1_ratio\": 0.9756292181507696,<br>    \"positive\": false,<br>    \"max_iter\": 286,<br>    \"tol\": 2.301655034626176e-05<br>  }<br>}",
          "{<br>  \"number\": 45,<br>  \"values\": [<br>    26047.100932164918<br>  ],<br>  \"params\": {<br>    \"alpha\": 0.05372851550525773,<br>    \"l1_ratio\": 0.8334801682120019,<br>    \"positive\": false,<br>    \"max_iter\": 223,<br>    \"tol\": 2.6093262790627616e-05<br>  }<br>}",
          "{<br>  \"number\": 48,<br>  \"values\": [<br>    26039.091446062826<br>  ],<br>  \"params\": {<br>    \"alpha\": 0.17598634835350882,<br>    \"l1_ratio\": 0.8966336870205862,<br>    \"positive\": false,<br>    \"max_iter\": 831,<br>    \"tol\": 5.53673669616714e-05<br>  }<br>}",
          "{<br>  \"number\": 49,<br>  \"values\": [<br>    26038.717397972505<br>  ],<br>  \"params\": {<br>    \"alpha\": 0.18277273989895781,<br>    \"l1_ratio\": 0.9067130171467775,<br>    \"positive\": false,<br>    \"max_iter\": 888,<br>    \"tol\": 6.0568436572184315e-05<br>  }<br>}",
          "{<br>  \"number\": 50,<br>  \"values\": [<br>    26041.50446215703<br>  ],<br>  \"params\": {<br>    \"alpha\": 0.09826793243740933,<br>    \"l1_ratio\": 0.8018091973654686,<br>    \"positive\": false,<br>    \"max_iter\": 1186,<br>    \"tol\": 0.0001222374020945858<br>  }<br>}",
          "{<br>  \"number\": 51,<br>  \"values\": [<br>    26039.01641656323<br>  ],<br>  \"params\": {<br>    \"alpha\": 0.18841904564452655,<br>    \"l1_ratio\": 0.8973670231097907,<br>    \"positive\": false,<br>    \"max_iter\": 789,<br>    \"tol\": 5.854223888986609e-05<br>  }<br>}",
          "{<br>  \"number\": 56,<br>  \"values\": [<br>    26049.26827997214<br>  ],<br>  \"params\": {<br>    \"alpha\": 0.07575889785977566,<br>    \"l1_ratio\": 0.948525383168446,<br>    \"positive\": false,<br>    \"max_iter\": 1106,<br>    \"tol\": 4.3678032756255584e-05<br>  }<br>}",
          "{<br>  \"number\": 58,<br>  \"values\": [<br>    26053.859017201317<br>  ],<br>  \"params\": {<br>    \"alpha\": 0.03581706533195245,<br>    \"l1_ratio\": 0.9024573008664311,<br>    \"positive\": false,<br>    \"max_iter\": 139,<br>    \"tol\": 0.00011104328123218266<br>  }<br>}",
          "{<br>  \"number\": 63,<br>  \"values\": [<br>    26035.155047234006<br>  ],<br>  \"params\": {<br>    \"alpha\": 0.26311917699247456,<br>    \"l1_ratio\": 0.9662650311645659,<br>    \"positive\": false,<br>    \"max_iter\": 568,<br>    \"tol\": 8.766900858206071e-05<br>  }<br>}",
          "{<br>  \"number\": 64,<br>  \"values\": [<br>    26035.918396777754<br>  ],<br>  \"params\": {<br>    \"alpha\": 0.23530442989681286,<br>    \"l1_ratio\": 0.956975421278713,<br>    \"positive\": false,<br>    \"max_iter\": 572,<br>    \"tol\": 8.886298567450159e-05<br>  }<br>}",
          "{<br>  \"number\": 70,<br>  \"values\": [<br>    26044.29641643765<br>  ],<br>  \"params\": {<br>    \"alpha\": 0.13678496379380362,<br>    \"l1_ratio\": 0.9511665495976022,<br>    \"positive\": false,<br>    \"max_iter\": 368,<br>    \"tol\": 0.00014835924640633873<br>  }<br>}",
          "{<br>  \"number\": 71,<br>  \"values\": [<br>    26038.659209271176<br>  ],<br>  \"params\": {<br>    \"alpha\": 0.17351366703643933,<br>    \"l1_ratio\": 0.9095842149084504,<br>    \"positive\": false,<br>    \"max_iter\": 555,<br>    \"tol\": 5.998157032498795e-05<br>  }<br>}",
          "{<br>  \"number\": 82,<br>  \"values\": [<br>    26046.62835999781<br>  ],<br>  \"params\": {<br>    \"alpha\": 0.14165984917269153,<br>    \"l1_ratio\": 0.9708640474516788,<br>    \"positive\": false,<br>    \"max_iter\": 692,<br>    \"tol\": 4.196311906357738e-05<br>  }<br>}",
          "{<br>  \"number\": 85,<br>  \"values\": [<br>    26047.08140502761<br>  ],<br>  \"params\": {<br>    \"alpha\": 0.11382167064686535,<br>    \"l1_ratio\": 0.9643997096132664,<br>    \"positive\": false,<br>    \"max_iter\": 591,<br>    \"tol\": 4.784788008660964e-05<br>  }<br>}",
          "{<br>  \"number\": 99,<br>  \"values\": [<br>    26049.150725980824<br>  ],<br>  \"params\": {<br>    \"alpha\": 0.09589452808221205,<br>    \"l1_ratio\": 0.9757555045648825,<br>    \"positive\": false,<br>    \"max_iter\": 645,<br>    \"tol\": 4.3382550553511776e-05<br>  }<br>}"
         ],
         "textposition": "none",
         "type": "bar",
         "x": [
          5.8149999999999995,
          5.046,
          5.235,
          5.2620000000000005,
          5.39,
          5.601,
          5.288,
          6.068,
          5.428,
          5.247,
          10.723999999999998,
          10.516,
          10.495000000000001,
          10.148000000000001,
          9.852,
          10.17,
          10.065,
          10.871,
          10.111,
          11.327,
          10.744,
          10.508999999999999,
          13.162,
          10.806,
          10.747,
          10.784,
          11.514,
          10.833,
          11.545,
          12.023000000000001,
          11.573,
          12.123999999999999,
          12.017,
          11.186,
          11.239,
          11.403,
          11.214,
          12.213999999999999,
          13.147,
          11.338000000000001,
          11.418,
          12.088,
          11.523,
          12.369,
          12.335,
          12.859
         ],
         "y": [
          0,
          1,
          2,
          3,
          4,
          5,
          6,
          7,
          8,
          9,
          10,
          11,
          12,
          13,
          14,
          15,
          16,
          17,
          19,
          20,
          22,
          23,
          24,
          25,
          28,
          29,
          31,
          32,
          33,
          37,
          41,
          42,
          45,
          48,
          49,
          50,
          51,
          56,
          58,
          63,
          64,
          70,
          71,
          82,
          85,
          99
         ]
        },
        {
         "base": [
          "2024-03-09T11:30:47.695687",
          "2024-03-09T11:30:47.727238",
          "2024-03-09T11:30:47.785808",
          "2024-03-09T11:30:47.794942",
          "2024-03-09T11:30:47.827066",
          "2024-03-09T11:30:47.873633",
          "2024-03-09T11:30:47.884386",
          "2024-03-09T11:30:47.894125",
          "2024-03-09T11:30:47.916746",
          "2024-03-09T11:30:47.926483",
          "2024-03-09T11:30:47.936342",
          "2024-03-09T11:30:47.972290",
          "2024-03-09T11:30:47.983046",
          "2024-03-09T11:30:48.006926",
          "2024-03-09T11:30:48.016931",
          "2024-03-09T11:30:48.074952",
          "2024-03-09T11:30:48.085866",
          "2024-03-09T11:30:48.095653",
          "2024-03-09T11:30:48.106680",
          "2024-03-09T11:30:48.129875",
          "2024-03-09T11:30:48.154194",
          "2024-03-09T11:30:48.164873",
          "2024-03-09T11:30:48.175342",
          "2024-03-09T11:30:48.186759",
          "2024-03-09T11:30:48.221010",
          "2024-03-09T11:30:48.232169",
          "2024-03-09T11:30:48.243289",
          "2024-03-09T11:30:48.253473",
          "2024-03-09T11:30:48.264582",
          "2024-03-09T11:30:48.299787",
          "2024-03-09T11:30:48.310004",
          "2024-03-09T11:30:48.320228",
          "2024-03-09T11:30:48.331523",
          "2024-03-09T11:30:48.343008",
          "2024-03-09T11:30:48.353435",
          "2024-03-09T11:30:48.363822",
          "2024-03-09T11:30:48.374434",
          "2024-03-09T11:30:48.385738",
          "2024-03-09T11:30:48.396061",
          "2024-03-09T11:30:48.420477",
          "2024-03-09T11:30:48.431828",
          "2024-03-09T11:30:48.456310",
          "2024-03-09T11:30:48.466837",
          "2024-03-09T11:30:48.477308",
          "2024-03-09T11:30:48.488849",
          "2024-03-09T11:30:48.500273",
          "2024-03-09T11:30:48.510906",
          "2024-03-09T11:30:48.521386",
          "2024-03-09T11:30:48.531854",
          "2024-03-09T11:30:48.543543",
          "2024-03-09T11:30:48.554036",
          "2024-03-09T11:30:48.564745",
          "2024-03-09T11:30:48.577248",
          "2024-03-09T11:30:48.587774"
         ],
         "hovertemplate": "%{text}<extra>PRUNED</extra>",
         "marker": {
          "color": "orange"
         },
         "name": "PRUNED",
         "orientation": "h",
         "text": [
          "{<br>  \"number\": 18,<br>  \"values\": [<br>    26607.691332999566<br>  ],<br>  \"params\": {<br>    \"alpha\": 0.271512713714735,<br>    \"l1_ratio\": 0.6641304820414992,<br>    \"positive\": true,<br>    \"max_iter\": 321,<br>    \"tol\": 2.056327170597928e-05<br>  }<br>}",
          "{<br>  \"number\": 21,<br>  \"values\": [<br>    24411.40204853707<br>  ],<br>  \"params\": {<br>    \"alpha\": 0.24081557171204956,<br>    \"l1_ratio\": 0.8014024179673278,<br>    \"positive\": false,<br>    \"max_iter\": 169,<br>    \"tol\": 1.5358986308133715e-05<br>  }<br>}",
          "{<br>  \"number\": 26,<br>  \"values\": [<br>    26613.941981262127<br>  ],<br>  \"params\": {<br>    \"alpha\": 0.06634777465989264,<br>    \"l1_ratio\": 0.6155848658753359,<br>    \"positive\": true,<br>    \"max_iter\": 983,<br>    \"tol\": 2.6125682960114055e-05<br>  }<br>}",
          "{<br>  \"number\": 27,<br>  \"values\": [<br>    26201.57383287596<br>  ],<br>  \"params\": {<br>    \"alpha\": 0.266765020971394,<br>    \"l1_ratio\": 0.754209802620434,<br>    \"positive\": false,<br>    \"max_iter\": 481,<br>    \"tol\": 1.3883535699765547e-05<br>  }<br>}",
          "{<br>  \"number\": 30,<br>  \"values\": [<br>    24385.40058877196<br>  ],<br>  \"params\": {<br>    \"alpha\": 0.3390365434255592,<br>    \"l1_ratio\": 0.9295462109346586,<br>    \"positive\": false,<br>    \"max_iter\": 312,<br>    \"tol\": 6.858333077802677e-05<br>  }<br>}",
          "{<br>  \"number\": 34,<br>  \"values\": [<br>    24392.49055850634<br>  ],<br>  \"params\": {<br>    \"alpha\": 0.2682957791961753,<br>    \"l1_ratio\": 0.8685981880037964,<br>    \"positive\": false,<br>    \"max_iter\": 749,<br>    \"tol\": 7.67746074755593e-05<br>  }<br>}",
          "{<br>  \"number\": 35,<br>  \"values\": [<br>    26612.449657318568<br>  ],<br>  \"params\": {<br>    \"alpha\": 0.2171121449592852,<br>    \"l1_ratio\": 0.927673836908423,<br>    \"positive\": true,<br>    \"max_iter\": 492,<br>    \"tol\": 7.498537859713825e-05<br>  }<br>}",
          "{<br>  \"number\": 36,<br>  \"values\": [<br>    26193.560265637432<br>  ],<br>  \"params\": {<br>    \"alpha\": 0.4244639716559926,<br>    \"l1_ratio\": 0.8641319208454059,<br>    \"positive\": false,<br>    \"max_iter\": 420,<br>    \"tol\": 4.055229407687444e-05<br>  }<br>}",
          "{<br>  \"number\": 38,<br>  \"values\": [<br>    26607.219125866977<br>  ],<br>  \"params\": {<br>    \"alpha\": 0.3123557577919368,<br>    \"l1_ratio\": 0.6880527772912489,<br>    \"positive\": true,<br>    \"max_iter\": 1217,<br>    \"tol\": 4.283905568184021e-05<br>  }<br>}",
          "{<br>  \"number\": 39,<br>  \"values\": [<br>    26201.732712000095<br>  ],<br>  \"params\": {<br>    \"alpha\": 0.3852656660297531,<br>    \"l1_ratio\": 0.8009598606436162,<br>    \"positive\": false,<br>    \"max_iter\": 369,<br>    \"tol\": 6.718358647380498e-05<br>  }<br>}",
          "{<br>  \"number\": 40,<br>  \"values\": [<br>    24378.559126112057<br>  ],<br>  \"params\": {<br>    \"alpha\": 0.23562776795495277,<br>    \"l1_ratio\": 0.8866100608140145,<br>    \"positive\": false,<br>    \"max_iter\": 614,<br>    \"tol\": 9.778801309024016e-05<br>  }<br>}",
          "{<br>  \"number\": 43,<br>  \"values\": [<br>    24371.17204728314<br>  ],<br>  \"params\": {<br>    \"alpha\": 0.29825864455718065,<br>    \"l1_ratio\": 0.947808140838038,<br>    \"positive\": false,<br>    \"max_iter\": 462,<br>    \"tol\": 3.8490476698071715e-05<br>  }<br>}",
          "{<br>  \"number\": 44,<br>  \"values\": [<br>    24368.578102299398<br>  ],<br>  \"params\": {<br>    \"alpha\": 0.20327894118811085,<br>    \"l1_ratio\": 0.8959871578390493,<br>    \"positive\": false,<br>    \"max_iter\": 350,<br>    \"tol\": 3.300916706492234e-05<br>  }<br>}",
          "{<br>  \"number\": 46,<br>  \"values\": [<br>    26607.66675657209<br>  ],<br>  \"params\": {<br>    \"alpha\": 0.48040955122035334,<br>    \"l1_ratio\": 0.9665782534708482,<br>    \"positive\": true,<br>    \"max_iter\": 281,<br>    \"tol\": 4.831590629933647e-05<br>  }<br>}",
          "{<br>  \"number\": 47,<br>  \"values\": [<br>    26188.83074578699<br>  ],<br>  \"params\": {<br>    \"alpha\": 0.37446751047887933,<br>    \"l1_ratio\": 0.9973616079809203,<br>    \"positive\": false,<br>    \"max_iter\": 550,<br>    \"tol\": 3.810264678294231e-05<br>  }<br>}",
          "{<br>  \"number\": 52,<br>  \"values\": [<br>    24371.490000214744<br>  ],<br>  \"params\": {<br>    \"alpha\": 0.24269735126891942,<br>    \"l1_ratio\": 0.9161391504371919,<br>    \"positive\": false,<br>    \"max_iter\": 797,<br>    \"tol\": 8.881064304534008e-05<br>  }<br>}",
          "{<br>  \"number\": 53,<br>  \"values\": [<br>    26188.981959291978<br>  ],<br>  \"params\": {<br>    \"alpha\": 0.19259088471631408,<br>    \"l1_ratio\": 0.9609932863070462,<br>    \"positive\": false,<br>    \"max_iter\": 652,<br>    \"tol\": 6.690927399335682e-05<br>  }<br>}",
          "{<br>  \"number\": 54,<br>  \"values\": [<br>    24382.7096336799<br>  ],<br>  \"params\": {<br>    \"alpha\": 0.23261143997387645,<br>    \"l1_ratio\": 0.8696445110338841,<br>    \"positive\": false,<br>    \"max_iter\": 915,<br>    \"tol\": 6.105102258300522e-05<br>  }<br>}",
          "{<br>  \"number\": 55,<br>  \"values\": [<br>    26200.13482127533<br>  ],<br>  \"params\": {<br>    \"alpha\": 0.2846750784165752,<br>    \"l1_ratio\": 0.7785301816646595,<br>    \"positive\": false,<br>    \"max_iter\": 403,<br>    \"tol\": 8.34087830928145e-05<br>  }<br>}",
          "{<br>  \"number\": 57,<br>  \"values\": [<br>    26611.440781777354<br>  ],<br>  \"params\": {<br>    \"alpha\": 0.1856054505156869,<br>    \"l1_ratio\": 0.8400021217403456,<br>    \"positive\": true,<br>    \"max_iter\": 1752,<br>    \"tol\": 4.690891705463105e-05<br>  }<br>}",
          "{<br>  \"number\": 59,<br>  \"values\": [<br>    26186.997676631523<br>  ],<br>  \"params\": {<br>    \"alpha\": 0.10750251901068178,<br>    \"l1_ratio\": 0.8274146388030339,<br>    \"positive\": false,<br>    \"max_iter\": 430,<br>    \"tol\": 0.00013837642034556657<br>  }<br>}",
          "{<br>  \"number\": 60,<br>  \"values\": [<br>    26192.766521935144<br>  ],<br>  \"params\": {<br>    \"alpha\": 0.12976322092180265,<br>    \"l1_ratio\": 0.7178987768150884,<br>    \"positive\": false,<br>    \"max_iter\": 213,<br>    \"tol\": 3.51296241241849e-05<br>  }<br>}",
          "{<br>  \"number\": 61,<br>  \"values\": [<br>    24371.059638653136<br>  ],<br>  \"params\": {<br>    \"alpha\": 0.19709628101734145,<br>    \"l1_ratio\": 0.8797786824866763,<br>    \"positive\": false,<br>    \"max_iter\": 766,<br>    \"tol\": 5.341152059875892e-05<br>  }<br>}",
          "{<br>  \"number\": 62,<br>  \"values\": [<br>    26187.86624807561<br>  ],<br>  \"params\": {<br>    \"alpha\": 0.15567748755011906,<br>    \"l1_ratio\": 0.9168106071636715,<br>    \"positive\": false,<br>    \"max_iter\": 859,<br>    \"tol\": 6.081044572170617e-05<br>  }<br>}",
          "{<br>  \"number\": 65,<br>  \"values\": [<br>    24363.051919921923<br>  ],<br>  \"params\": {<br>    \"alpha\": 0.3156330579969069,<br>    \"l1_ratio\": 0.9769700404322994,<br>    \"positive\": false,<br>    \"max_iter\": 538,<br>    \"tol\": 8.900653185190003e-05<br>  }<br>}",
          "{<br>  \"number\": 66,<br>  \"values\": [<br>    24364.655498300734<br>  ],<br>  \"params\": {<br>    \"alpha\": 0.27054326744715307,<br>    \"l1_ratio\": 0.9543345320300178,<br>    \"positive\": false,<br>    \"max_iter\": 314,<br>    \"tol\": 7.848785099259959e-05<br>  }<br>}",
          "{<br>  \"number\": 67,<br>  \"values\": [<br>    26189.851618670065<br>  ],<br>  \"params\": {<br>    \"alpha\": 0.24927125870938197,<br>    \"l1_ratio\": 0.9938506154520175,<br>    \"positive\": false,<br>    \"max_iter\": 254,<br>    \"tol\": 0.0001808628378716968<br>  }<br>}",
          "{<br>  \"number\": 68,<br>  \"values\": [<br>    24362.542426175045<br>  ],<br>  \"params\": {<br>    \"alpha\": 0.217700830050413,<br>    \"l1_ratio\": 0.9316153461133915,<br>    \"positive\": false,<br>    \"max_iter\": 651,<br>    \"tol\": 9.842893393225983e-05<br>  }<br>}",
          "{<br>  \"number\": 69,<br>  \"values\": [<br>    26614.83211207964<br>  ],<br>  \"params\": {<br>    \"alpha\": 0.09762057475930838,<br>    \"l1_ratio\": 0.8573426202809522,<br>    \"positive\": true,<br>    \"max_iter\": 446,<br>    \"tol\": 7.245721897970552e-05<br>  }<br>}",
          "{<br>  \"number\": 72,<br>  \"values\": [<br>    26187.47063475065<br>  ],<br>  \"params\": {<br>    \"alpha\": 0.1654747574142018,<br>    \"l1_ratio\": 0.9233264035027835,<br>    \"positive\": false,<br>    \"max_iter\": 556,<br>    \"tol\": 4.8530389340456676e-05<br>  }<br>}",
          "{<br>  \"number\": 73,<br>  \"values\": [<br>    26191.102862003572<br>  ],<br>  \"params\": {<br>    \"alpha\": 0.2550563048565502,<br>    \"l1_ratio\": 0.9999405239050092,<br>    \"positive\": false,<br>    \"max_iter\": 470,<br>    \"tol\": 8.588873768139671e-05<br>  }<br>}",
          "{<br>  \"number\": 74,<br>  \"values\": [<br>    24381.36581512733<br>  ],<br>  \"params\": {<br>    \"alpha\": 0.219919806677839,<br>    \"l1_ratio\": 0.8624670128048284,<br>    \"positive\": false,<br>    \"max_iter\": 708,<br>    \"tol\": 0.00011056709547820985<br>  }<br>}",
          "{<br>  \"number\": 75,<br>  \"values\": [<br>    24362.15241742986<br>  ],<br>  \"params\": {<br>    \"alpha\": 0.2925711383619551,<br>    \"l1_ratio\": 0.971257599552159,<br>    \"positive\": false,<br>    \"max_iter\": 582,<br>    \"tol\": 6.5188050943686e-05<br>  }<br>}",
          "{<br>  \"number\": 76,<br>  \"values\": [<br>    26188.312341368626<br>  ],<br>  \"params\": {<br>    \"alpha\": 0.1259176228108034,<br>    \"l1_ratio\": 0.8808019604615706,<br>    \"positive\": false,<br>    \"max_iter\": 515,<br>    \"tol\": 7.615437704519235e-05<br>  }<br>}",
          "{<br>  \"number\": 77,<br>  \"values\": [<br>    26191.539097276902<br>  ],<br>  \"params\": {<br>    \"alpha\": 0.21640149313719875,<br>    \"l1_ratio\": 0.8145829580530621,<br>    \"positive\": false,<br>    \"max_iter\": 334,<br>    \"tol\": 2.979512786533841e-05<br>  }<br>}",
          "{<br>  \"number\": 78,<br>  \"values\": [<br>    26185.70752483533<br>  ],<br>  \"params\": {<br>    \"alpha\": 0.1719567054902761,<br>    \"l1_ratio\": 0.9134408397241539,<br>    \"positive\": false,<br>    \"max_iter\": 405,<br>    \"tol\": 3.639241141559667e-05<br>  }<br>}",
          "{<br>  \"number\": 79,<br>  \"values\": [<br>    24367.97756921148<br>  ],<br>  \"params\": {<br>    \"alpha\": 0.26174903227702784,<br>    \"l1_ratio\": 0.9393321279546708,<br>    \"positive\": false,<br>    \"max_iter\": 473,<br>    \"tol\": 6.531954192754038e-05<br>  }<br>}",
          "{<br>  \"number\": 80,<br>  \"values\": [<br>    26615.200854456263<br>  ],<br>  \"params\": {<br>    \"alpha\": 0.0854882012971675,<br>    \"l1_ratio\": 0.8495577065027935,<br>    \"positive\": true,<br>    \"max_iter\": 641,<br>    \"tol\": 9.617414808496568e-05<br>  }<br>}",
          "{<br>  \"number\": 81,<br>  \"values\": [<br>    24362.886258506318<br>  ],<br>  \"params\": {<br>    \"alpha\": 0.18188490308016786,<br>    \"l1_ratio\": 0.9004687536519584,<br>    \"positive\": false,<br>    \"max_iter\": 922,<br>    \"tol\": 6.037046074784582e-05<br>  }<br>}",
          "{<br>  \"number\": 83,<br>  \"values\": [<br>    24371.22960629832<br>  ],<br>  \"params\": {<br>    \"alpha\": 0.20641269833635123,<br>    \"l1_ratio\": 0.8881910906969571,<br>    \"positive\": false,<br>    \"max_iter\": 1006,<br>    \"tol\": 7.311689754849556e-05<br>  }<br>}",
          "{<br>  \"number\": 84,<br>  \"values\": [<br>    24365.77723308664<br>  ],<br>  \"params\": {<br>    \"alpha\": 0.23217167764132227,<br>    \"l1_ratio\": 0.9291547165773514,<br>    \"positive\": false,<br>    \"max_iter\": 710,<br>    \"tol\": 5.9342509237823285e-05<br>  }<br>}",
          "{<br>  \"number\": 86,<br>  \"values\": [<br>    26185.12467358984<br>  ],<br>  \"params\": {<br>    \"alpha\": 0.16871076496920756,<br>    \"l1_ratio\": 0.9059413806295716,<br>    \"positive\": false,<br>    \"max_iter\": 507,<br>    \"tol\": 8.195890853254752e-05<br>  }<br>}",
          "{<br>  \"number\": 87,<br>  \"values\": [<br>    26185.551700029617<br>  ],<br>  \"params\": {<br>    \"alpha\": 0.19260744663042859,<br>    \"l1_ratio\": 0.8394787326619388,<br>    \"positive\": false,<br>    \"max_iter\": 410,<br>    \"tol\": 5.358942950217024e-05<br>  }<br>}",
          "{<br>  \"number\": 88,<br>  \"values\": [<br>    24394.590347692843<br>  ],<br>  \"params\": {<br>    \"alpha\": 0.2961437568749016,<br>    \"l1_ratio\": 0.8828693921735686,<br>    \"positive\": false,<br>    \"max_iter\": 784,<br>    \"tol\": 3.10109515836393e-05<br>  }<br>}",
          "{<br>  \"number\": 89,<br>  \"values\": [<br>    24380.863104745345<br>  ],<br>  \"params\": {<br>    \"alpha\": 0.33682333144491305,<br>    \"l1_ratio\": 0.939469565017978,<br>    \"positive\": false,<br>    \"max_iter\": 366,<br>    \"tol\": 6.958584528903976e-05<br>  }<br>}",
          "{<br>  \"number\": 90,<br>  \"values\": [<br>    26188.033688829477<br>  ],<br>  \"params\": {<br>    \"alpha\": 0.2350388941285449,<br>    \"l1_ratio\": 0.9813342410626678,<br>    \"positive\": false,<br>    \"max_iter\": 583,<br>    \"tol\": 4.026316272575717e-05<br>  }<br>}",
          "{<br>  \"number\": 91,<br>  \"values\": [<br>    26185.711873936216<br>  ],<br>  \"params\": {<br>    \"alpha\": 0.1680517092177928,<br>    \"l1_ratio\": 0.9098229663097072,<br>    \"positive\": false,<br>    \"max_iter\": 826,<br>    \"tol\": 5.7378952089242296e-05<br>  }<br>}",
          "{<br>  \"number\": 92,<br>  \"values\": [<br>    26184.801927833432<br>  ],<br>  \"params\": {<br>    \"alpha\": 0.1434186629026554,<br>    \"l1_ratio\": 0.8677343162544423,<br>    \"positive\": false,<br>    \"max_iter\": 675,<br>    \"tol\": 5.232067952857212e-05<br>  }<br>}",
          "{<br>  \"number\": 93,<br>  \"values\": [<br>    24365.307918604016<br>  ],<br>  \"params\": {<br>    \"alpha\": 0.185877551190605,<br>    \"l1_ratio\": 0.8934164436047433,<br>    \"positive\": false,<br>    \"max_iter\": 1018,<br>    \"tol\": 8.797635952660427e-05<br>  }<br>}",
          "{<br>  \"number\": 94,<br>  \"values\": [<br>    26186.003014284488<br>  ],<br>  \"params\": {<br>    \"alpha\": 0.20756174752331014,<br>    \"l1_ratio\": 0.9484657316586321,<br>    \"positive\": false,<br>    \"max_iter\": 845,<br>    \"tol\": 4.750464598907407e-05<br>  }<br>}",
          "{<br>  \"number\": 95,<br>  \"values\": [<br>    26194.82058004736<br>  ],<br>  \"params\": {<br>    \"alpha\": 0.27693196392641384,<br>    \"l1_ratio\": 0.8196309434858572,<br>    \"positive\": false,<br>    \"max_iter\": 547,<br>    \"tol\": 6.402772776022375e-05<br>  }<br>}",
          "{<br>  \"number\": 96,<br>  \"values\": [<br>    24366.0260762051<br>  ],<br>  \"params\": {<br>    \"alpha\": 0.11804994591661946,<br>    \"l1_ratio\": 0.7807548253618779,<br>    \"positive\": false,<br>    \"max_iter\": 743,<br>    \"tol\": 5.7191248815404866e-05<br>  }<br>}",
          "{<br>  \"number\": 97,<br>  \"values\": [<br>    26187.822974921757<br>  ],<br>  \"params\": {<br>    \"alpha\": 0.25222074300644304,<br>    \"l1_ratio\": 0.854118055997655,<br>    \"positive\": false,<br>    \"max_iter\": 1343,<br>    \"tol\": 7.584452174136177e-05<br>  }<br>}",
          "{<br>  \"number\": 98,<br>  \"values\": [<br>    26614.179080805894<br>  ],<br>  \"params\": {<br>    \"alpha\": 0.14844564432511184,<br>    \"l1_ratio\": 0.919678373127091,<br>    \"positive\": true,<br>    \"max_iter\": 438,<br>    \"tol\": 3.455549542013658e-05<br>  }<br>}"
         ],
         "textposition": "none",
         "type": "bar",
         "x": [
          8.043,
          9.408,
          8.506,
          8.435,
          9.76,
          10.023000000000001,
          8.899000000000001,
          9.093,
          9.1,
          9.222,
          10.044,
          10.073,
          10.206,
          9.29,
          9.427,
          10.248999999999999,
          9.165,
          10.366,
          9.45,
          9.458,
          9.889999999999999,
          9.813,
          10.616999999999999,
          9.573,
          10.488000000000001,
          10.527,
          9.586,
          10.517,
          9.598,
          9.591000000000001,
          9.562,
          10.637,
          10.749,
          9.757,
          9.709999999999999,
          9.898,
          10.642999999999999,
          9.646,
          10.673,
          10.69,
          10.71,
          9.870000000000001,
          9.813,
          10.87,
          10.756,
          9.975,
          9.875,
          9.861,
          10.861,
          9.884,
          9.976,
          11.842,
          9.945,
          9.77
         ],
         "y": [
          18,
          21,
          26,
          27,
          30,
          34,
          35,
          36,
          38,
          39,
          40,
          43,
          44,
          46,
          47,
          52,
          53,
          54,
          55,
          57,
          59,
          60,
          61,
          62,
          65,
          66,
          67,
          68,
          69,
          72,
          73,
          74,
          75,
          76,
          77,
          78,
          79,
          80,
          81,
          83,
          84,
          86,
          87,
          88,
          89,
          90,
          91,
          92,
          93,
          94,
          95,
          96,
          97,
          98
         ]
        }
       ],
       "layout": {
        "showlegend": true,
        "template": {
         "data": {
          "bar": [
           {
            "error_x": {
             "color": "#2a3f5f"
            },
            "error_y": {
             "color": "#2a3f5f"
            },
            "marker": {
             "line": {
              "color": "#E5ECF6",
              "width": 0.5
             },
             "pattern": {
              "fillmode": "overlay",
              "size": 10,
              "solidity": 0.2
             }
            },
            "type": "bar"
           }
          ],
          "barpolar": [
           {
            "marker": {
             "line": {
              "color": "#E5ECF6",
              "width": 0.5
             },
             "pattern": {
              "fillmode": "overlay",
              "size": 10,
              "solidity": 0.2
             }
            },
            "type": "barpolar"
           }
          ],
          "carpet": [
           {
            "aaxis": {
             "endlinecolor": "#2a3f5f",
             "gridcolor": "white",
             "linecolor": "white",
             "minorgridcolor": "white",
             "startlinecolor": "#2a3f5f"
            },
            "baxis": {
             "endlinecolor": "#2a3f5f",
             "gridcolor": "white",
             "linecolor": "white",
             "minorgridcolor": "white",
             "startlinecolor": "#2a3f5f"
            },
            "type": "carpet"
           }
          ],
          "choropleth": [
           {
            "colorbar": {
             "outlinewidth": 0,
             "ticks": ""
            },
            "type": "choropleth"
           }
          ],
          "contour": [
           {
            "colorbar": {
             "outlinewidth": 0,
             "ticks": ""
            },
            "colorscale": [
             [
              0,
              "#0d0887"
             ],
             [
              0.1111111111111111,
              "#46039f"
             ],
             [
              0.2222222222222222,
              "#7201a8"
             ],
             [
              0.3333333333333333,
              "#9c179e"
             ],
             [
              0.4444444444444444,
              "#bd3786"
             ],
             [
              0.5555555555555556,
              "#d8576b"
             ],
             [
              0.6666666666666666,
              "#ed7953"
             ],
             [
              0.7777777777777778,
              "#fb9f3a"
             ],
             [
              0.8888888888888888,
              "#fdca26"
             ],
             [
              1,
              "#f0f921"
             ]
            ],
            "type": "contour"
           }
          ],
          "contourcarpet": [
           {
            "colorbar": {
             "outlinewidth": 0,
             "ticks": ""
            },
            "type": "contourcarpet"
           }
          ],
          "heatmap": [
           {
            "colorbar": {
             "outlinewidth": 0,
             "ticks": ""
            },
            "colorscale": [
             [
              0,
              "#0d0887"
             ],
             [
              0.1111111111111111,
              "#46039f"
             ],
             [
              0.2222222222222222,
              "#7201a8"
             ],
             [
              0.3333333333333333,
              "#9c179e"
             ],
             [
              0.4444444444444444,
              "#bd3786"
             ],
             [
              0.5555555555555556,
              "#d8576b"
             ],
             [
              0.6666666666666666,
              "#ed7953"
             ],
             [
              0.7777777777777778,
              "#fb9f3a"
             ],
             [
              0.8888888888888888,
              "#fdca26"
             ],
             [
              1,
              "#f0f921"
             ]
            ],
            "type": "heatmap"
           }
          ],
          "heatmapgl": [
           {
            "colorbar": {
             "outlinewidth": 0,
             "ticks": ""
            },
            "colorscale": [
             [
              0,
              "#0d0887"
             ],
             [
              0.1111111111111111,
              "#46039f"
             ],
             [
              0.2222222222222222,
              "#7201a8"
             ],
             [
              0.3333333333333333,
              "#9c179e"
             ],
             [
              0.4444444444444444,
              "#bd3786"
             ],
             [
              0.5555555555555556,
              "#d8576b"
             ],
             [
              0.6666666666666666,
              "#ed7953"
             ],
             [
              0.7777777777777778,
              "#fb9f3a"
             ],
             [
              0.8888888888888888,
              "#fdca26"
             ],
             [
              1,
              "#f0f921"
             ]
            ],
            "type": "heatmapgl"
           }
          ],
          "histogram": [
           {
            "marker": {
             "pattern": {
              "fillmode": "overlay",
              "size": 10,
              "solidity": 0.2
             }
            },
            "type": "histogram"
           }
          ],
          "histogram2d": [
           {
            "colorbar": {
             "outlinewidth": 0,
             "ticks": ""
            },
            "colorscale": [
             [
              0,
              "#0d0887"
             ],
             [
              0.1111111111111111,
              "#46039f"
             ],
             [
              0.2222222222222222,
              "#7201a8"
             ],
             [
              0.3333333333333333,
              "#9c179e"
             ],
             [
              0.4444444444444444,
              "#bd3786"
             ],
             [
              0.5555555555555556,
              "#d8576b"
             ],
             [
              0.6666666666666666,
              "#ed7953"
             ],
             [
              0.7777777777777778,
              "#fb9f3a"
             ],
             [
              0.8888888888888888,
              "#fdca26"
             ],
             [
              1,
              "#f0f921"
             ]
            ],
            "type": "histogram2d"
           }
          ],
          "histogram2dcontour": [
           {
            "colorbar": {
             "outlinewidth": 0,
             "ticks": ""
            },
            "colorscale": [
             [
              0,
              "#0d0887"
             ],
             [
              0.1111111111111111,
              "#46039f"
             ],
             [
              0.2222222222222222,
              "#7201a8"
             ],
             [
              0.3333333333333333,
              "#9c179e"
             ],
             [
              0.4444444444444444,
              "#bd3786"
             ],
             [
              0.5555555555555556,
              "#d8576b"
             ],
             [
              0.6666666666666666,
              "#ed7953"
             ],
             [
              0.7777777777777778,
              "#fb9f3a"
             ],
             [
              0.8888888888888888,
              "#fdca26"
             ],
             [
              1,
              "#f0f921"
             ]
            ],
            "type": "histogram2dcontour"
           }
          ],
          "mesh3d": [
           {
            "colorbar": {
             "outlinewidth": 0,
             "ticks": ""
            },
            "type": "mesh3d"
           }
          ],
          "parcoords": [
           {
            "line": {
             "colorbar": {
              "outlinewidth": 0,
              "ticks": ""
             }
            },
            "type": "parcoords"
           }
          ],
          "pie": [
           {
            "automargin": true,
            "type": "pie"
           }
          ],
          "scatter": [
           {
            "fillpattern": {
             "fillmode": "overlay",
             "size": 10,
             "solidity": 0.2
            },
            "type": "scatter"
           }
          ],
          "scatter3d": [
           {
            "line": {
             "colorbar": {
              "outlinewidth": 0,
              "ticks": ""
             }
            },
            "marker": {
             "colorbar": {
              "outlinewidth": 0,
              "ticks": ""
             }
            },
            "type": "scatter3d"
           }
          ],
          "scattercarpet": [
           {
            "marker": {
             "colorbar": {
              "outlinewidth": 0,
              "ticks": ""
             }
            },
            "type": "scattercarpet"
           }
          ],
          "scattergeo": [
           {
            "marker": {
             "colorbar": {
              "outlinewidth": 0,
              "ticks": ""
             }
            },
            "type": "scattergeo"
           }
          ],
          "scattergl": [
           {
            "marker": {
             "colorbar": {
              "outlinewidth": 0,
              "ticks": ""
             }
            },
            "type": "scattergl"
           }
          ],
          "scattermapbox": [
           {
            "marker": {
             "colorbar": {
              "outlinewidth": 0,
              "ticks": ""
             }
            },
            "type": "scattermapbox"
           }
          ],
          "scatterpolar": [
           {
            "marker": {
             "colorbar": {
              "outlinewidth": 0,
              "ticks": ""
             }
            },
            "type": "scatterpolar"
           }
          ],
          "scatterpolargl": [
           {
            "marker": {
             "colorbar": {
              "outlinewidth": 0,
              "ticks": ""
             }
            },
            "type": "scatterpolargl"
           }
          ],
          "scatterternary": [
           {
            "marker": {
             "colorbar": {
              "outlinewidth": 0,
              "ticks": ""
             }
            },
            "type": "scatterternary"
           }
          ],
          "surface": [
           {
            "colorbar": {
             "outlinewidth": 0,
             "ticks": ""
            },
            "colorscale": [
             [
              0,
              "#0d0887"
             ],
             [
              0.1111111111111111,
              "#46039f"
             ],
             [
              0.2222222222222222,
              "#7201a8"
             ],
             [
              0.3333333333333333,
              "#9c179e"
             ],
             [
              0.4444444444444444,
              "#bd3786"
             ],
             [
              0.5555555555555556,
              "#d8576b"
             ],
             [
              0.6666666666666666,
              "#ed7953"
             ],
             [
              0.7777777777777778,
              "#fb9f3a"
             ],
             [
              0.8888888888888888,
              "#fdca26"
             ],
             [
              1,
              "#f0f921"
             ]
            ],
            "type": "surface"
           }
          ],
          "table": [
           {
            "cells": {
             "fill": {
              "color": "#EBF0F8"
             },
             "line": {
              "color": "white"
             }
            },
            "header": {
             "fill": {
              "color": "#C8D4E3"
             },
             "line": {
              "color": "white"
             }
            },
            "type": "table"
           }
          ]
         },
         "layout": {
          "annotationdefaults": {
           "arrowcolor": "#2a3f5f",
           "arrowhead": 0,
           "arrowwidth": 1
          },
          "autotypenumbers": "strict",
          "coloraxis": {
           "colorbar": {
            "outlinewidth": 0,
            "ticks": ""
           }
          },
          "colorscale": {
           "diverging": [
            [
             0,
             "#8e0152"
            ],
            [
             0.1,
             "#c51b7d"
            ],
            [
             0.2,
             "#de77ae"
            ],
            [
             0.3,
             "#f1b6da"
            ],
            [
             0.4,
             "#fde0ef"
            ],
            [
             0.5,
             "#f7f7f7"
            ],
            [
             0.6,
             "#e6f5d0"
            ],
            [
             0.7,
             "#b8e186"
            ],
            [
             0.8,
             "#7fbc41"
            ],
            [
             0.9,
             "#4d9221"
            ],
            [
             1,
             "#276419"
            ]
           ],
           "sequential": [
            [
             0,
             "#0d0887"
            ],
            [
             0.1111111111111111,
             "#46039f"
            ],
            [
             0.2222222222222222,
             "#7201a8"
            ],
            [
             0.3333333333333333,
             "#9c179e"
            ],
            [
             0.4444444444444444,
             "#bd3786"
            ],
            [
             0.5555555555555556,
             "#d8576b"
            ],
            [
             0.6666666666666666,
             "#ed7953"
            ],
            [
             0.7777777777777778,
             "#fb9f3a"
            ],
            [
             0.8888888888888888,
             "#fdca26"
            ],
            [
             1,
             "#f0f921"
            ]
           ],
           "sequentialminus": [
            [
             0,
             "#0d0887"
            ],
            [
             0.1111111111111111,
             "#46039f"
            ],
            [
             0.2222222222222222,
             "#7201a8"
            ],
            [
             0.3333333333333333,
             "#9c179e"
            ],
            [
             0.4444444444444444,
             "#bd3786"
            ],
            [
             0.5555555555555556,
             "#d8576b"
            ],
            [
             0.6666666666666666,
             "#ed7953"
            ],
            [
             0.7777777777777778,
             "#fb9f3a"
            ],
            [
             0.8888888888888888,
             "#fdca26"
            ],
            [
             1,
             "#f0f921"
            ]
           ]
          },
          "colorway": [
           "#636efa",
           "#EF553B",
           "#00cc96",
           "#ab63fa",
           "#FFA15A",
           "#19d3f3",
           "#FF6692",
           "#B6E880",
           "#FF97FF",
           "#FECB52"
          ],
          "font": {
           "color": "#2a3f5f"
          },
          "geo": {
           "bgcolor": "white",
           "lakecolor": "white",
           "landcolor": "#E5ECF6",
           "showlakes": true,
           "showland": true,
           "subunitcolor": "white"
          },
          "hoverlabel": {
           "align": "left"
          },
          "hovermode": "closest",
          "mapbox": {
           "style": "light"
          },
          "paper_bgcolor": "white",
          "plot_bgcolor": "#E5ECF6",
          "polar": {
           "angularaxis": {
            "gridcolor": "white",
            "linecolor": "white",
            "ticks": ""
           },
           "bgcolor": "#E5ECF6",
           "radialaxis": {
            "gridcolor": "white",
            "linecolor": "white",
            "ticks": ""
           }
          },
          "scene": {
           "xaxis": {
            "backgroundcolor": "#E5ECF6",
            "gridcolor": "white",
            "gridwidth": 2,
            "linecolor": "white",
            "showbackground": true,
            "ticks": "",
            "zerolinecolor": "white"
           },
           "yaxis": {
            "backgroundcolor": "#E5ECF6",
            "gridcolor": "white",
            "gridwidth": 2,
            "linecolor": "white",
            "showbackground": true,
            "ticks": "",
            "zerolinecolor": "white"
           },
           "zaxis": {
            "backgroundcolor": "#E5ECF6",
            "gridcolor": "white",
            "gridwidth": 2,
            "linecolor": "white",
            "showbackground": true,
            "ticks": "",
            "zerolinecolor": "white"
           }
          },
          "shapedefaults": {
           "line": {
            "color": "#2a3f5f"
           }
          },
          "ternary": {
           "aaxis": {
            "gridcolor": "white",
            "linecolor": "white",
            "ticks": ""
           },
           "baxis": {
            "gridcolor": "white",
            "linecolor": "white",
            "ticks": ""
           },
           "bgcolor": "#E5ECF6",
           "caxis": {
            "gridcolor": "white",
            "linecolor": "white",
            "ticks": ""
           }
          },
          "title": {
           "x": 0.05
          },
          "xaxis": {
           "automargin": true,
           "gridcolor": "white",
           "linecolor": "white",
           "ticks": "",
           "title": {
            "standoff": 15
           },
           "zerolinecolor": "white",
           "zerolinewidth": 2
          },
          "yaxis": {
           "automargin": true,
           "gridcolor": "white",
           "linecolor": "white",
           "ticks": "",
           "title": {
            "standoff": 15
           },
           "zerolinecolor": "white",
           "zerolinewidth": 2
          }
         }
        },
        "title": {
         "text": "Timeline Plot"
        },
        "xaxis": {
         "title": {
          "text": "Datetime"
         },
         "type": "date"
        },
        "yaxis": {
         "title": {
          "text": "Trial"
         }
        }
       }
      }
     },
     "metadata": {},
     "output_type": "display_data"
    },
    {
     "data": {
      "application/vnd.plotly.v1+json": {
       "config": {
        "plotlyServerURL": "https://plot.ly"
       },
       "data": [
        {
         "dimensions": [
          {
           "label": "Objective Value",
           "range": [
            26035.155047234006,
            26363.53522878533
           ],
           "values": [
            26192.19415362568,
            26302.637741241222,
            26153.098784606816,
            26099.09717111968,
            26363.53522878533,
            26049.691726748944,
            26228.062448445282,
            26256.57356868635,
            26084.403995998917,
            26093.399000909936,
            26052.444438356008,
            26064.033983293488,
            26042.58413262592,
            26048.266751910374,
            26045.683924900888,
            26044.83615711975,
            26044.695223702336,
            26062.148254369356,
            26041.05622982059,
            26051.228403183166,
            26040.455928247775,
            26046.028884515716,
            26084.433068359183,
            26043.099530576128,
            26040.87144932112,
            26037.70412896472,
            26046.700844023082,
            26038.543913967045,
            26037.702823810167,
            26053.315378710813,
            26037.579459370227,
            26046.464860623095,
            26047.100932164918,
            26039.091446062826,
            26038.717397972505,
            26041.50446215703,
            26039.01641656323,
            26049.26827997214,
            26053.859017201317,
            26035.155047234006,
            26035.918396777754,
            26044.29641643765,
            26038.659209271176,
            26046.62835999781,
            26047.08140502761,
            26049.150725980824
           ]
          },
          {
           "label": "alpha",
           "range": [
            0.0018730592122092604,
            0.9807641983846155
           ],
           "values": [
            0.6964691855978616,
            0.9807641983846155,
            0.4385722446796244,
            0.5315513738418384,
            0.7224433825702216,
            0.09210493994507518,
            0.4263513069628082,
            0.3172854818203209,
            0.5194851192598093,
            0.3427638337743084,
            0.06889158546742416,
            0.006453374219829056,
            0.1049152166318279,
            0.19232207105154253,
            0.17538829565424222,
            0.19623572345647122,
            0.20925744353235726,
            0.005978209644977167,
            0.13259277906516953,
            0.10910413121754992,
            0.1525563597193584,
            0.12955289287015526,
            0.0018730592122092604,
            0.12215069795075262,
            0.14935566003678322,
            0.16750730720704493,
            0.16009902485295135,
            0.17196100864438163,
            0.25002898850247457,
            0.05760548640646945,
            0.16612066100455697,
            0.15299420353327295,
            0.05372851550525773,
            0.17598634835350882,
            0.18277273989895781,
            0.09826793243740933,
            0.18841904564452655,
            0.07575889785977566,
            0.03581706533195245,
            0.26311917699247456,
            0.23530442989681286,
            0.13678496379380362,
            0.17351366703643933,
            0.14165984917269153,
            0.11382167064686535,
            0.09589452808221205
           ]
          },
          {
           "label": "l1_ratio",
           "range": [
            0.05967789660956835,
            0.9958702433856649
           ],
           "values": [
            0.28613933495037946,
            0.6848297385848633,
            0.05967789660956835,
            0.5318275870968661,
            0.3229589138531782,
            0.43370117267952824,
            0.8933891631171348,
            0.4148262119536318,
            0.6128945257629677,
            0.3041207890271841,
            0.9863798222314493,
            0.9444656052010494,
            0.7522550118761866,
            0.7278259329003384,
            0.7767377450242181,
            0.8160591907654154,
            0.8414149107253112,
            0.8744399378075134,
            0.8182366901913751,
            0.994855011386929,
            0.849097536018296,
            0.7514780220575703,
            0.8493483603573282,
            0.9035193606967687,
            0.9259352166092387,
            0.9264081390247195,
            0.9958702433856649,
            0.9137152301235119,
            0.9225097686336162,
            0.9438378975741367,
            0.9221441164439784,
            0.9756292181507696,
            0.8334801682120019,
            0.8966336870205862,
            0.9067130171467775,
            0.8018091973654686,
            0.8973670231097907,
            0.948525383168446,
            0.9024573008664311,
            0.9662650311645659,
            0.956975421278713,
            0.9511665495976022,
            0.9095842149084504,
            0.9708640474516788,
            0.9643997096132664,
            0.9757555045648825
           ]
          },
          {
           "label": "max_iter",
           "range": [
            2.0043213737826426,
            3.7506626461340558
           ],
           "ticktext": [
            "101",
            "1e+03",
            "5.63e+03"
           ],
           "tickvals": [
            2.0043213737826426,
            3,
            3.7506626461340558
           ],
           "values": [
            3.438384107034714,
            2.6848453616444123,
            2.3636119798921444,
            3.4483971034577676,
            2.5854607295085006,
            2.8506462351830666,
            3.24699069924155,
            2.9647309210536292,
            3.2052043639481447,
            3.7506626461340558,
            2.012837224705172,
            2.041392685158225,
            2.0043213737826426,
            2.3961993470957363,
            2.2764618041732443,
            2.225309281725863,
            2.0043213737826426,
            2.0293837776852097,
            2.705007959333336,
            2.60422605308447,
            2.7331972651065692,
            2.784617292632875,
            2.791690649020118,
            2.550228353055094,
            2.357934847000454,
            2.4424797690644486,
            2.444044795918076,
            2.754348335711019,
            2.6522463410033232,
            2.873320601815399,
            2.369215857410143,
            2.456366033129043,
            2.3483048630481607,
            2.919601023784111,
            2.948412965778601,
            3.074084689028244,
            2.89707700320942,
            3.0437551269686796,
            2.143014800254095,
            2.754348335711019,
            2.7573960287930244,
            2.5658478186735176,
            2.7442929831226763,
            2.840106094456758,
            2.7715874808812555,
            2.8095597146352675
           ]
          },
          {
           "label": "positive",
           "range": [
            0,
            1
           ],
           "ticktext": [
            "False",
            "True"
           ],
           "tickvals": [
            0,
            1
           ],
           "values": [
            0,
            1,
            0,
            0,
            1,
            0,
            1,
            1,
            0,
            0,
            0,
            0,
            0,
            0,
            0,
            0,
            0,
            0,
            0,
            0,
            0,
            0,
            0,
            0,
            0,
            0,
            0,
            0,
            0,
            0,
            0,
            0,
            0,
            0,
            0,
            0,
            0,
            0,
            0,
            0,
            0,
            0,
            0,
            0,
            0,
            0
           ]
          },
          {
           "label": "tol",
           "range": [
            -4.995629021734611,
            -3.02888042877859
           ],
           "ticktext": [
            "1.01e-05",
            "0.0001",
            "0.000936"
           ],
           "tickvals": [
            -4.995629021734611,
            -4,
            -3.02888042877859
           ],
           "values": [
            -4.153787079751078,
            -3.5419005852319168,
            -4.649096487705015,
            -3.7779529786448345,
            -3.7380477522910245,
            -4.375477554055069,
            -4.768763209841408,
            -3.02888042877859,
            -3.90986398706707,
            -3.979155325043978,
            -4.3596285046373495,
            -4.4508058360873655,
            -4.963416357569481,
            -4.9678453911721085,
            -4.992644728122158,
            -4.995629021734611,
            -4.686450669706903,
            -4.686747356966612,
            -4.5004616066076615,
            -4.485449081633345,
            -4.587504679894032,
            -4.542036047253179,
            -4.260022041630547,
            -4.848195680759375,
            -4.558145625221572,
            -4.21967039741707,
            -4.276492637248272,
            -4.473304555501351,
            -4.148240079887416,
            -4.273338718450183,
            -4.642649377777404,
            -4.6379597666248955,
            -4.583471611840083,
            -4.256746129209877,
            -4.2177536364545185,
            -3.9127958887092817,
            -4.232530672422877,
            -4.359736930338634,
            -3.9545077136761755,
            -4.057153904701222,
            -4.051279099150769,
            -3.8286853813450445,
            -4.221982168543985,
            -4.377132238739762,
            -4.320137298996489,
            -4.362684918463975
           ]
          }
         ],
         "labelangle": 30,
         "labelside": "bottom",
         "line": {
          "color": [
           26192.19415362568,
           26302.637741241222,
           26153.098784606816,
           26099.09717111968,
           26363.53522878533,
           26049.691726748944,
           26228.062448445282,
           26256.57356868635,
           26084.403995998917,
           26093.399000909936,
           26052.444438356008,
           26064.033983293488,
           26042.58413262592,
           26048.266751910374,
           26045.683924900888,
           26044.83615711975,
           26044.695223702336,
           26062.148254369356,
           26041.05622982059,
           26051.228403183166,
           26040.455928247775,
           26046.028884515716,
           26084.433068359183,
           26043.099530576128,
           26040.87144932112,
           26037.70412896472,
           26046.700844023082,
           26038.543913967045,
           26037.702823810167,
           26053.315378710813,
           26037.579459370227,
           26046.464860623095,
           26047.100932164918,
           26039.091446062826,
           26038.717397972505,
           26041.50446215703,
           26039.01641656323,
           26049.26827997214,
           26053.859017201317,
           26035.155047234006,
           26035.918396777754,
           26044.29641643765,
           26038.659209271176,
           26046.62835999781,
           26047.08140502761,
           26049.150725980824
          ],
          "colorbar": {
           "title": {
            "text": "Objective Value"
           }
          },
          "colorscale": [
           [
            0,
            "rgb(247,251,255)"
           ],
           [
            0.125,
            "rgb(222,235,247)"
           ],
           [
            0.25,
            "rgb(198,219,239)"
           ],
           [
            0.375,
            "rgb(158,202,225)"
           ],
           [
            0.5,
            "rgb(107,174,214)"
           ],
           [
            0.625,
            "rgb(66,146,198)"
           ],
           [
            0.75,
            "rgb(33,113,181)"
           ],
           [
            0.875,
            "rgb(8,81,156)"
           ],
           [
            1,
            "rgb(8,48,107)"
           ]
          ],
          "reversescale": true,
          "showscale": true
         },
         "type": "parcoords"
        }
       ],
       "layout": {
        "template": {
         "data": {
          "bar": [
           {
            "error_x": {
             "color": "#2a3f5f"
            },
            "error_y": {
             "color": "#2a3f5f"
            },
            "marker": {
             "line": {
              "color": "#E5ECF6",
              "width": 0.5
             },
             "pattern": {
              "fillmode": "overlay",
              "size": 10,
              "solidity": 0.2
             }
            },
            "type": "bar"
           }
          ],
          "barpolar": [
           {
            "marker": {
             "line": {
              "color": "#E5ECF6",
              "width": 0.5
             },
             "pattern": {
              "fillmode": "overlay",
              "size": 10,
              "solidity": 0.2
             }
            },
            "type": "barpolar"
           }
          ],
          "carpet": [
           {
            "aaxis": {
             "endlinecolor": "#2a3f5f",
             "gridcolor": "white",
             "linecolor": "white",
             "minorgridcolor": "white",
             "startlinecolor": "#2a3f5f"
            },
            "baxis": {
             "endlinecolor": "#2a3f5f",
             "gridcolor": "white",
             "linecolor": "white",
             "minorgridcolor": "white",
             "startlinecolor": "#2a3f5f"
            },
            "type": "carpet"
           }
          ],
          "choropleth": [
           {
            "colorbar": {
             "outlinewidth": 0,
             "ticks": ""
            },
            "type": "choropleth"
           }
          ],
          "contour": [
           {
            "colorbar": {
             "outlinewidth": 0,
             "ticks": ""
            },
            "colorscale": [
             [
              0,
              "#0d0887"
             ],
             [
              0.1111111111111111,
              "#46039f"
             ],
             [
              0.2222222222222222,
              "#7201a8"
             ],
             [
              0.3333333333333333,
              "#9c179e"
             ],
             [
              0.4444444444444444,
              "#bd3786"
             ],
             [
              0.5555555555555556,
              "#d8576b"
             ],
             [
              0.6666666666666666,
              "#ed7953"
             ],
             [
              0.7777777777777778,
              "#fb9f3a"
             ],
             [
              0.8888888888888888,
              "#fdca26"
             ],
             [
              1,
              "#f0f921"
             ]
            ],
            "type": "contour"
           }
          ],
          "contourcarpet": [
           {
            "colorbar": {
             "outlinewidth": 0,
             "ticks": ""
            },
            "type": "contourcarpet"
           }
          ],
          "heatmap": [
           {
            "colorbar": {
             "outlinewidth": 0,
             "ticks": ""
            },
            "colorscale": [
             [
              0,
              "#0d0887"
             ],
             [
              0.1111111111111111,
              "#46039f"
             ],
             [
              0.2222222222222222,
              "#7201a8"
             ],
             [
              0.3333333333333333,
              "#9c179e"
             ],
             [
              0.4444444444444444,
              "#bd3786"
             ],
             [
              0.5555555555555556,
              "#d8576b"
             ],
             [
              0.6666666666666666,
              "#ed7953"
             ],
             [
              0.7777777777777778,
              "#fb9f3a"
             ],
             [
              0.8888888888888888,
              "#fdca26"
             ],
             [
              1,
              "#f0f921"
             ]
            ],
            "type": "heatmap"
           }
          ],
          "heatmapgl": [
           {
            "colorbar": {
             "outlinewidth": 0,
             "ticks": ""
            },
            "colorscale": [
             [
              0,
              "#0d0887"
             ],
             [
              0.1111111111111111,
              "#46039f"
             ],
             [
              0.2222222222222222,
              "#7201a8"
             ],
             [
              0.3333333333333333,
              "#9c179e"
             ],
             [
              0.4444444444444444,
              "#bd3786"
             ],
             [
              0.5555555555555556,
              "#d8576b"
             ],
             [
              0.6666666666666666,
              "#ed7953"
             ],
             [
              0.7777777777777778,
              "#fb9f3a"
             ],
             [
              0.8888888888888888,
              "#fdca26"
             ],
             [
              1,
              "#f0f921"
             ]
            ],
            "type": "heatmapgl"
           }
          ],
          "histogram": [
           {
            "marker": {
             "pattern": {
              "fillmode": "overlay",
              "size": 10,
              "solidity": 0.2
             }
            },
            "type": "histogram"
           }
          ],
          "histogram2d": [
           {
            "colorbar": {
             "outlinewidth": 0,
             "ticks": ""
            },
            "colorscale": [
             [
              0,
              "#0d0887"
             ],
             [
              0.1111111111111111,
              "#46039f"
             ],
             [
              0.2222222222222222,
              "#7201a8"
             ],
             [
              0.3333333333333333,
              "#9c179e"
             ],
             [
              0.4444444444444444,
              "#bd3786"
             ],
             [
              0.5555555555555556,
              "#d8576b"
             ],
             [
              0.6666666666666666,
              "#ed7953"
             ],
             [
              0.7777777777777778,
              "#fb9f3a"
             ],
             [
              0.8888888888888888,
              "#fdca26"
             ],
             [
              1,
              "#f0f921"
             ]
            ],
            "type": "histogram2d"
           }
          ],
          "histogram2dcontour": [
           {
            "colorbar": {
             "outlinewidth": 0,
             "ticks": ""
            },
            "colorscale": [
             [
              0,
              "#0d0887"
             ],
             [
              0.1111111111111111,
              "#46039f"
             ],
             [
              0.2222222222222222,
              "#7201a8"
             ],
             [
              0.3333333333333333,
              "#9c179e"
             ],
             [
              0.4444444444444444,
              "#bd3786"
             ],
             [
              0.5555555555555556,
              "#d8576b"
             ],
             [
              0.6666666666666666,
              "#ed7953"
             ],
             [
              0.7777777777777778,
              "#fb9f3a"
             ],
             [
              0.8888888888888888,
              "#fdca26"
             ],
             [
              1,
              "#f0f921"
             ]
            ],
            "type": "histogram2dcontour"
           }
          ],
          "mesh3d": [
           {
            "colorbar": {
             "outlinewidth": 0,
             "ticks": ""
            },
            "type": "mesh3d"
           }
          ],
          "parcoords": [
           {
            "line": {
             "colorbar": {
              "outlinewidth": 0,
              "ticks": ""
             }
            },
            "type": "parcoords"
           }
          ],
          "pie": [
           {
            "automargin": true,
            "type": "pie"
           }
          ],
          "scatter": [
           {
            "fillpattern": {
             "fillmode": "overlay",
             "size": 10,
             "solidity": 0.2
            },
            "type": "scatter"
           }
          ],
          "scatter3d": [
           {
            "line": {
             "colorbar": {
              "outlinewidth": 0,
              "ticks": ""
             }
            },
            "marker": {
             "colorbar": {
              "outlinewidth": 0,
              "ticks": ""
             }
            },
            "type": "scatter3d"
           }
          ],
          "scattercarpet": [
           {
            "marker": {
             "colorbar": {
              "outlinewidth": 0,
              "ticks": ""
             }
            },
            "type": "scattercarpet"
           }
          ],
          "scattergeo": [
           {
            "marker": {
             "colorbar": {
              "outlinewidth": 0,
              "ticks": ""
             }
            },
            "type": "scattergeo"
           }
          ],
          "scattergl": [
           {
            "marker": {
             "colorbar": {
              "outlinewidth": 0,
              "ticks": ""
             }
            },
            "type": "scattergl"
           }
          ],
          "scattermapbox": [
           {
            "marker": {
             "colorbar": {
              "outlinewidth": 0,
              "ticks": ""
             }
            },
            "type": "scattermapbox"
           }
          ],
          "scatterpolar": [
           {
            "marker": {
             "colorbar": {
              "outlinewidth": 0,
              "ticks": ""
             }
            },
            "type": "scatterpolar"
           }
          ],
          "scatterpolargl": [
           {
            "marker": {
             "colorbar": {
              "outlinewidth": 0,
              "ticks": ""
             }
            },
            "type": "scatterpolargl"
           }
          ],
          "scatterternary": [
           {
            "marker": {
             "colorbar": {
              "outlinewidth": 0,
              "ticks": ""
             }
            },
            "type": "scatterternary"
           }
          ],
          "surface": [
           {
            "colorbar": {
             "outlinewidth": 0,
             "ticks": ""
            },
            "colorscale": [
             [
              0,
              "#0d0887"
             ],
             [
              0.1111111111111111,
              "#46039f"
             ],
             [
              0.2222222222222222,
              "#7201a8"
             ],
             [
              0.3333333333333333,
              "#9c179e"
             ],
             [
              0.4444444444444444,
              "#bd3786"
             ],
             [
              0.5555555555555556,
              "#d8576b"
             ],
             [
              0.6666666666666666,
              "#ed7953"
             ],
             [
              0.7777777777777778,
              "#fb9f3a"
             ],
             [
              0.8888888888888888,
              "#fdca26"
             ],
             [
              1,
              "#f0f921"
             ]
            ],
            "type": "surface"
           }
          ],
          "table": [
           {
            "cells": {
             "fill": {
              "color": "#EBF0F8"
             },
             "line": {
              "color": "white"
             }
            },
            "header": {
             "fill": {
              "color": "#C8D4E3"
             },
             "line": {
              "color": "white"
             }
            },
            "type": "table"
           }
          ]
         },
         "layout": {
          "annotationdefaults": {
           "arrowcolor": "#2a3f5f",
           "arrowhead": 0,
           "arrowwidth": 1
          },
          "autotypenumbers": "strict",
          "coloraxis": {
           "colorbar": {
            "outlinewidth": 0,
            "ticks": ""
           }
          },
          "colorscale": {
           "diverging": [
            [
             0,
             "#8e0152"
            ],
            [
             0.1,
             "#c51b7d"
            ],
            [
             0.2,
             "#de77ae"
            ],
            [
             0.3,
             "#f1b6da"
            ],
            [
             0.4,
             "#fde0ef"
            ],
            [
             0.5,
             "#f7f7f7"
            ],
            [
             0.6,
             "#e6f5d0"
            ],
            [
             0.7,
             "#b8e186"
            ],
            [
             0.8,
             "#7fbc41"
            ],
            [
             0.9,
             "#4d9221"
            ],
            [
             1,
             "#276419"
            ]
           ],
           "sequential": [
            [
             0,
             "#0d0887"
            ],
            [
             0.1111111111111111,
             "#46039f"
            ],
            [
             0.2222222222222222,
             "#7201a8"
            ],
            [
             0.3333333333333333,
             "#9c179e"
            ],
            [
             0.4444444444444444,
             "#bd3786"
            ],
            [
             0.5555555555555556,
             "#d8576b"
            ],
            [
             0.6666666666666666,
             "#ed7953"
            ],
            [
             0.7777777777777778,
             "#fb9f3a"
            ],
            [
             0.8888888888888888,
             "#fdca26"
            ],
            [
             1,
             "#f0f921"
            ]
           ],
           "sequentialminus": [
            [
             0,
             "#0d0887"
            ],
            [
             0.1111111111111111,
             "#46039f"
            ],
            [
             0.2222222222222222,
             "#7201a8"
            ],
            [
             0.3333333333333333,
             "#9c179e"
            ],
            [
             0.4444444444444444,
             "#bd3786"
            ],
            [
             0.5555555555555556,
             "#d8576b"
            ],
            [
             0.6666666666666666,
             "#ed7953"
            ],
            [
             0.7777777777777778,
             "#fb9f3a"
            ],
            [
             0.8888888888888888,
             "#fdca26"
            ],
            [
             1,
             "#f0f921"
            ]
           ]
          },
          "colorway": [
           "#636efa",
           "#EF553B",
           "#00cc96",
           "#ab63fa",
           "#FFA15A",
           "#19d3f3",
           "#FF6692",
           "#B6E880",
           "#FF97FF",
           "#FECB52"
          ],
          "font": {
           "color": "#2a3f5f"
          },
          "geo": {
           "bgcolor": "white",
           "lakecolor": "white",
           "landcolor": "#E5ECF6",
           "showlakes": true,
           "showland": true,
           "subunitcolor": "white"
          },
          "hoverlabel": {
           "align": "left"
          },
          "hovermode": "closest",
          "mapbox": {
           "style": "light"
          },
          "paper_bgcolor": "white",
          "plot_bgcolor": "#E5ECF6",
          "polar": {
           "angularaxis": {
            "gridcolor": "white",
            "linecolor": "white",
            "ticks": ""
           },
           "bgcolor": "#E5ECF6",
           "radialaxis": {
            "gridcolor": "white",
            "linecolor": "white",
            "ticks": ""
           }
          },
          "scene": {
           "xaxis": {
            "backgroundcolor": "#E5ECF6",
            "gridcolor": "white",
            "gridwidth": 2,
            "linecolor": "white",
            "showbackground": true,
            "ticks": "",
            "zerolinecolor": "white"
           },
           "yaxis": {
            "backgroundcolor": "#E5ECF6",
            "gridcolor": "white",
            "gridwidth": 2,
            "linecolor": "white",
            "showbackground": true,
            "ticks": "",
            "zerolinecolor": "white"
           },
           "zaxis": {
            "backgroundcolor": "#E5ECF6",
            "gridcolor": "white",
            "gridwidth": 2,
            "linecolor": "white",
            "showbackground": true,
            "ticks": "",
            "zerolinecolor": "white"
           }
          },
          "shapedefaults": {
           "line": {
            "color": "#2a3f5f"
           }
          },
          "ternary": {
           "aaxis": {
            "gridcolor": "white",
            "linecolor": "white",
            "ticks": ""
           },
           "baxis": {
            "gridcolor": "white",
            "linecolor": "white",
            "ticks": ""
           },
           "bgcolor": "#E5ECF6",
           "caxis": {
            "gridcolor": "white",
            "linecolor": "white",
            "ticks": ""
           }
          },
          "title": {
           "x": 0.05
          },
          "xaxis": {
           "automargin": true,
           "gridcolor": "white",
           "linecolor": "white",
           "ticks": "",
           "title": {
            "standoff": 15
           },
           "zerolinecolor": "white",
           "zerolinewidth": 2
          },
          "yaxis": {
           "automargin": true,
           "gridcolor": "white",
           "linecolor": "white",
           "ticks": "",
           "title": {
            "standoff": 15
           },
           "zerolinecolor": "white",
           "zerolinewidth": 2
          }
         }
        },
        "title": {
         "text": "Parallel Coordinate Plot"
        }
       }
      }
     },
     "metadata": {},
     "output_type": "display_data"
    }
   ],
   "source": [
    "diabetes = datasets.load_diabetes()\n",
    "X, y = diabetes.data, diabetes.target\n",
    "\n",
    "\n",
    "# Define the objective function for elastic net\n",
    "def elastic_objective(trial):\n",
    "    # Define cross-validation\n",
    "    kf = KFold(n_splits=3, shuffle=True, random_state=0)\n",
    "    scores = []\n",
    "\n",
    "    for step, (train_index, test_index) in enumerate(kf.split(X)):\n",
    "        X_train, X_test = X[train_index], X[test_index]\n",
    "        y_train, y_test = y[train_index], y[test_index]\n",
    "\n",
    "        # Standardize train and test sets\n",
    "        scaler = StandardScaler()\n",
    "        X_train_scaled = scaler.fit_transform(X_train)\n",
    "        X_test_scaled = scaler.transform(X_test)\n",
    "\n",
    "        # Suggest hyperparameter values\n",
    "        params = {\n",
    "            \"alpha\": trial.suggest_float(\"alpha\", 0.0, 1.0, log=False),\n",
    "            \"l1_ratio\": trial.suggest_float(\"l1_ratio\", 0.0, 1.0),\n",
    "            \"positive\": trial.suggest_categorical(\"positive\", [True, False]),\n",
    "            \"max_iter\": trial.suggest_int(\"max_iter\", 100, 10000, log=True),\n",
    "            \"fit_intercept\": False,\n",
    "            \"tol\": trial.suggest_float(\"tol\", 1e-5, 1e-3, log=True),\n",
    "        }\n",
    "\n",
    "        # Create a Lasso regressor with the suggested alpha\n",
    "        regressor = ElasticNet(**params, random_state=42)\n",
    "\n",
    "        # Fit the model on scaled training data\n",
    "        regressor.fit(X_train_scaled, y_train)\n",
    "\n",
    "        # Predict and calculate MSE\n",
    "        y_pred = regressor.predict(X_test_scaled)\n",
    "        score = mean_squared_error(y_test, y_pred)\n",
    "\n",
    "        scores.append(score)\n",
    "\n",
    "        # Report intermediate score to Optuna\n",
    "        trial.report(np.mean(score), step)\n",
    "\n",
    "        # Check for pruning\n",
    "        if trial.should_prune():\n",
    "            raise optuna.exceptions.TrialPruned()\n",
    "\n",
    "    # Return the average score over all folds\n",
    "    return np.mean(scores)\n",
    "\n",
    "\n",
    "# Create the pruner\n",
    "pruner = optuna.pruners.MedianPruner(\n",
    "    n_startup_trials=15, interval_steps=1\n",
    ")\n",
    "\n",
    "# Instantiate the tuner with the Lasso objective function\n",
    "tuner = OptunaTuner(\n",
    "    objective=elastic_objective,\n",
    "    pruner=pruner,\n",
    "    n_trials=100,\n",
    "    seed=123,\n",
    "    study_timeout=0.5 * 3600,\n",
    "    direction=\"minimize\",\n",
    "    study_name=\"elastic_net_diabetes\",\n",
    "    save_plots=True,\n",
    ")\n",
    "\n",
    "# Run the study\n",
    "tuner.run_study()\n",
    "\n",
    "# Plot the results\n",
    "tuner.plot_results()"
   ]
  }
 ],
 "metadata": {
  "kernelspec": {
   "display_name": "MachineLearning",
   "language": "python",
   "name": "python3"
  },
  "language_info": {
   "codemirror_mode": {
    "name": "ipython",
    "version": 3
   },
   "file_extension": ".py",
   "mimetype": "text/x-python",
   "name": "python",
   "nbconvert_exporter": "python",
   "pygments_lexer": "ipython3",
   "version": "3.10.12"
  }
 },
 "nbformat": 4,
 "nbformat_minor": 2
}
