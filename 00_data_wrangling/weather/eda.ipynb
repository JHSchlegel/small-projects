{
 "cells": [
  {
   "cell_type": "markdown",
   "metadata": {},
   "source": [
    "# Analyzing Weather Data"
   ]
  },
  {
   "cell_type": "markdown",
   "metadata": {},
   "source": [
    "## Packages and Presets"
   ]
  },
  {
   "cell_type": "code",
   "execution_count": 26,
   "metadata": {},
   "outputs": [],
   "source": [
    "\n",
    "import kaggle\n",
    "import polars as pl\n",
    "import missingno as msno\n",
    "import matplotlib.pyplot as plt\n",
    "import seaborn as sns\n",
    "import numpy as np\n",
    "\n",
    "\n",
    "import plotnine as pn\n",
    "\n",
    "\n",
    "\n",
    "%load_ext blackcellmagic"
   ]
  },
  {
   "cell_type": "markdown",
   "metadata": {},
   "source": [
    "## Fetching the Data"
   ]
  },
  {
   "cell_type": "code",
   "execution_count": 3,
   "metadata": {},
   "outputs": [
    {
     "name": "stdout",
     "output_type": "stream",
     "text": [
      "Dataset URL: https://www.kaggle.com/datasets/guillemservera/global-daily-climate-data\n"
     ]
    }
   ],
   "source": [
    "dataset = 'guillemservera/global-daily-climate-data'\n",
    "# Download the dataset\n",
    "kaggle.api.dataset_download_files(dataset, path='datasets/', unzip=True)"
   ]
  },
  {
   "cell_type": "code",
   "execution_count": 6,
   "metadata": {},
   "outputs": [],
   "source": [
    "cities = pl.read_csv('datasets/cities.csv')\n",
    "countries = pl.read_csv('datasets/countries.csv')\n",
    "daily_weather = pl.read_parquet('datasets/daily_weather.parquet')"
   ]
  },
  {
   "cell_type": "markdown",
   "metadata": {},
   "source": [
    "## EDA"
   ]
  },
  {
   "cell_type": "code",
   "execution_count": 15,
   "metadata": {},
   "outputs": [
    {
     "name": "stdout",
     "output_type": "stream",
     "text": [
      "(1245, 8)\n"
     ]
    },
    {
     "data": {
      "text/html": [
       "<div><style>\n",
       ".dataframe > thead > tr > th,\n",
       ".dataframe > tbody > tr > td {\n",
       "  text-align: right;\n",
       "  white-space: pre-wrap;\n",
       "}\n",
       "</style>\n",
       "<small>shape: (5, 8)</small><table border=\"1\" class=\"dataframe\"><thead><tr><th>station_id</th><th>city_name</th><th>country</th><th>state</th><th>iso2</th><th>iso3</th><th>latitude</th><th>longitude</th></tr><tr><td>str</td><td>str</td><td>str</td><td>str</td><td>str</td><td>str</td><td>f64</td><td>f64</td></tr></thead><tbody><tr><td>&quot;41515&quot;</td><td>&quot;Asadabad&quot;</td><td>&quot;Afghanistan&quot;</td><td>&quot;Kunar&quot;</td><td>&quot;AF&quot;</td><td>&quot;AFG&quot;</td><td>34.866</td><td>71.150005</td></tr><tr><td>&quot;38954&quot;</td><td>&quot;Fayzabad&quot;</td><td>&quot;Afghanistan&quot;</td><td>&quot;Badakhshan&quot;</td><td>&quot;AF&quot;</td><td>&quot;AFG&quot;</td><td>37.129761</td><td>70.579247</td></tr><tr><td>&quot;41560&quot;</td><td>&quot;Jalalabad&quot;</td><td>&quot;Afghanistan&quot;</td><td>&quot;Nangarhar&quot;</td><td>&quot;AF&quot;</td><td>&quot;AFG&quot;</td><td>34.441527</td><td>70.436103</td></tr><tr><td>&quot;38947&quot;</td><td>&quot;Kunduz&quot;</td><td>&quot;Afghanistan&quot;</td><td>&quot;Kunduz&quot;</td><td>&quot;AF&quot;</td><td>&quot;AFG&quot;</td><td>36.727951</td><td>68.87253</td></tr><tr><td>&quot;38987&quot;</td><td>&quot;Qala i Naw&quot;</td><td>&quot;Afghanistan&quot;</td><td>&quot;Badghis&quot;</td><td>&quot;AF&quot;</td><td>&quot;AFG&quot;</td><td>34.983</td><td>63.1333</td></tr></tbody></table></div>"
      ],
      "text/plain": [
       "shape: (5, 8)\n",
       "┌────────────┬────────────┬─────────────┬────────────┬──────┬──────┬───────────┬───────────┐\n",
       "│ station_id ┆ city_name  ┆ country     ┆ state      ┆ iso2 ┆ iso3 ┆ latitude  ┆ longitude │\n",
       "│ ---        ┆ ---        ┆ ---         ┆ ---        ┆ ---  ┆ ---  ┆ ---       ┆ ---       │\n",
       "│ str        ┆ str        ┆ str         ┆ str        ┆ str  ┆ str  ┆ f64       ┆ f64       │\n",
       "╞════════════╪════════════╪═════════════╪════════════╪══════╪══════╪═══════════╪═══════════╡\n",
       "│ 41515      ┆ Asadabad   ┆ Afghanistan ┆ Kunar      ┆ AF   ┆ AFG  ┆ 34.866    ┆ 71.150005 │\n",
       "│ 38954      ┆ Fayzabad   ┆ Afghanistan ┆ Badakhshan ┆ AF   ┆ AFG  ┆ 37.129761 ┆ 70.579247 │\n",
       "│ 41560      ┆ Jalalabad  ┆ Afghanistan ┆ Nangarhar  ┆ AF   ┆ AFG  ┆ 34.441527 ┆ 70.436103 │\n",
       "│ 38947      ┆ Kunduz     ┆ Afghanistan ┆ Kunduz     ┆ AF   ┆ AFG  ┆ 36.727951 ┆ 68.87253  │\n",
       "│ 38987      ┆ Qala i Naw ┆ Afghanistan ┆ Badghis    ┆ AF   ┆ AFG  ┆ 34.983    ┆ 63.1333   │\n",
       "└────────────┴────────────┴─────────────┴────────────┴──────┴──────┴───────────┴───────────┘"
      ]
     },
     "execution_count": 15,
     "metadata": {},
     "output_type": "execute_result"
    }
   ],
   "source": [
    "print(cities.shape)\n",
    "cities.head()\n"
   ]
  },
  {
   "cell_type": "code",
   "execution_count": 17,
   "metadata": {},
   "outputs": [
    {
     "name": "stdout",
     "output_type": "stream",
     "text": [
      "(214, 11)\n"
     ]
    },
    {
     "data": {
      "text/html": [
       "<div><style>\n",
       ".dataframe > thead > tr > th,\n",
       ".dataframe > tbody > tr > td {\n",
       "  text-align: right;\n",
       "  white-space: pre-wrap;\n",
       "}\n",
       "</style>\n",
       "<small>shape: (5, 11)</small><table border=\"1\" class=\"dataframe\"><thead><tr><th>country</th><th>native_name</th><th>iso2</th><th>iso3</th><th>population</th><th>area</th><th>capital</th><th>capital_lat</th><th>capital_lng</th><th>region</th><th>continent</th></tr><tr><td>str</td><td>str</td><td>str</td><td>str</td><td>f64</td><td>f64</td><td>str</td><td>f64</td><td>f64</td><td>str</td><td>str</td></tr></thead><tbody><tr><td>&quot;Afghanistan&quot;</td><td>&quot;افغانستان&quot;</td><td>&quot;AF&quot;</td><td>&quot;AFG&quot;</td><td>2.60231e7</td><td>652230.0</td><td>&quot;Kabul&quot;</td><td>34.526011</td><td>69.177684</td><td>&quot;Southern and C…</td><td>&quot;Asia&quot;</td></tr><tr><td>&quot;Albania&quot;</td><td>&quot;Shqipëria&quot;</td><td>&quot;AL&quot;</td><td>&quot;ALB&quot;</td><td>2.895947e6</td><td>28748.0</td><td>&quot;Tirana&quot;</td><td>41.326873</td><td>19.818791</td><td>&quot;Southern Europ…</td><td>&quot;Europe&quot;</td></tr><tr><td>&quot;Algeria&quot;</td><td>&quot;الجزائر&quot;</td><td>&quot;DZ&quot;</td><td>&quot;DZA&quot;</td><td>3.87e7</td><td>2.381741e6</td><td>&quot;Algiers&quot;</td><td>36.775361</td><td>3.060188</td><td>&quot;Northern Afric…</td><td>&quot;Africa&quot;</td></tr><tr><td>&quot;American Samoa…</td><td>&quot;American Samoa…</td><td>&quot;AS&quot;</td><td>&quot;ASM&quot;</td><td>55519.0</td><td>199.0</td><td>&quot;Pago Pago&quot;</td><td>-14.275479</td><td>-170.70483</td><td>&quot;Polynesia&quot;</td><td>&quot;Oceania&quot;</td></tr><tr><td>&quot;Angola&quot;</td><td>&quot;Angola&quot;</td><td>&quot;AO&quot;</td><td>&quot;AGO&quot;</td><td>2.4383301e7</td><td>1.2467e6</td><td>&quot;Luanda&quot;</td><td>-8.82727</td><td>13.243951</td><td>&quot;Central Africa…</td><td>&quot;Africa&quot;</td></tr></tbody></table></div>"
      ],
      "text/plain": [
       "shape: (5, 11)\n",
       "┌─────────────┬─────────────┬──────┬──────┬───┬─────────────┬─────────────┬────────────┬───────────┐\n",
       "│ country     ┆ native_name ┆ iso2 ┆ iso3 ┆ … ┆ capital_lat ┆ capital_lng ┆ region     ┆ continent │\n",
       "│ ---         ┆ ---         ┆ ---  ┆ ---  ┆   ┆ ---         ┆ ---         ┆ ---        ┆ ---       │\n",
       "│ str         ┆ str         ┆ str  ┆ str  ┆   ┆ f64         ┆ f64         ┆ str        ┆ str       │\n",
       "╞═════════════╪═════════════╪══════╪══════╪═══╪═════════════╪═════════════╪════════════╪═══════════╡\n",
       "│ Afghanistan ┆ افغانستان   ┆ AF   ┆ AFG  ┆ … ┆ 34.526011   ┆ 69.177684   ┆ Southern   ┆ Asia      │\n",
       "│             ┆             ┆      ┆      ┆   ┆             ┆             ┆ and        ┆           │\n",
       "│             ┆             ┆      ┆      ┆   ┆             ┆             ┆ Central    ┆           │\n",
       "│             ┆             ┆      ┆      ┆   ┆             ┆             ┆ Asia       ┆           │\n",
       "│ Albania     ┆ Shqipëria   ┆ AL   ┆ ALB  ┆ … ┆ 41.326873   ┆ 19.818791   ┆ Southern   ┆ Europe    │\n",
       "│             ┆             ┆      ┆      ┆   ┆             ┆             ┆ Europe     ┆           │\n",
       "│ Algeria     ┆ الجزائر     ┆ DZ   ┆ DZA  ┆ … ┆ 36.775361   ┆ 3.060188    ┆ Northern   ┆ Africa    │\n",
       "│             ┆             ┆      ┆      ┆   ┆             ┆             ┆ Africa     ┆           │\n",
       "│ American    ┆ American    ┆ AS   ┆ ASM  ┆ … ┆ -14.275479  ┆ -170.70483  ┆ Polynesia  ┆ Oceania   │\n",
       "│ Samoa       ┆ Samoa       ┆      ┆      ┆   ┆             ┆             ┆            ┆           │\n",
       "│ Angola      ┆ Angola      ┆ AO   ┆ AGO  ┆ … ┆ -8.82727    ┆ 13.243951   ┆ Central    ┆ Africa    │\n",
       "│             ┆             ┆      ┆      ┆   ┆             ┆             ┆ Africa     ┆           │\n",
       "└─────────────┴─────────────┴──────┴──────┴───┴─────────────┴─────────────┴────────────┴───────────┘"
      ]
     },
     "execution_count": 17,
     "metadata": {},
     "output_type": "execute_result"
    }
   ],
   "source": [
    "print(countries.shape)\n",
    "countries.head()"
   ]
  },
  {
   "cell_type": "code",
   "execution_count": 19,
   "metadata": {},
   "outputs": [
    {
     "name": "stdout",
     "output_type": "stream",
     "text": [
      "(27635763, 15)\n"
     ]
    },
    {
     "data": {
      "text/html": [
       "<div><style>\n",
       ".dataframe > thead > tr > th,\n",
       ".dataframe > tbody > tr > td {\n",
       "  text-align: right;\n",
       "  white-space: pre-wrap;\n",
       "}\n",
       "</style>\n",
       "<small>shape: (5, 15)</small><table border=\"1\" class=\"dataframe\"><thead><tr><th>station_id</th><th>city_name</th><th>date</th><th>season</th><th>avg_temp_c</th><th>min_temp_c</th><th>max_temp_c</th><th>precipitation_mm</th><th>snow_depth_mm</th><th>avg_wind_dir_deg</th><th>avg_wind_speed_kmh</th><th>peak_wind_gust_kmh</th><th>avg_sea_level_pres_hpa</th><th>sunshine_total_min</th><th>__index_level_0__</th></tr><tr><td>cat</td><td>cat</td><td>datetime[ns]</td><td>cat</td><td>f64</td><td>f64</td><td>f64</td><td>f64</td><td>f64</td><td>f64</td><td>f64</td><td>f64</td><td>f64</td><td>f64</td><td>i64</td></tr></thead><tbody><tr><td>&quot;41515&quot;</td><td>&quot;Asadabad&quot;</td><td>1957-07-01 00:00:00</td><td>&quot;Summer&quot;</td><td>27.0</td><td>21.1</td><td>35.6</td><td>0.0</td><td>null</td><td>null</td><td>null</td><td>null</td><td>null</td><td>null</td><td>0</td></tr><tr><td>&quot;41515&quot;</td><td>&quot;Asadabad&quot;</td><td>1957-07-02 00:00:00</td><td>&quot;Summer&quot;</td><td>22.8</td><td>18.9</td><td>32.2</td><td>0.0</td><td>null</td><td>null</td><td>null</td><td>null</td><td>null</td><td>null</td><td>1</td></tr><tr><td>&quot;41515&quot;</td><td>&quot;Asadabad&quot;</td><td>1957-07-03 00:00:00</td><td>&quot;Summer&quot;</td><td>24.3</td><td>16.7</td><td>35.6</td><td>1.0</td><td>null</td><td>null</td><td>null</td><td>null</td><td>null</td><td>null</td><td>2</td></tr><tr><td>&quot;41515&quot;</td><td>&quot;Asadabad&quot;</td><td>1957-07-04 00:00:00</td><td>&quot;Summer&quot;</td><td>26.6</td><td>16.1</td><td>37.8</td><td>4.1</td><td>null</td><td>null</td><td>null</td><td>null</td><td>null</td><td>null</td><td>3</td></tr><tr><td>&quot;41515&quot;</td><td>&quot;Asadabad&quot;</td><td>1957-07-05 00:00:00</td><td>&quot;Summer&quot;</td><td>30.8</td><td>20.0</td><td>41.7</td><td>0.0</td><td>null</td><td>null</td><td>null</td><td>null</td><td>null</td><td>null</td><td>4</td></tr></tbody></table></div>"
      ],
      "text/plain": [
       "shape: (5, 15)\n",
       "┌────────────┬───────────┬────────────┬────────┬───┬───────────┬───────────┬───────────┬───────────┐\n",
       "│ station_id ┆ city_name ┆ date       ┆ season ┆ … ┆ peak_wind ┆ avg_sea_l ┆ sunshine_ ┆ __index_l │\n",
       "│ ---        ┆ ---       ┆ ---        ┆ ---    ┆   ┆ _gust_kmh ┆ evel_pres ┆ total_min ┆ evel_0__  │\n",
       "│ cat        ┆ cat       ┆ datetime[n ┆ cat    ┆   ┆ ---       ┆ _hpa      ┆ ---       ┆ ---       │\n",
       "│            ┆           ┆ s]         ┆        ┆   ┆ f64       ┆ ---       ┆ f64       ┆ i64       │\n",
       "│            ┆           ┆            ┆        ┆   ┆           ┆ f64       ┆           ┆           │\n",
       "╞════════════╪═══════════╪════════════╪════════╪═══╪═══════════╪═══════════╪═══════════╪═══════════╡\n",
       "│ 41515      ┆ Asadabad  ┆ 1957-07-01 ┆ Summer ┆ … ┆ null      ┆ null      ┆ null      ┆ 0         │\n",
       "│            ┆           ┆ 00:00:00   ┆        ┆   ┆           ┆           ┆           ┆           │\n",
       "│ 41515      ┆ Asadabad  ┆ 1957-07-02 ┆ Summer ┆ … ┆ null      ┆ null      ┆ null      ┆ 1         │\n",
       "│            ┆           ┆ 00:00:00   ┆        ┆   ┆           ┆           ┆           ┆           │\n",
       "│ 41515      ┆ Asadabad  ┆ 1957-07-03 ┆ Summer ┆ … ┆ null      ┆ null      ┆ null      ┆ 2         │\n",
       "│            ┆           ┆ 00:00:00   ┆        ┆   ┆           ┆           ┆           ┆           │\n",
       "│ 41515      ┆ Asadabad  ┆ 1957-07-04 ┆ Summer ┆ … ┆ null      ┆ null      ┆ null      ┆ 3         │\n",
       "│            ┆           ┆ 00:00:00   ┆        ┆   ┆           ┆           ┆           ┆           │\n",
       "│ 41515      ┆ Asadabad  ┆ 1957-07-05 ┆ Summer ┆ … ┆ null      ┆ null      ┆ null      ┆ 4         │\n",
       "│            ┆           ┆ 00:00:00   ┆        ┆   ┆           ┆           ┆           ┆           │\n",
       "└────────────┴───────────┴────────────┴────────┴───┴───────────┴───────────┴───────────┴───────────┘"
      ]
     },
     "execution_count": 19,
     "metadata": {},
     "output_type": "execute_result"
    }
   ],
   "source": [
    "print(daily_weather.shape)\n",
    "daily_weather.head()"
   ]
  },
  {
   "cell_type": "code",
   "execution_count": 30,
   "metadata": {},
   "outputs": [
    {
     "data": {
      "text/html": [
       "<div><style>\n",
       ".dataframe > thead > tr > th,\n",
       ".dataframe > tbody > tr > td {\n",
       "  text-align: right;\n",
       "  white-space: pre-wrap;\n",
       "}\n",
       "</style>\n",
       "<small>shape: (10, 2)</small><table border=\"1\" class=\"dataframe\"><thead><tr><th>country</th><th>count</th></tr><tr><td>str</td><td>u32</td></tr></thead><tbody><tr><td>&quot;Russia&quot;</td><td>77</td></tr><tr><td>&quot;United States …</td><td>49</td></tr><tr><td>&quot;Turkey&quot;</td><td>44</td></tr><tr><td>&quot;Thailand&quot;</td><td>38</td></tr><tr><td>&quot;India&quot;</td><td>29</td></tr><tr><td>&quot;Algeria&quot;</td><td>27</td></tr><tr><td>&quot;Iran&quot;</td><td>26</td></tr><tr><td>&quot;China&quot;</td><td>25</td></tr><tr><td>&quot;Mexico&quot;</td><td>25</td></tr><tr><td>&quot;Indonesia&quot;</td><td>24</td></tr></tbody></table></div>"
      ],
      "text/plain": [
       "shape: (10, 2)\n",
       "┌──────────────────────────┬───────┐\n",
       "│ country                  ┆ count │\n",
       "│ ---                      ┆ ---   │\n",
       "│ str                      ┆ u32   │\n",
       "╞══════════════════════════╪═══════╡\n",
       "│ Russia                   ┆ 77    │\n",
       "│ United States of America ┆ 49    │\n",
       "│ Turkey                   ┆ 44    │\n",
       "│ Thailand                 ┆ 38    │\n",
       "│ …                        ┆ …     │\n",
       "│ Iran                     ┆ 26    │\n",
       "│ China                    ┆ 25    │\n",
       "│ Mexico                   ┆ 25    │\n",
       "│ Indonesia                ┆ 24    │\n",
       "└──────────────────────────┴───────┘"
      ]
     },
     "execution_count": 30,
     "metadata": {},
     "output_type": "execute_result"
    }
   ],
   "source": [
    "cities.group_by(\"country\").agg(pl.count(\"country\").alias(\"count\")).sort(\n",
    "    \"count\", descending=True\n",
    ").head(10)"
   ]
  },
  {
   "cell_type": "markdown",
   "metadata": {},
   "source": [
    "We can see that both the cities dataaframe and the daily_weather dataframe have a column called \"station_id\" meaning that we can join the two dataframes on this column. Additionally, we can add information about the countries by joining the cities dataframe with the countries dataframe on the \"country\" column."
   ]
  },
  {
   "cell_type": "code",
   "execution_count": 36,
   "metadata": {},
   "outputs": [],
   "source": [
    "daily_weather = daily_weather.with_columns([\n",
    "    (pl.col(\"station_id\").cast(pl.Utf8)).alias(\"station_id\"),\n",
    "])\n",
    "weather_country = daily_weather.join(cities, on=\"station_id\", how=\"left\")"
   ]
  },
  {
   "cell_type": "code",
   "execution_count": 39,
   "metadata": {},
   "outputs": [
    {
     "name": "stdout",
     "output_type": "stream",
     "text": [
      "(28388191, 32)\n"
     ]
    },
    {
     "data": {
      "text/html": [
       "<div><style>\n",
       ".dataframe > thead > tr > th,\n",
       ".dataframe > tbody > tr > td {\n",
       "  text-align: right;\n",
       "  white-space: pre-wrap;\n",
       "}\n",
       "</style>\n",
       "<small>shape: (5, 32)</small><table border=\"1\" class=\"dataframe\"><thead><tr><th>station_id</th><th>city_name</th><th>date</th><th>season</th><th>avg_temp_c</th><th>min_temp_c</th><th>max_temp_c</th><th>precipitation_mm</th><th>snow_depth_mm</th><th>avg_wind_dir_deg</th><th>avg_wind_speed_kmh</th><th>peak_wind_gust_kmh</th><th>avg_sea_level_pres_hpa</th><th>sunshine_total_min</th><th>__index_level_0__</th><th>city_name_right</th><th>country</th><th>state</th><th>iso2</th><th>iso3</th><th>latitude</th><th>longitude</th><th>native_name</th><th>iso2_right</th><th>iso3_right</th><th>population</th><th>area</th><th>capital</th><th>capital_lat</th><th>capital_lng</th><th>region</th><th>continent</th></tr><tr><td>str</td><td>cat</td><td>datetime[ns]</td><td>cat</td><td>f64</td><td>f64</td><td>f64</td><td>f64</td><td>f64</td><td>f64</td><td>f64</td><td>f64</td><td>f64</td><td>f64</td><td>i64</td><td>str</td><td>str</td><td>str</td><td>str</td><td>str</td><td>f64</td><td>f64</td><td>str</td><td>str</td><td>str</td><td>f64</td><td>f64</td><td>str</td><td>f64</td><td>f64</td><td>str</td><td>str</td></tr></thead><tbody><tr><td>&quot;41515&quot;</td><td>&quot;Asadabad&quot;</td><td>1957-07-01 00:00:00</td><td>&quot;Summer&quot;</td><td>27.0</td><td>21.1</td><td>35.6</td><td>0.0</td><td>null</td><td>null</td><td>null</td><td>null</td><td>null</td><td>null</td><td>0</td><td>&quot;Asadabad&quot;</td><td>&quot;Afghanistan&quot;</td><td>&quot;Kunar&quot;</td><td>&quot;AF&quot;</td><td>&quot;AFG&quot;</td><td>34.866</td><td>71.150005</td><td>&quot;افغانستان&quot;</td><td>&quot;AF&quot;</td><td>&quot;AFG&quot;</td><td>2.60231e7</td><td>652230.0</td><td>&quot;Kabul&quot;</td><td>34.526011</td><td>69.177684</td><td>&quot;Southern and C…</td><td>&quot;Asia&quot;</td></tr><tr><td>&quot;41515&quot;</td><td>&quot;Asadabad&quot;</td><td>1957-07-02 00:00:00</td><td>&quot;Summer&quot;</td><td>22.8</td><td>18.9</td><td>32.2</td><td>0.0</td><td>null</td><td>null</td><td>null</td><td>null</td><td>null</td><td>null</td><td>1</td><td>&quot;Asadabad&quot;</td><td>&quot;Afghanistan&quot;</td><td>&quot;Kunar&quot;</td><td>&quot;AF&quot;</td><td>&quot;AFG&quot;</td><td>34.866</td><td>71.150005</td><td>&quot;افغانستان&quot;</td><td>&quot;AF&quot;</td><td>&quot;AFG&quot;</td><td>2.60231e7</td><td>652230.0</td><td>&quot;Kabul&quot;</td><td>34.526011</td><td>69.177684</td><td>&quot;Southern and C…</td><td>&quot;Asia&quot;</td></tr><tr><td>&quot;41515&quot;</td><td>&quot;Asadabad&quot;</td><td>1957-07-03 00:00:00</td><td>&quot;Summer&quot;</td><td>24.3</td><td>16.7</td><td>35.6</td><td>1.0</td><td>null</td><td>null</td><td>null</td><td>null</td><td>null</td><td>null</td><td>2</td><td>&quot;Asadabad&quot;</td><td>&quot;Afghanistan&quot;</td><td>&quot;Kunar&quot;</td><td>&quot;AF&quot;</td><td>&quot;AFG&quot;</td><td>34.866</td><td>71.150005</td><td>&quot;افغانستان&quot;</td><td>&quot;AF&quot;</td><td>&quot;AFG&quot;</td><td>2.60231e7</td><td>652230.0</td><td>&quot;Kabul&quot;</td><td>34.526011</td><td>69.177684</td><td>&quot;Southern and C…</td><td>&quot;Asia&quot;</td></tr><tr><td>&quot;41515&quot;</td><td>&quot;Asadabad&quot;</td><td>1957-07-04 00:00:00</td><td>&quot;Summer&quot;</td><td>26.6</td><td>16.1</td><td>37.8</td><td>4.1</td><td>null</td><td>null</td><td>null</td><td>null</td><td>null</td><td>null</td><td>3</td><td>&quot;Asadabad&quot;</td><td>&quot;Afghanistan&quot;</td><td>&quot;Kunar&quot;</td><td>&quot;AF&quot;</td><td>&quot;AFG&quot;</td><td>34.866</td><td>71.150005</td><td>&quot;افغانستان&quot;</td><td>&quot;AF&quot;</td><td>&quot;AFG&quot;</td><td>2.60231e7</td><td>652230.0</td><td>&quot;Kabul&quot;</td><td>34.526011</td><td>69.177684</td><td>&quot;Southern and C…</td><td>&quot;Asia&quot;</td></tr><tr><td>&quot;41515&quot;</td><td>&quot;Asadabad&quot;</td><td>1957-07-05 00:00:00</td><td>&quot;Summer&quot;</td><td>30.8</td><td>20.0</td><td>41.7</td><td>0.0</td><td>null</td><td>null</td><td>null</td><td>null</td><td>null</td><td>null</td><td>4</td><td>&quot;Asadabad&quot;</td><td>&quot;Afghanistan&quot;</td><td>&quot;Kunar&quot;</td><td>&quot;AF&quot;</td><td>&quot;AFG&quot;</td><td>34.866</td><td>71.150005</td><td>&quot;افغانستان&quot;</td><td>&quot;AF&quot;</td><td>&quot;AFG&quot;</td><td>2.60231e7</td><td>652230.0</td><td>&quot;Kabul&quot;</td><td>34.526011</td><td>69.177684</td><td>&quot;Southern and C…</td><td>&quot;Asia&quot;</td></tr></tbody></table></div>"
      ],
      "text/plain": [
       "shape: (5, 32)\n",
       "┌────────────┬───────────┬────────────┬────────┬───┬───────────┬───────────┬───────────┬───────────┐\n",
       "│ station_id ┆ city_name ┆ date       ┆ season ┆ … ┆ capital_l ┆ capital_l ┆ region    ┆ continent │\n",
       "│ ---        ┆ ---       ┆ ---        ┆ ---    ┆   ┆ at        ┆ ng        ┆ ---       ┆ ---       │\n",
       "│ str        ┆ cat       ┆ datetime[n ┆ cat    ┆   ┆ ---       ┆ ---       ┆ str       ┆ str       │\n",
       "│            ┆           ┆ s]         ┆        ┆   ┆ f64       ┆ f64       ┆           ┆           │\n",
       "╞════════════╪═══════════╪════════════╪════════╪═══╪═══════════╪═══════════╪═══════════╪═══════════╡\n",
       "│ 41515      ┆ Asadabad  ┆ 1957-07-01 ┆ Summer ┆ … ┆ 34.526011 ┆ 69.177684 ┆ Southern  ┆ Asia      │\n",
       "│            ┆           ┆ 00:00:00   ┆        ┆   ┆           ┆           ┆ and       ┆           │\n",
       "│            ┆           ┆            ┆        ┆   ┆           ┆           ┆ Central   ┆           │\n",
       "│            ┆           ┆            ┆        ┆   ┆           ┆           ┆ Asia      ┆           │\n",
       "│ 41515      ┆ Asadabad  ┆ 1957-07-02 ┆ Summer ┆ … ┆ 34.526011 ┆ 69.177684 ┆ Southern  ┆ Asia      │\n",
       "│            ┆           ┆ 00:00:00   ┆        ┆   ┆           ┆           ┆ and       ┆           │\n",
       "│            ┆           ┆            ┆        ┆   ┆           ┆           ┆ Central   ┆           │\n",
       "│            ┆           ┆            ┆        ┆   ┆           ┆           ┆ Asia      ┆           │\n",
       "│ 41515      ┆ Asadabad  ┆ 1957-07-03 ┆ Summer ┆ … ┆ 34.526011 ┆ 69.177684 ┆ Southern  ┆ Asia      │\n",
       "│            ┆           ┆ 00:00:00   ┆        ┆   ┆           ┆           ┆ and       ┆           │\n",
       "│            ┆           ┆            ┆        ┆   ┆           ┆           ┆ Central   ┆           │\n",
       "│            ┆           ┆            ┆        ┆   ┆           ┆           ┆ Asia      ┆           │\n",
       "│ 41515      ┆ Asadabad  ┆ 1957-07-04 ┆ Summer ┆ … ┆ 34.526011 ┆ 69.177684 ┆ Southern  ┆ Asia      │\n",
       "│            ┆           ┆ 00:00:00   ┆        ┆   ┆           ┆           ┆ and       ┆           │\n",
       "│            ┆           ┆            ┆        ┆   ┆           ┆           ┆ Central   ┆           │\n",
       "│            ┆           ┆            ┆        ┆   ┆           ┆           ┆ Asia      ┆           │\n",
       "│ 41515      ┆ Asadabad  ┆ 1957-07-05 ┆ Summer ┆ … ┆ 34.526011 ┆ 69.177684 ┆ Southern  ┆ Asia      │\n",
       "│            ┆           ┆ 00:00:00   ┆        ┆   ┆           ┆           ┆ and       ┆           │\n",
       "│            ┆           ┆            ┆        ┆   ┆           ┆           ┆ Central   ┆           │\n",
       "│            ┆           ┆            ┆        ┆   ┆           ┆           ┆ Asia      ┆           │\n",
       "└────────────┴───────────┴────────────┴────────┴───┴───────────┴───────────┴───────────┴───────────┘"
      ]
     },
     "execution_count": 39,
     "metadata": {},
     "output_type": "execute_result"
    }
   ],
   "source": [
    "weather_full = weather_country.join(countries, on=\"country\", how=\"left\")\n",
    "print(weather_full.shape)\n",
    "weather_full.head()"
   ]
  },
  {
   "cell_type": "code",
   "execution_count": null,
   "metadata": {},
   "outputs": [],
   "source": []
  }
 ],
 "metadata": {
  "kernelspec": {
   "display_name": "MachineLearning",
   "language": "python",
   "name": "python3"
  },
  "language_info": {
   "codemirror_mode": {
    "name": "ipython",
    "version": 3
   },
   "file_extension": ".py",
   "mimetype": "text/x-python",
   "name": "python",
   "nbconvert_exporter": "python",
   "pygments_lexer": "ipython3",
   "version": "3.10.12"
  }
 },
 "nbformat": 4,
 "nbformat_minor": 2
}
