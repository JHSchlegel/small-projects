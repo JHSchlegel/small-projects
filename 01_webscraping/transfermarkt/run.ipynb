{
 "cells": [
  {
   "cell_type": "code",
   "execution_count": 1,
   "metadata": {},
   "outputs": [],
   "source": [
    "%load_ext autoreload\n",
    "%autoreload 2"
   ]
  },
  {
   "cell_type": "code",
   "execution_count": 2,
   "metadata": {},
   "outputs": [
    {
     "name": "stdout",
     "output_type": "stream",
     "text": [
      "Initializing Webdriver at local time: 23:19:46\n",
      "Cookies accepted\n",
      "Exiting...\n",
      "Error occured.\n",
      "Message: stale element reference: stale element not found\n",
      "  (Session info: chrome=115.0.5790.170)\n",
      "\n"
     ]
    }
   ],
   "source": [
    "from football.football import Transfer\n",
    "\n",
    "# with Booking(teardown = True) as bot:\n",
    "# if browser should be closed in the end\n",
    "try:\n",
    "    with Transfer(teardown = True) as bot:\n",
    "        bot.land_first_page()\n",
    "        bot.close_popup()\n",
    "        #page_1 = bot.get_report()\n",
    "        pages = bot.click_next()\n",
    "\n",
    "except Exception as e:\n",
    "    print(\"Error occured.\")\n",
    "    print(e)"
   ]
  },
  {
   "cell_type": "code",
   "execution_count": 15,
   "metadata": {},
   "outputs": [
    {
     "name": "stdout",
     "output_type": "stream",
     "text": [
      "                                                                        1  \\\n",
      "Manchester City         {'Ederson': ['31', 'Torwart', '40,00 Mio. € ']...   \n",
      "FC Arsenal              {'Aaron Ramsdale': ['1', 'Torwart', '40,00 Mio...   \n",
      "FC Paris Saint-Germain  {'Gianluigi Donnarumma': ['99', 'Torwart', '45...   \n",
      "Real Madrid             {'Thibaut Courtois': ['1', 'Torwart', '45,00 M...   \n",
      "FC Chelsea              {'Robert Sánchez': ['-', 'Torwart', '22,00 Mio...   \n",
      "...                                                                   ...   \n",
      "CA Paranaense                                                         NaN   \n",
      "Trabzonspor                                                           NaN   \n",
      "Spartak Moskau                                                        NaN   \n",
      "AZ Alkmaar                                                            NaN   \n",
      "US Salernitana 1919                                                   NaN   \n",
      "\n",
      "                          2    3  \\\n",
      "Manchester City         NaN  NaN   \n",
      "FC Arsenal              NaN  NaN   \n",
      "FC Paris Saint-Germain  NaN  NaN   \n",
      "Real Madrid             NaN  NaN   \n",
      "FC Chelsea              NaN  NaN   \n",
      "...                     ...  ...   \n",
      "CA Paranaense           NaN  NaN   \n",
      "Trabzonspor             NaN  NaN   \n",
      "Spartak Moskau          NaN  NaN   \n",
      "AZ Alkmaar              NaN  NaN   \n",
      "US Salernitana 1919     NaN  NaN   \n",
      "\n",
      "                                                                        4  \n",
      "Manchester City                                                       NaN  \n",
      "FC Arsenal                                                            NaN  \n",
      "FC Paris Saint-Germain                                                NaN  \n",
      "Real Madrid                                                           NaN  \n",
      "FC Chelsea                                                            NaN  \n",
      "...                                                                   ...  \n",
      "CA Paranaense           {'Bento': ['1', 'Torwart', '9,00 Mio. €  '], '...  \n",
      "Trabzonspor             {'Ugurcan Cakir ': ['1', 'Torwart', '12,00 Mio...  \n",
      "Spartak Moskau          {'Aleksandr Selikhov': ['57', 'Torwart', '3,00...  \n",
      "AZ Alkmaar              {'Mathew Ryan': ['1', 'Torwart', '4,00 Mio. € ...  \n",
      "US Salernitana 1919     {'Guillermo Ochoa': ['13', 'Torwart', '1,50 Mi...  \n",
      "\n",
      "[100 rows x 4 columns]\n"
     ]
    }
   ],
   "source": [
    "import json\n",
    "import pandas as pd\n",
    "\n",
    "def flatten_json(data):\n",
    "        res = {}\n",
    "        def flatten(x, name=''):\n",
    "            if type(x) is dict:\n",
    "                for a in x:\n",
    "                    flatten(x[a], name + a + '_')\n",
    "            elif type(x) is list:\n",
    "                i = 0\n",
    "                for a in x:\n",
    "                    flatten(a, name + str(i) + '_')\n",
    "                    i += 1\n",
    "            else:\n",
    "                res[name[:-1]] = x\n",
    "        flatten(data)\n",
    "        return res\n",
    "\n",
    "with open(\"pages.json\", \"r\") as f:\n",
    "    df = pd.read_json(f)\n",
    "    #data = json.load(f)\n",
    "    #print(flatten_json(data))\n",
    "    df2 = pd.json_normalize(df, record_path = )\n",
    "    print(df)"
   ]
  }
 ],
 "metadata": {
  "kernelspec": {
   "display_name": "MachineLearning",
   "language": "python",
   "name": "python3"
  },
  "language_info": {
   "codemirror_mode": {
    "name": "ipython",
    "version": 3
   },
   "file_extension": ".py",
   "mimetype": "text/x-python",
   "name": "python",
   "nbconvert_exporter": "python",
   "pygments_lexer": "ipython3",
   "version": "3.10.12"
  },
  "orig_nbformat": 4
 },
 "nbformat": 4,
 "nbformat_minor": 2
}
